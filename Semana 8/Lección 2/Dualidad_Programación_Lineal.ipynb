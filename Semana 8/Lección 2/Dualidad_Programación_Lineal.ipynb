{
 "cells": [
  {
   "cell_type": "markdown",
   "metadata": {},
   "source": [
    "![Banner](img/banner.png)"
   ]
  },
  {
   "cell_type": "markdown",
   "metadata": {},
   "source": [
    "# **Actividad No.2:** Dualidad en programación lineal\n",
    "\n",
    "***Matemáticas para Machine Learning***.\n",
    "\n",
    "**Semana 8 - Lección 2:** Dualidad.\n",
    "\n",
    "**Profesor:** *Fernando Lozano* - **Autor Notebook:** *Sergio David Salazar Isairias*"
   ]
  },
  {
   "cell_type": "markdown",
   "metadata": {},
   "source": [
    "# Introducción"
   ]
  },
  {
   "cell_type": "markdown",
   "metadata": {},
   "source": [
    "## Descripción"
   ]
  },
  {
   "cell_type": "markdown",
   "metadata": {},
   "source": [
    "El presente *jupyter notebook* contine todo el material para el desarrollo de la actividad 2 de la semana 8 del curso ***Matemáticas para Machine Learning***, correspondiente a la lección 2: Dualidad. En este se utilizará el conocimiento adquirido sobre dualidad en programación lineal para generar conclusiones sobre los parámetros del problema primal.\n",
    "\n",
    "**Objetivos de Aprendizaje:**\n",
    "\n",
    "*   Formular el problema dual de un problema de optimización con restricciones de igualdad y de desigualdad.\n",
    "*   Interpretar solución primal y dual en un problema de optimización convexo en el que hay dualidad fuerte. "
   ]
  },
  {
   "cell_type": "markdown",
   "metadata": {},
   "source": [
    "## Metodología"
   ]
  },
  {
   "cell_type": "markdown",
   "metadata": {},
   "source": [
    "Para desarrollar el taller usted deberá editar las celdas de código dispuestas para esto. Estas estarán marcadas con el siguiente comentario:\n",
    "\n",
    "```python\n",
    "# =====================================================\n",
    "# COMPLETAR ===========================================\n",
    "# \n",
    "\n",
    "# =====================================================\n",
    "```\n",
    "\n",
    "Edite o complete el códgio dentro de estas lineas de comentarios. Dentro de estos comentarios encontrará indicaciónes de lo que debe hacer, así como algunas de las variables que debe utilizar o calcular (puede que estas tengan ya una estructura para llenar o esten solo igualadas a None, complete la asignación)."
   ]
  },
  {
   "cell_type": "markdown",
   "metadata": {},
   "source": [
    "# Teoría"
   ]
  },
  {
   "cell_type": "markdown",
   "metadata": {},
   "source": [
    "Se tiene el siguiente problema de programación en forma estándar.\n",
    "\n",
    "$$ \\begin{array}{rl}\n",
    "\\min_{x} & c^{T}x \\\\\n",
    "\\text{s.a} & Ax = b\\\\\n",
    " & x \\geq 0\n",
    "\\end{array} $$\n",
    "\n",
    "Ahora, idetifiquese el problema **dual** asociado. Para ello se plantea el lagrangiano del problema anterior.\n",
    "$$\\mathcal{L(x,\\lambda,u)}=c^{T}x+\\lambda^{T}(b-Ax) - u^{T}x$$\n",
    "$$\\mathcal{L(x,\\lambda,u)}=(c-A^{T}\\lambda-u)^{T}x+\\lambda^{T}b$$\n",
    "\n",
    "Luego, considere la función $q(\\lambda,\\mu)$, donde $q(\\lambda,\\mu)=\\min_{x}\\mathcal{L}(x,\\lambda,\\mu)$. Note que $q(\\lambda,\\mu)$ es cota inferior de $f(x)$, con $x$ un punto factible del problema primal\n",
    "\n",
    "Para definir $q(\\lambda,\\mu)$ es necesario minimizar el lagrangiano respecto a $x$, por lo que se calcula la derivada parcial.\n",
    "$$\n",
    "\\begin{array}{rl}\n",
    "\\frac{\\partial \\mathcal{L}(x,\\lambda,u)}{\\partial x}&=c-A^{T}\\lambda-u = 0\n",
    "\\end{array}$$\n",
    "\n",
    "El vector de multiplicadores de Lagrange $u$ es mayor o igual a cero, entonces $c-A^{T}\\lambda\\geq 0$, es decir, $A^{T}\\lambda \\geq c$. Es decir, región factible de $q(\\lambda,\\mu)$ son aquellos puntos tal que $c-A^{T}\\lambda \\geq 0$ y $u \\geq 0$.\n",
    "\n",
    "Como se menciono $q(\\lambda,\\mu)$ es cota inferior de $f(x)$, no obstante ¿es la mejor cota posible? No necesariamente, es por ello que se formula un problema auxiliar (dual) el cual busca maximizar la cota inferior para $f(x)$.\n",
    "\n",
    "$$ \\begin{array}{rl}\n",
    "\\max_{\\lambda} & b^{T}\\lambda \\\\\n",
    "\\text{s.a} & A^{T}\\lambda \\leq c\n",
    "\\end{array} $$\n"
   ]
  },
  {
   "cell_type": "markdown",
   "metadata": {},
   "source": [
    "# Inicialización"
   ]
  },
  {
   "cell_type": "code",
   "execution_count": 2,
   "metadata": {},
   "outputs": [],
   "source": [
    "# Básico\n",
    "from sympy import *\n",
    "import numpy as np\n",
    "import matplotlib.pyplot as plt\n",
    "\n",
    "from mpl_toolkits.mplot3d import Axes3D"
   ]
  },
  {
   "cell_type": "markdown",
   "metadata": {},
   "source": [
    "# Ejemplo"
   ]
  },
  {
   "cell_type": "markdown",
   "metadata": {},
   "source": [
    "## Relación entre el problema primal y dual"
   ]
  },
  {
   "cell_type": "markdown",
   "metadata": {},
   "source": [
    "Se plantea el siguiente problema de problemación lineal.\n",
    "\n",
    "$$\\textbf{Problema primal}$$\n",
    "\n",
    "$$\n",
    "\\max \\left[\\begin{array}{c}\n",
    "3 & 2\n",
    "\\end{array}\\right]\\left[\\begin{array}{c}\n",
    "x_{1} \\\\\n",
    "x_{2}\n",
    "\\end{array}\\right]\\\\\n",
    "\\left[\n",
    "\\begin{array}{cc}\n",
    "1 & 2\\\\\n",
    "2 & 1\\\\\n",
    "2 & 3\n",
    "\\end{array}\\right]\n",
    "\\left[\\begin{array}{c}\n",
    "x_{1} \\\\\n",
    "x_{2}\n",
    "\\end{array}\\right]\n",
    "\\leq\n",
    "\\left[\\begin{array}{c}\n",
    "600 \\\\\n",
    "900 \\\\\n",
    "1200\n",
    "\\end{array}\n",
    "\\right]\\\\\n",
    "x_{1},x_{2}\\geq 0$$"
   ]
  },
  {
   "cell_type": "markdown",
   "metadata": {},
   "source": [
    "Luego, a través del procedimiento descrito se formula el problema dual.\n",
    "\n",
    "$$\\textbf{Problema dual}$$\n",
    "\n",
    "$$\n",
    "\\min \\left[\\begin{array}{c}\n",
    "600 & 900 & 1200\n",
    "\\end{array}\\right]\\left[\\begin{array}{c}\n",
    "\\lambda_{1} \\\\\n",
    "\\lambda_{2} \\\\\n",
    "\\lambda_{3} \n",
    "\\end{array}\\right]\\\\\n",
    "\\left[\n",
    "\\begin{array}{cc}\n",
    "1 & 2 & 2\\\\\n",
    "2 & 1 & 3\n",
    "\\end{array}\\right]\n",
    "\\left[\\begin{array}{c}\n",
    "\\lambda_{1} \\\\\n",
    "\\lambda_{2} \\\\\n",
    "\\lambda_{3} \n",
    "\\end{array}\\right]\n",
    "\\geq\n",
    "\\left[\\begin{array}{c}\n",
    "3 \\\\\n",
    "2\n",
    "\\end{array}\n",
    "\\right]\\\\\n",
    "\\lambda_{1}, \\lambda_{2}, \\lambda_{3}\\geq 0$$"
   ]
  },
  {
   "cell_type": "markdown",
   "metadata": {},
   "source": [
    "Después, se solucionaron los problemas, opteniendo los siguientes resultados: \n",
    "\n",
    "$$x_{1}=400, x_{2}=100$$\n",
    "\n",
    "$$\\lambda_{1}=1/3, \\lambda_{2}=4/3, \\lambda_{3}=0$$\n",
    "\n",
    "A continuación se calcula el valor de la función objetivo para cada problema.\n",
    "\n",
    "$$\\begin{align*}\n",
    "f_P &= 3(400)+2(100)\\\\\n",
    "f_P &= 1400\\\\\n",
    " &\\\\\n",
    "f_D &= 600(1/3)+900(4/3)+1200(0)\\\\\n",
    "f_D &= 1400\n",
    "\\end{align*}$$\n",
    "\n",
    "El valor de la función objetivo es $1400$ para ambos problemas, lo cual se debe a que el problema es acotado y existe un óptimo."
   ]
  },
  {
   "cell_type": "markdown",
   "metadata": {},
   "source": [
    "## Interpretación ecónomica"
   ]
  },
  {
   "cell_type": "markdown",
   "metadata": {},
   "source": [
    "**Contexto del ejercicio**\n",
    "\n",
    "La compañia de tecnología PAPPEL tiene dos productos insignia, el celular de gama alta MyPhone y la tablet preferida por diseñadores gráficos MinePad. El precio de venta de los productos es: 2 y 3 millones de pesos, respectivamente. Para producir un MyPhone se necesita un gramo de aluminio y dos gramos de silicio, mientras que para producir un MinePad se necesita un gramo de aluminio y un gramo de silicio. PAPPEL tiene en stock tres gramos de aluminio y cuatro de silicio. ¿Cuantós celulares y cuantás tablets debe producir PAPPEL para maximizar sus ingresos?\n",
    "\n",
    "**Formulación**\n",
    "\n",
    "El escenario descrito se modela como un problema de optimización lineal, de la siguiente forma.\n",
    "\n",
    "$$\n",
    "\\max 2 x_{1} + 3x_{2}\\\\\n",
    "\\begin{array}{cl}\n",
    "x_{1} + x_{2} & \\leq  3\\\\\n",
    "2x_{1} + x_{2}& \\leq  4\n",
    "\\end{array}\\\\\n",
    "x_{1},x_{2}\\geq 0$$\n",
    "\n",
    "donde $x_{1}$ es la cantidad de celuladores MyPhone producidos y $x_{2}$ la cantidad de MinePad producidas. Cuya solución es: $x_{1}=0$, $x_{2}=3$."
   ]
  },
  {
   "cell_type": "markdown",
   "metadata": {},
   "source": [
    "**Problema Dual**\n",
    "\n",
    "El problema dual es el siguiente\n",
    "\n",
    "$$\n",
    "\\min 3 \\lambda_{1} + 4\\lambda_{2}\\\\\n",
    "\\begin{array}{cl}\n",
    "\\lambda_{1} + 2\\lambda_{2} & \\geq  2\\\\\n",
    "\\lambda_{1} + \\lambda_{2}& \\geq  3\n",
    "\\end{array}\\\\\n",
    "\\lambda_{1}, \\lambda_{2}\\geq 0$$\n",
    "\n",
    "Cuya solución es: $\\lambda_{1}=3$, $\\lambda_{2}=0$."
   ]
  },
  {
   "cell_type": "markdown",
   "metadata": {},
   "source": [
    "**Dualidad y optimalidad**\n",
    "\n",
    "Se soluciona el problema descrito y se obtiene que PAPPEL debe producir $0$ MyPhone y $3$ MinePad. En la posterior reunión de los directivos de la compañia se comparte dicho resultado, no obstante el prónostico para los ingresos no es de su agrado, por lo que proponen comprar más material y así producir más unidades para la venta ¿qué material deberían comprar? y ¿a qué precio?\n",
    "\n",
    "A partir del *Teorema de Dualidad de Programación Lineal* se conoce que si el problema primar tiene una solución óptima, entonces el problema dual tambien tiene la tiene y se cumple que $c^{T}x=b^{T}\\lambda$.\n",
    "\n",
    "En el contexto actual el vector $b$ contiene el stock en bodega de los recursos que se utilizan en la producción, de modo que aumentar la cantidad de material afecta dicha estructura. Si el vector aumenta $\\theta$, es decir, se compra $\\theta_{1}$ gramos de aluminio y $\\theta_{2}$ gramos de oro el nuevo valor para la función objetivo es: \n",
    "$$f^{1}=(b+\\theta)^{T}\\lambda$$\n",
    "\n",
    "Sin comprar más recursos la función objetivo es $b^{T}\\lambda$, entonces el aumento en la función objetivo es:\n",
    "$$\\begin{align*}\n",
    "f^{1}-f^{0}&=(b+\\theta)^{T}\\lambda-b^{T}\\lambda\\\\\n",
    "f^{1}-f^{0}&=\\theta^{T}\\lambda\n",
    "\\end{align*}$$\n",
    "\n",
    "De modo que el cambio marginal del i-ésimo recurso (fila $i$ de $b$) es igual a la i-ésima variable dual ($\\lambda_{i}$). Es decir, aumentar la cantidad de aluminio en $1$ gramo mantiene constante los ingresos, pero aumentar la cantidad de silicio en $1$ gramo aumenta en $3$ millones los ingresos."
   ]
  },
  {
   "cell_type": "markdown",
   "metadata": {},
   "source": [
    "Para corroborar la afirmación anterior considere la región factible del problema primal.\n",
    "<img src=\"img/feaseble_region_max_point_1.png\" width=\"500\"/>\n",
    "Ahora, analice el cambio en la región factible según el aumento de un recurso u otro.\n",
    "\n",
    "### Aumentar cantidad de silicio\n",
    "Considere que la cantidad de silicio aumenta un gramo, como resultado la región factible es la siguiente.\n",
    "<img src=\"img/feaseble_region_max_point_2.png\" width=\"500\"/>\n",
    "Notese que la solución óptima es la misma que aquella del problema sin aumentar la cantidad en stock de silicio. Es decir, el cambio en la función objetivo ante un cambio marginal en la cantidad de silicio es cero, igual que la variable dual asociada $\\lambda_{2}$.\n",
    "\n",
    "### Aumentar cantidad de aluminio\n",
    "Considere que la cantidad de aluminio aumenta un gramo, como resultado la región factible es la siguiente.\n",
    "<img src=\"img/feaseble_region_max_point_3.png\" width=\"500\"/>\n",
    "Notese que la solución óptima es diferente de aquella del problema sin aumentar la cantidad en stock de aluminio, ahora la función objetivo es $12$. El cambio en la función objetivo ante un cambio marginal en la cantidad de aluminio es de $3$ unidades, igual que la variable dual asociada $\\lambda_{1}$."
   ]
  },
  {
   "cell_type": "markdown",
   "metadata": {},
   "source": [
    "### Conclusión\n",
    "\n",
    "Como se menciono anteriormente la solución del problema primal es: $x_{1}=0$, $x_{2}=3$, ahora revisense las restricciones.\n",
    "\n",
    "$$\n",
    "f_{P}(x_{1}^{*},x_{2}^{*})=9\\\\\n",
    "\\begin{array}{cl}\n",
    "x_{1}^{*} + x_{2}^{*} =3& \\leq  3\\\\\n",
    "2x_{1}^{*} + x_{2}^{*} =3& \\leq  4\n",
    "\\end{array}$$\n",
    "\n",
    "La restricción asociada al recurso aluminio se cumple con igualdad y la restricción asociada al silicio esta holgada. Aumentar la cantidad disponible de silicio no afecta la función objetivo, pues ya se utilizo el aluminio en su totalidad, lo cual explica que el aumento marginal de silicio no afecte los ingresos.\n",
    "\n",
    "Para finalizar, se identifico que las variables duales representan el cambio en la función objetivo ante un cambio marginal en el \"recurso\" asociado a cada restricción. Además, con dicha consideración se determina que si PAPPLE desea comprar más aluminio, su costo debe ser menor a $3$ millones por gramo, pues en caso contrario no hay incentivos para combrar más recurso."
   ]
  },
  {
   "cell_type": "markdown",
   "metadata": {},
   "source": [
    "# Problema"
   ]
  },
  {
   "cell_type": "markdown",
   "metadata": {},
   "source": [
    "La chocolatería ChocoAndes es un pequeño emprendimiento del departamento de Ingeniería Química y de Alimentos que fabrica y comercializa chocolates con cacao de distintas variedades. Actualmente producen dos tipos de chocolates: chocolate oscuro y chocolate blanco. Una unidad de cualquier tipo de chocolate pesa 60g. Una unidad de chocolate oscuro se vende a 7,000 COP y una unidad de chocolate blanco se vende a 6,000 COP. Los costos asociados a materia prima, mano de obra y demás costos operacionales equivalen a 3,500 COP por cada unidad de chocolate oscuro y 2,000 COP por cada unidad de chocolate blanco.\n",
    "\n",
    "La producción de estos chocolates requiere de dos ingredientes en común: manteca de cacao y azúcar. Por cada unidad de chocolate oscuro se requiere 6g de manteca de cacao y 21 g de azúcar. Por cada unidad de chocolate blanco se requiere 22g de manteca de cacao y 18g de azúcar. Cada semana, la chocolatería ChocoAndes tiene disponible 12kg de manteca de cacao y 20kg de azúcar. La demanda de chocolate oscuro es ilimitada, pero a lo sumo le demandan 315 unidades de chocolate blanco por semana."
   ]
  },
  {
   "cell_type": "markdown",
   "metadata": {},
   "source": [
    "# Análisis"
   ]
  },
  {
   "cell_type": "markdown",
   "metadata": {},
   "source": [
    "Para el análisis considere que la chocolatería ChocoAndes pueden vender cantidad fraccionarias de chocolate."
   ]
  },
  {
   "cell_type": "markdown",
   "metadata": {},
   "source": [
    "**1.** Formule el problema y su respectivo problema dual asociado. Especifique variables de decisión y restricciones. Recuerde que la chocolatería ChocoAndes quiere maximizar su utilidad.\n",
    "\n",
    "**Respuesta:**\n",
    "\n",
    "**2.** Genere una grafica de la región factible del problema primal.\n",
    "\n",
    "**Respuesta:**\n",
    "\n",
    "**3.** Reporte el valor óptimo para las variables de decisión del problema primal y del problema dual. Tambien incluya el valor de la función objetivo.\n",
    "\n",
    "**Respuesta:**\n",
    "\n",
    "**4.** En base al inciso anterior ¿cuál es el ingrediente más **valioso** para la chocolatería? Tenga en cuenta la interpretación económica del problema dual.\n",
    "\n",
    "**Respuesta:**\n",
    "\n",
    "**5.** Solucione en el problema primal variando el valor de la demanda de chocolate blanco de 310 a 380 ¿Cuál es el valor máximo a partir del cual la demanda de chocolate blanco afecta el valor de las variables de decisión?\n",
    "\n",
    "**Respuesta:**"
   ]
  }
 ],
 "metadata": {
  "kernelspec": {
   "display_name": "Python 3",
   "language": "python",
   "name": "python3"
  },
  "language_info": {
   "codemirror_mode": {
    "name": "ipython",
    "version": 3
   },
   "file_extension": ".py",
   "mimetype": "text/x-python",
   "name": "python",
   "nbconvert_exporter": "python",
   "pygments_lexer": "ipython3",
   "version": "3.7.6"
  },
  "toc": {
   "base_numbering": 1,
   "nav_menu": {},
   "number_sections": true,
   "sideBar": true,
   "skip_h1_title": false,
   "title_cell": "Table of Contents",
   "title_sidebar": "Contents",
   "toc_cell": false,
   "toc_position": {},
   "toc_section_display": true,
   "toc_window_display": false
  }
 },
 "nbformat": 4,
 "nbformat_minor": 4
}
