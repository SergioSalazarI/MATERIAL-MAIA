{
 "cells": [
  {
   "cell_type": "markdown",
   "metadata": {},
   "source": [
    "![Banner](img/banner.png)"
   ]
  },
  {
   "cell_type": "markdown",
   "metadata": {
    "id": "mzEByxrCr9_3",
    "nbgrader": {
     "grade": false,
     "grade_id": "cell-81956cc6824d7c48",
     "locked": true,
     "schema_version": 3,
     "solution": false,
     "task": false
    }
   },
   "source": [
    "# **Actividad N°3:** Soluciones básicas\n",
    "\n",
    "***Matemáticas para Machine Learning***.\n",
    "\n",
    "**Semana 1 - Lección 3:** Sistemas de ecuaciones lineales.\n",
    "\n",
    "**Profesor:** *Fernando Lozano* - **Autor Notebook:** *César Garrido Urbano*"
   ]
  },
  {
   "cell_type": "markdown",
   "metadata": {
    "id": "ByDyQbB-iwXg",
    "nbgrader": {
     "grade": false,
     "grade_id": "cell-cbbf9e5ca610ca52",
     "locked": true,
     "schema_version": 3,
     "solution": false,
     "task": false
    }
   },
   "source": [
    "# Introducción"
   ]
  },
  {
   "cell_type": "markdown",
   "metadata": {
    "id": "cy_d_H0ri1-j",
    "nbgrader": {
     "grade": false,
     "grade_id": "cell-55ebe482f99951e9",
     "locked": true,
     "schema_version": 3,
     "solution": false,
     "task": false
    }
   },
   "source": [
    "## Descripción\n",
    "\n",
    "\n"
   ]
  },
  {
   "cell_type": "markdown",
   "metadata": {
    "id": "xi2gEei_klPH",
    "nbgrader": {
     "grade": false,
     "grade_id": "cell-11e88de9de918092",
     "locked": true,
     "schema_version": 3,
     "solution": false,
     "task": false
    }
   },
   "source": [
    "El presente *jupyter notebook* contiene todo el material para el desarrollo de la Actividad 3 de la Semana 1 del curso ***Matemáticas para Machine Learning***. En este se realizarán ejercicios numéricos relacionados con la búsqueda de soluciones básicas dentro de un sistema de ecuaciones lineales y se pondrán en práctica los conceptos vistos en la Lección 3.\n",
    "\n",
    "**Objetivos de Aprendizaje:**\n",
    "\n",
    "*   Determinar si un sistema de ecuaciones tiene solución única, soluciones infinitas o no tiene soluciones.\n",
    "*   Entender e implementar el proceso para encontrar soluciones básicas dentro de un sistema lineal de la forma $Ax = b$.\n",
    "*   Automatizar el proceso para encontrar soluciones básicas a partir de la implementación de una función en Python."
   ]
  },
  {
   "cell_type": "markdown",
   "metadata": {
    "id": "zKtEqjSJkOfS",
    "nbgrader": {
     "grade": false,
     "grade_id": "cell-bc1910b8386a4c9d",
     "locked": true,
     "schema_version": 3,
     "solution": false,
     "task": false
    }
   },
   "source": [
    "## Teoría\n",
    "\n"
   ]
  },
  {
   "cell_type": "markdown",
   "metadata": {
    "id": "GNuecn_9qe_u",
    "nbgrader": {
     "grade": false,
     "grade_id": "cell-310b0b1dab41ddb6",
     "locked": true,
     "schema_version": 3,
     "solution": false,
     "task": false
    }
   },
   "source": [
    "Considere un sistema de $m$ ecuaciones con $n$ incógnitas.\n",
    "\n",
    "$$ m \\left\\{ \\begin{split}\n",
    "  a_{11} x_1 + a_{12} x_2 + \\ldots + a_{1n} x_n & = b_1 \\\\ \n",
    "  a_{21} x_1 + a_{22} x_2 + \\ldots + a_{2n} x_n & = b_2 \\\\ \n",
    "  \\vdots \\qquad \\qquad \\quad & \\\\\n",
    "  a_{m1} x_1 + a_{m2} x_2 + \\ldots + a_{mn} x_n & = b_m \\\\ \n",
    " \\end{split} \\right. $$\n",
    "\n",
    " Y suponga que tanto sus columnas como sus filas son linealmente independientes entre sí. Entonces tenemos 3 casos:\n",
    "\n",
    "*   $m \\leq n$ : Tenemos menos ecuaciones que incógnitas, y debido a la independencia lineal el sistema no tiene soluciones \n",
    "*   $ m = n$ : Tenemos la misma cantidad de ecuaciones que de incógnitas, de nuevo por independencia lineal tenemos una única solución\n",
    "*   $ m \\geq n$ : Tenemos mas ecuaciones que incógnitas, y debido a independencia lineal tenemos infinitas soluciones. Estas infinitas soluciones forman un espacio vectorial de dimensión $m-n$"
   ]
  },
  {
   "cell_type": "markdown",
   "metadata": {
    "id": "x-9RITL37rgR",
    "nbgrader": {
     "grade": false,
     "grade_id": "cell-385691c55304d295",
     "locked": true,
     "schema_version": 3,
     "solution": false,
     "task": false
    }
   },
   "source": [
    "El anterior sistema también se puede escribir de la siguiente manera:\n",
    "\n",
    "\\begin{equation}\n",
    "      A \\>\\mathbf{x} =\\mathbf{b} \\qquad A \\in \\mathbb{R}^{m \\times n} ,\\mathbf{x} \\in \\mathbb{R}^n,\\mathbf{b} \\in \\mathbb{R}^m \n",
    "\\end{equation}\n",
    "\n",
    "\n",
    "\\begin{equation} A = \\begin{bmatrix} \n",
    "    a_{11} & a_{12} & \\ldots & a_{1n} \\\\\n",
    "    a_{21} & a_{22} & \\ldots & a_{2n} \\\\\n",
    "    \\vdots & \\vdots & \\ddots & \\vdots \\\\\n",
    "    a_{m1} & a_{m2} & \\ldots & a_{mn} \\\\\n",
    "\\end{bmatrix} \\end{equation}"
   ]
  },
  {
   "cell_type": "markdown",
   "metadata": {
    "id": "GGDpQ8mrWqe0",
    "nbgrader": {
     "grade": false,
     "grade_id": "cell-0e2d29e3860b0f3f",
     "locked": true,
     "schema_version": 3,
     "solution": false,
     "task": false
    }
   },
   "source": [
    "## Metodología"
   ]
  },
  {
   "cell_type": "markdown",
   "metadata": {
    "id": "ImLsS_Vi7jUy",
    "nbgrader": {
     "grade": false,
     "grade_id": "cell-69e240d0b2a6dff1",
     "locked": true,
     "schema_version": 3,
     "solution": false,
     "task": false
    }
   },
   "source": [
    "De forma específica, ahora considere de un sistema de $m$ ecuaciones y $n$ incógnitas en donde $m \\leq n$:\n",
    "\n",
    "\\begin{equation}\n",
    "      A \\>\\mathbf{x} =\\mathbf{b} \\qquad A \\in \\mathbb{R}^{m \\times n} ,\\mathbf{x} \\in \\mathbb{R}^n,\\mathbf{b} \\in \\mathbb{R}^m \n",
    "\\end{equation}\n",
    "\n",
    "En este caso, una solución básica del sistema de ecuaciones es aquella en la cual a lo sumo hay $m$ variables diferentes de cero.\n",
    "\n",
    "Encontrar estas soluciones serán el objetivo de esta actividad!"
   ]
  },
  {
   "cell_type": "markdown",
   "metadata": {
    "id": "-ePMfdcRzkqd",
    "nbgrader": {
     "grade": false,
     "grade_id": "cell-672fa89c83f4bfef",
     "locked": true,
     "schema_version": 3,
     "solution": false,
     "task": false
    }
   },
   "source": [
    "El siguiente *jupyter notebook* consiste de 3 partes: \n",
    "\n",
    "0.   Un ejemplo detallado del procedimiento para encontrar las soluciones básicas del sistema anteriormente presentado.\n",
    "1.   Unos ejercicios para que ponga a prueba sus habilidades resolviendo 3 distintos sistemas de ecuaciones propuestos.\n",
    "2.   Un último punto donde tendrá que completar el bosquejo de una función que realiza todo el proceso de forma automatica."
   ]
  },
  {
   "cell_type": "markdown",
   "metadata": {
    "id": "_2yxwvP481B_",
    "nbgrader": {
     "grade": false,
     "grade_id": "cell-a249e8fb5bea3a2a",
     "locked": true,
     "schema_version": 3,
     "solution": false,
     "task": false
    }
   },
   "source": [
    "\n",
    "Para esto usted debe seguir siempre el mismo formato. Al encontrar/guardar las soluciones básicas del sistema utilice un diccionario:\n",
    "    \n",
    "$$\n",
    "    \\texttt{sol = \\{ $'$Soluciones$'$ : [ ], $'$Bases$'$ = [ ]      \\} }\n",
    "$$\n",
    "\n",
    "En donde cada elemento de $\\texttt{dir[ $'$Soluciones$'$ ]}$ es un vector en $\\mathbb{R}^n$ con por lo menos $n-m$ variables iguales a 0 (soluciones básicas) y cada elemento de $\\texttt{dir[ $'$Bases$'$ ]}$ contiene una matriz en $\\mathbb{R}^{m \\times n}$ con la base correspondiente a dicha solución básica. Cada matriz tiene por lo menos $n-m$ columnas iguales a 0 (aquellas que no hacen parte de la base).\n",
    "\n",
    "Utilice la función $\\texttt{pretty_print()}$ para imprimir el resultado en consola (véase el ejemplo). De esta manera podrá visualizar de  mejor forma los datos."
   ]
  },
  {
   "cell_type": "markdown",
   "metadata": {},
   "source": [
    "Para desarrollar el taller usted deberá editar las celdas de código dispuestas para esto. Estas estarán marcadas con el siguiente comentario:\n",
    "\n",
    "```python\n",
    "# =====================================================\n",
    "# COMPLETAR ===========================================\n",
    "# \n",
    "\n",
    "# =====================================================\n",
    "```\n",
    "\n",
    "Edite o complete el códgio dentro de estas lineas de comentarios. Dentro de estos comentarios encontrará indicaciónes de lo que debe hacer, así como algunas de las variables que debe utilizar o calcular (puede que estas tengan ya una estructura para llenar o no, revise y complete la asignación)."
   ]
  },
  {
   "cell_type": "markdown",
   "metadata": {
    "id": "7wrxWSOKU94a",
    "nbgrader": {
     "grade": false,
     "grade_id": "cell-20b989834e5c2186",
     "locked": true,
     "schema_version": 3,
     "solution": false,
     "task": false
    }
   },
   "source": [
    "# Ejemplos de Soluciones básicas"
   ]
  },
  {
   "cell_type": "markdown",
   "metadata": {
    "id": "t08DkV59m_6h",
    "nbgrader": {
     "grade": false,
     "grade_id": "cell-17d1067719536b37",
     "locked": true,
     "schema_version": 3,
     "solution": false,
     "task": false
    }
   },
   "source": [
    "## Inicialización"
   ]
  },
  {
   "cell_type": "markdown",
   "metadata": {
    "id": "DIqHG17vnRVg",
    "nbgrader": {
     "grade": false,
     "grade_id": "cell-3d0305383b8d5297",
     "locked": true,
     "schema_version": 3,
     "solution": false,
     "task": false
    }
   },
   "source": [
    "Se importan librerías básicas para el desarrollo del taller y se define la función $\\texttt{pretty_print(df)}$ para la visualización de los resultados de forma más adecuada."
   ]
  },
  {
   "cell_type": "code",
   "execution_count": null,
   "metadata": {
    "id": "aYSgqs-jYQoD"
   },
   "outputs": [],
   "source": [
    "# Librerias principales\n",
    "import numpy as np\n",
    "import pandas as pd\n",
    "import sympy\n",
    "import copy\n",
    "import sys\n",
    "\n",
    "# Visualización\n",
    "from IPython.display import display, HTML\n",
    "import matplotlib.pyplot as plt \n",
    "import matplotlib.colors as mcolors\n",
    "\n",
    "# Combinaciones\n",
    "from itertools import combinations\n",
    "\n",
    "# Maia Utils\n",
    "sys.path.append('../')\n",
    "from MaiaUtils_S1TP3 import MaiaUtils"
   ]
  },
  {
   "cell_type": "code",
   "execution_count": null,
   "metadata": {},
   "outputs": [],
   "source": [
    "# Maia Utis\n",
    "maia = MaiaUtils()\n",
    "\n",
    "# Aumentar tamaño de columna DataFrame\n",
    "pd.set_option('max_colwidth', 80)\n",
    "\n",
    "# Crear función para ocultar seguimiento de debugging\n",
    "if \"toggle_traceback\" not in globals():\n",
    "    ipython = get_ipython()\n",
    "    toggle_traceback = maia.manipulate_ipython(ipython)"
   ]
  },
  {
   "cell_type": "code",
   "execution_count": null,
   "metadata": {},
   "outputs": [],
   "source": [
    "# Cambiar configuración de debugging\n",
    "toggle_traceback()"
   ]
  },
  {
   "cell_type": "markdown",
   "metadata": {
    "id": "2uaNPWXnU_ju",
    "nbgrader": {
     "grade": false,
     "grade_id": "cell-37136f4cfecd7f22",
     "locked": true,
     "schema_version": 3,
     "solution": false,
     "task": false
    }
   },
   "source": [
    "Considere la siguiente matriz de ejemplo:\n",
    "\n",
    "$$ A = \\begin{bmatrix}\n",
    "  1 & 2 & 3 \\\\\n",
    "  2 & 3 & 6 \n",
    "\\end{bmatrix} \n",
    "\\qquad \\mathbf{b} = \\begin{bmatrix}\n",
    "  4 \\\\ 8\n",
    "\\end{bmatrix} \\qquad \\mathbf{x} = \\begin{bmatrix}\n",
    "x_1 \\\\ x_2 \\\\ x_3\n",
    "\\end{bmatrix}$$"
   ]
  },
  {
   "cell_type": "markdown",
   "metadata": {
    "id": "TsIC_pyPYV_w",
    "nbgrader": {
     "grade": false,
     "grade_id": "cell-bb121176e356c6c0",
     "locked": true,
     "schema_version": 3,
     "solution": false,
     "task": false
    }
   },
   "source": [
    "## Solución 1: Columnas 1 y 2"
   ]
  },
  {
   "cell_type": "markdown",
   "metadata": {
    "id": "F4t4ht2MsWFN",
    "nbgrader": {
     "grade": false,
     "grade_id": "cell-ebec89739ac0f04b",
     "locked": true,
     "schema_version": 3,
     "solution": false,
     "task": false
    }
   },
   "source": [
    "Tome las columnas 1 y 2 como base y resuelva:\n",
    "\n",
    "$$ \n",
    "  \\begin{bmatrix} 1 & 2 & 0 \\\\ 2 & 3 & 0 \\end{bmatrix} \n",
    "  \\begin{bmatrix} x_1 \\\\ x_2 \\\\ 0 \\end{bmatrix} \n",
    "  = \\begin{bmatrix} 4 \\\\ 8 \\end{bmatrix} \n",
    "  \\quad ⟶ \\quad \n",
    "  \\begin{array}{rl} x_1 = & 4 \\\\ x_2 = & 0 \\\\ x_3 = & 0  \\end{array}\n",
    "$$"
   ]
  },
  {
   "cell_type": "code",
   "execution_count": null,
   "metadata": {
    "colab": {
     "base_uri": "https://localhost:8080/"
    },
    "id": "xM5ZPx57Yarg",
    "outputId": "7e8ce429-59fb-43b9-a5e5-8d4328359234"
   },
   "outputs": [],
   "source": [
    "# Se define la submatriz A1 con únicamente las columnas 1 y 2 como base\n",
    "A1 = [[1, 2],\n",
    "      [2, 3]]\n",
    "# Vector b\n",
    "b = [4, 8]\n",
    "\n",
    "# Se resuelve utilizando la función np.linalg.solve de numpy\n",
    "x1 = np.linalg.solve(A1, b)\n",
    "\n",
    "# Se imprime el resultado\n",
    "print(f'x1 = {x1}')"
   ]
  },
  {
   "cell_type": "markdown",
   "metadata": {
    "id": "O1LD3QR1si4f",
    "nbgrader": {
     "grade": false,
     "grade_id": "cell-7e0ef7da12ab3e45",
     "locked": true,
     "schema_version": 3,
     "solution": false,
     "task": false
    }
   },
   "source": [
    "## Solución 2: Columnas 1 y 3"
   ]
  },
  {
   "cell_type": "markdown",
   "metadata": {
    "id": "hNJ9YZZKYbOV",
    "nbgrader": {
     "grade": false,
     "grade_id": "cell-8d19f2d4b9f739f6",
     "locked": true,
     "schema_version": 3,
     "solution": false,
     "task": false
    }
   },
   "source": [
    "Tome las columnas 1 y 3 como base:\n",
    "\n",
    "$$ \\begin{bmatrix} 1 & 0 & 3 \\\\ 2 & 0 & 6 \\end{bmatrix} \n",
    "   \\begin{bmatrix} x_1 \\\\ 0 \\\\ x_3 \\end{bmatrix} \n",
    "   = \\begin{bmatrix} 4 \\\\ 8 \\end{bmatrix} $$\n",
    "\n",
    "\n",
    "\n"
   ]
  },
  {
   "cell_type": "code",
   "execution_count": null,
   "metadata": {
    "colab": {
     "base_uri": "https://localhost:8080/"
    },
    "id": "MCpZpoktHufx",
    "outputId": "aa728b48-a1b4-4020-a114-b1a46dcd1c3c"
   },
   "outputs": [],
   "source": [
    "# Se define la submatriz A1 con únicamente las columnas 1 y 2 como base\n",
    "A2 = [[1, 3],\n",
    "      [2, 6]]\n",
    "\n",
    "# Se intenta resolver, pero el código falla\n",
    "try:\n",
    "    x2 = np.linalg.solve(A2, b) \n",
    "# Se imprime el Error -> Matriz singular\n",
    "except Exception as e:\n",
    "    print(f'Error: {e}')"
   ]
  },
  {
   "cell_type": "markdown",
   "metadata": {
    "id": "TMl_marT9gs8",
    "nbgrader": {
     "grade": false,
     "grade_id": "cell-94709f373481d405",
     "locked": true,
     "schema_version": 3,
     "solution": false,
     "task": false
    }
   },
   "source": [
    "Observe que en este caso la primera y segunda fila de la matriz son linealmente dependientes. Esto causa el error de Matriz Singular al intentar resolver el sistema. Note que:\n",
    "\n",
    "$$ 2\\left( \\begin{bmatrix} 1 & 0 & 3 \\end{bmatrix} \\begin{bmatrix} x_1 \\\\ 0 \\\\ x_3 \\end{bmatrix} = 4 \\right) \n",
    "\\quad \\sim \\quad \n",
    "\\left( \\begin{bmatrix} 2 & 0 & 6 \\end{bmatrix} \\begin{bmatrix} x_1 \\\\ 0 \\\\ x_3 \\end{bmatrix} = 8 \\right) $$"
   ]
  },
  {
   "cell_type": "markdown",
   "metadata": {
    "id": "5wYguz5VIBTF",
    "nbgrader": {
     "grade": false,
     "grade_id": "cell-203623d6b598b270",
     "locked": true,
     "schema_version": 3,
     "solution": false,
     "task": false
    }
   },
   "source": [
    "Sin embargo, este sistema (de dos ecuaciones) se puede reducir en otro equivalente (de una ecuación) con 2 soluciones básicas adicionales:\n",
    "\n",
    "$$ \\begin{bmatrix} 1 & 0 & 3 \\end{bmatrix} \n",
    "\\begin{bmatrix} x_1 \\\\ 0 \\\\ x_3 \\end{bmatrix} \n",
    "= \\begin{bmatrix} 4 \\end{bmatrix} \n",
    "\\quad ⟶ \\quad \n",
    "\\begin{split}\n",
    "& \\begin{bmatrix} 1 & 0 & 0 \\end{bmatrix} \n",
    "\\begin{bmatrix} x_1 \\\\ 0 \\\\ 0 \\end{bmatrix} \n",
    "= \\begin{bmatrix} 4 \\end{bmatrix} \n",
    "\\quad ⟶ \\quad \n",
    "\\begin{array}{rl} x_1 = & 4 \\\\ x_2 = & 0 \\\\ x_3 = & 0  \\end{array}\n",
    "\\\\ \\\\\n",
    "& \\begin{bmatrix} 0 & 0 & 3 \\end{bmatrix} \n",
    "\\begin{bmatrix} 0 \\\\ 0 \\\\ x_3 \\end{bmatrix} \n",
    "= \\begin{bmatrix} 4 \\end{bmatrix} \n",
    "\\quad ⟶ \\quad \n",
    "\\begin{array}{rl} x_1 = & 0 \\\\ x_2 = & 0 \\\\ x_3 = & 4/3  \\end{array}\n",
    "\\end{split} $$"
   ]
  },
  {
   "cell_type": "code",
   "execution_count": null,
   "metadata": {
    "colab": {
     "base_uri": "https://localhost:8080/"
    },
    "id": "wfXn4rPGnZqn",
    "outputId": "eeffd201-2625-4b8b-d2d7-d3917eb8e26e"
   },
   "outputs": [],
   "source": [
    "# Se guardan las soluciones\n",
    "x21 = np.array([4.0, 0.0 ])\n",
    "x22 = np.array([0.0, round(4/3,2)])\n",
    "\n",
    "print(f'x21 = {x21}')\n",
    "print(f'x22 = {x22}')"
   ]
  },
  {
   "cell_type": "markdown",
   "metadata": {
    "id": "O9wBYfhbmF82",
    "nbgrader": {
     "grade": false,
     "grade_id": "cell-464932df8ddddbfa",
     "locked": true,
     "schema_version": 3,
     "solution": false,
     "task": false
    }
   },
   "source": [
    "### Teoria adicional"
   ]
  },
  {
   "cell_type": "markdown",
   "metadata": {
    "id": "dgOZK_etfB2_",
    "nbgrader": {
     "grade": false,
     "grade_id": "cell-739a645f0a08ae86",
     "locked": true,
     "schema_version": 3,
     "solution": false,
     "task": false
    }
   },
   "source": [
    "Tome como ejemplo la siguiente matriz $A$ $(2\\times n)$, con filas $a_1$ y $a_2$ y el vector $b$ con valores $b_1$ y $b_2$.\n",
    "\n",
    "$$ A = \\begin{bmatrix} - & \\mathbf{a}_1 & - \\\\ - & \\mathbf{a}_2 & -  \\end{bmatrix} \\qquad \\mathbf{a}_1,\\mathbf{a}_2 \\in \\mathbb{R}^3 \\qquad \\qquad \\mathbf{b} = (b_1, b_2) \\qquad b_1, b_2 \\in \\mathbb{R}$$\n",
    "\n",
    "En caso de que $\\mathbf{a}_1 = \\alpha \\> \\mathbf{a}_2$, se cumple que:\n",
    "\n",
    "$$ \\begin{split} \\mathbf{b}_1 \\neq \\alpha \\> \\mathbf{b}_2 \\quad & \\longrightarrow \\quad \\textrm{El sistema no tiene solución} \\\\\n",
    "\\mathbf{b}_1 = \\alpha \\> \\mathbf{b}_2 \\quad & \\longrightarrow \\quad \\textrm{El sistema tiene 2 soluciones básicas} \n",
    "\\end{split} $$"
   ]
  },
  {
   "cell_type": "markdown",
   "metadata": {
    "id": "1ShzAHxfhDLn",
    "nbgrader": {
     "grade": false,
     "grade_id": "cell-73cdd4492c8cc601",
     "locked": true,
     "schema_version": 3,
     "solution": false,
     "task": false
    }
   },
   "source": [
    "De manera general, cuando trabajamos con un sistema de ecuaciones identificado con una matriz $A \\in \\mathbb{R}^{m \\times n}, n \\geq m$ , que tiene $n-m$ columnas en $0$, es equivalente a trabajar con el sistema de ecuaciones identificado con la matriz $A' \\in \\mathbb{R}^{m \\times m}$ que solo mantiene las columnas que són distintas de $0$, entonces el subsitema que se obtiene es:\n",
    "\n",
    "$$ \\mathbf{b} = (b_1, \\ldots, b_m) \\quad  A = \\begin{bmatrix} - & \\mathbf{a}_1 & - \\\\ \\vdots & \\vdots & \\vdots  \\\\ - & \\mathbf{a}_m & -  \\end{bmatrix} \\qquad \\mathbf{a}_1, \\ldots ,\\mathbf{a}_m \\in \\mathbb{R}^m$$\n",
    "\n",
    "si $a_k$ es combinación lineal de los otros $a_i$'s de tal manera que:\n",
    "\n",
    "$$ a_k = \\sum_{i \\neq k} \\alpha_i \\mathbf{a}_i $$\n",
    "\n",
    "entonces:\n",
    "\n",
    "$$ \\begin{split} \\mathbf{b}_1 \\neq \\sum_{i \\neq k} \\alpha_i \\> \\mathbf{b}_i \\quad & \\longrightarrow \\quad \\textrm{El sistema no tiene solución} \\\\\n",
    "\\mathbf{b}_1 = \\sum_{i \\neq k} \\alpha_i \\> \\mathbf{b}_i \\quad & \\longrightarrow \\quad \\textrm{El sistema tiene por lo menos } \\left(\\begin{array}{c} m \\\\ m-1 \\end{array}\\right) \\textrm{ soluciones básicas} \n",
    "\\end{split} $$\n",
    "\n",
    "En este caso el número de soluciones básicas aumenta a partir del número de subsistemas que podemos generar una vez eliminamos la ecuación linealmente independiente de la matriz, obteniendo una matrix $(m-1) \\times m $. Esto es $m$ combinado $m-1$"
   ]
  },
  {
   "cell_type": "markdown",
   "metadata": {
    "id": "UTAXn8SJsz2W",
    "nbgrader": {
     "grade": false,
     "grade_id": "cell-7540a325f98115f7",
     "locked": true,
     "schema_version": 3,
     "solution": false,
     "task": false
    }
   },
   "source": [
    "## Solución 3: Columnas 2 y 3"
   ]
  },
  {
   "cell_type": "markdown",
   "metadata": {
    "id": "wM6rJX9aVhAM",
    "nbgrader": {
     "grade": false,
     "grade_id": "cell-8016b2a77cf384a4",
     "locked": true,
     "schema_version": 3,
     "solution": false,
     "task": false
    }
   },
   "source": [
    "   $$ \\begin{bmatrix} 0 & 2 & 3 \\\\ 0 & 3 & 6 \\end{bmatrix} \n",
    "   \\begin{bmatrix} 0 \\\\ x_2 \\\\ x_3 \\end{bmatrix} \n",
    "   = \\begin{bmatrix} 4 \\\\ 12 \\end{bmatrix} \n",
    "   \\quad ⟶ \\quad \n",
    "   \\begin{array}{rl} x_1 = & 0 \\\\ x_2 = & -4 \\\\ x_3 = & 4  \\end{array}$$\n"
   ]
  },
  {
   "cell_type": "code",
   "execution_count": null,
   "metadata": {
    "colab": {
     "base_uri": "https://localhost:8080/"
    },
    "id": "bJPCLun8PF5e",
    "outputId": "40c0c16e-718e-46a3-d65a-c768c01dd8af"
   },
   "outputs": [],
   "source": [
    "# Se define la submatriz A3 con únicamente las columnas 2 y 3 como base\n",
    "A3 = [[2, 3],\n",
    "      [3, 6]]\n",
    "\n",
    "# Se resuelve\n",
    "x3 = np.linalg.solve(A3, b)\n",
    "x3 = np.round(x3,2)\n",
    "print(f'x3 = {x3}')"
   ]
  },
  {
   "cell_type": "markdown",
   "metadata": {
    "id": "8LXOXLMPZ91F",
    "nbgrader": {
     "grade": false,
     "grade_id": "cell-ccf99670977d5aac",
     "locked": true,
     "schema_version": 3,
     "solution": false,
     "task": false
    }
   },
   "source": [
    "## Visualización de las soluciones\n"
   ]
  },
  {
   "cell_type": "markdown",
   "metadata": {
    "id": "wV2yludDBo-J",
    "nbgrader": {
     "grade": false,
     "grade_id": "cell-54e2db1c787c80aa",
     "locked": true,
     "schema_version": 3,
     "solution": false,
     "task": false
    }
   },
   "source": [
    "Ahora se compilan todas las soluciones en el formato propuesto (diccionario) y se visualizan con la función $\\texttt{pretty_print()}$.\n",
    "\n",
    "Recuerde que en total se encontraron 4 soluciones. Esto por lo que cuando se tomaron las columnas 1 y 3 como base, se obtuvieron 2 soluciones."
   ]
  },
  {
   "cell_type": "code",
   "execution_count": null,
   "metadata": {
    "id": "LCU1G9IkaD3P"
   },
   "outputs": [],
   "source": [
    "# Diccionario de la solución\n",
    "sol_ejemplo = {'Soluciones':[], 'Bases':[]}\n",
    "\n",
    "# Matriz A de ejemplo\n",
    "A = np.array([[1, 2, 3],\n",
    "              [2, 3, 6]])\n",
    "\n",
    "# Columnas tomadas para cada solución (Recuerde que python es cero indexado)\n",
    "col_idx = [[0,1], [0,2], [0,2], [1,2]] \n",
    "# Vector con soluciones de los sistemas reducidos\n",
    "sol_reducidas = [x1, x21, x22, x3]\n",
    "\n",
    "# Llenar diccionario de las soluciones guardadas y con las bases correspondientes\n",
    "for col, x in zip(col_idx, sol_reducidas):\n",
    "    # Base con columna i-ésima en 0\n",
    "    A_base = A.copy()\n",
    "    A_base[:,[i for i in range(A.shape[1]) if i not in col]] = 0\n",
    "    # Solución con coordenada i'esima 0\n",
    "    x_sol = np.zeros((3))\n",
    "    x_sol[col] = x\n",
    "\n",
    "    # Se guarda la solucion y la base en el diccionario\n",
    "    sol_ejemplo['Soluciones'].append(x_sol)\n",
    "    sol_ejemplo['Bases'].append(A_base)"
   ]
  },
  {
   "cell_type": "code",
   "execution_count": null,
   "metadata": {
    "colab": {
     "base_uri": "https://localhost:8080/",
     "height": 244
    },
    "id": "uJBBu2b8me6Z",
    "outputId": "0128b8d8-2dff-4751-df7a-34d65720a011"
   },
   "outputs": [],
   "source": [
    "# Se imprime en consola con la función pretty_print para verla en forma de tabla\n",
    "maia.pretty_print(sol_ejemplo)"
   ]
  },
  {
   "cell_type": "markdown",
   "metadata": {
    "id": "iPnb4y6VrYZj",
    "nbgrader": {
     "grade": false,
     "grade_id": "cell-b792817be6cc4959",
     "locked": true,
     "schema_version": 3,
     "solution": false,
     "task": false
    }
   },
   "source": [
    "# Problema 1: Soluciones básicas"
   ]
  },
  {
   "cell_type": "markdown",
   "metadata": {
    "id": "-HczC4EHAsRF",
    "nbgrader": {
     "grade": false,
     "grade_id": "cell-d5699cd7daed150a",
     "locked": true,
     "schema_version": 3,
     "solution": false,
     "task": false
    }
   },
   "source": [
    "Ahora usted debe realizar el mismo proceso descrito anteriormente para cada una de los sistemas propuestos:"
   ]
  },
  {
   "cell_type": "markdown",
   "metadata": {
    "id": "FJjc24XGZSZP",
    "nbgrader": {
     "grade": false,
     "grade_id": "cell-73420a3344d69a08",
     "locked": true,
     "schema_version": 3,
     "solution": false,
     "task": false
    }
   },
   "source": [
    "## Matriz a)\n",
    "\n",
    " $$ A_a = \n",
    " \\begin{bmatrix} 1 & 2 & 3 & 4 \\\\ 2 & 0 & 4 & 0 \\end{bmatrix} \n",
    " \\quad  \\mathbf{b_a} = \n",
    " \\begin{bmatrix} 1 \\\\  2 \\end{bmatrix} \n",
    " \\qquad \\mathbf{x_a} = \n",
    " \\begin{bmatrix} x_1 \\\\  x_2 \\\\ x_3 \\\\ x_4 \\end{bmatrix} $$"
   ]
  },
  {
   "cell_type": "code",
   "execution_count": null,
   "metadata": {
    "id": "jhNiuZEMq9Mz"
   },
   "outputs": [],
   "source": [
    "# Diccionario de la solución a)\n",
    "sol_a = {'Soluciones':[], 'Bases':[]}\n",
    "\n",
    "# Matriz A y vector b del punto a)\n",
    "Aa = np.array([[1, 2, 3, 4],\n",
    "               [2, 0, 4, 0]])\n",
    "ba = np.array([1, 2])\n",
    "\n",
    "# ESTUDIANTE:\n",
    "# Complete el diccionario 'sol_a' con las soluciones básicas y sus bases correspondientes.\n",
    "\n",
    "# Col 0 y 1\n",
    "Aa_01 = [[1, 2],\n",
    "         [2, 0]]\n",
    "x_01 = np.linalg.solve(Aa_01, ba)\n",
    "\n",
    "# Col 0 y 2\n",
    "Aa_02 = [[1, 3],\n",
    "         [2, 4]]  \n",
    "x_02 = np.linalg.solve(Aa_02, ba)\n",
    "\n",
    "# Col 0 y 3\n",
    "Aa_03 = [[1, 4],\n",
    "         [2, 0]]  \n",
    "x_03 = np.linalg.solve(Aa_03, ba)\n",
    "\n",
    "# Col 1 y 3 (Submatriz singular)\n",
    "Aa_13 = [[2, 4],\n",
    "         [0, 0]]  \n",
    "# Note que al intentar solucionar esta submatriz el solver falla,\n",
    "# por esta razón se guarda el error (string) como constancia del resultado.\n",
    "try:\n",
    "    x_13 = np.linalg.solve(Aa_13, ba)\n",
    "except Exception as e:\n",
    "    x_13 = str(e)\n",
    "\n",
    "# =====================================================\n",
    "# COMPLETAR ===========================================\n",
    "# -\n",
    "# Completar el diccionario 'sol_a' con las soluciones básicas faltantes.\n",
    "# -\n",
    "\n",
    "\n",
    "\n",
    "\n",
    "\n",
    "# Columnas usadas como base en cada solución (Recuerde que python es cero indexado)\n",
    "col_idx = [[0,1], [0,2], [0,3], [1,3]] \n",
    "# Vector con soluciones de los sistemas reducidos\n",
    "sol_reducidas = [x_01, x_02, x_03, x_13]\n",
    "\n",
    "# =====================================================\n",
    "\n",
    "# Llenar diccionario de las soluciones guardadas y con las bases correspondientes\n",
    "for col, x in zip(col_idx, sol_reducidas):\n",
    "    # Base: Matriz A completa con columnas i'esimas (col_idx) en 0\n",
    "    A_base = Aa.copy()\n",
    "    A_base[:,[i for i in range(Aa.shape[1]) if i not in col]] = 0\n",
    "    # Solución: Vector 4x1 con coordenadas i'esimas (col_idx) en 0\n",
    "    if type(x) is np.ndarray:\n",
    "        x_sol = np.zeros(Aa.shape[1])\n",
    "        x_sol[col] = x\n",
    "    # No se altera en caso de que sea el resultado guardado de la matriz singular\n",
    "    else:\n",
    "        x_sol = x\n",
    "\n",
    "    # Se guarda la solucion y la base en el diccionario\n",
    "    sol_a['Soluciones'].append(x_sol)\n",
    "    sol_a['Bases'].append(A_base)\n"
   ]
  },
  {
   "cell_type": "code",
   "execution_count": null,
   "metadata": {
    "colab": {
     "base_uri": "https://localhost:8080/",
     "height": 244
    },
    "id": "1DbVnzuXdkFS",
    "outputId": "f9065900-55d8-4bcb-c6b9-86545767a001"
   },
   "outputs": [],
   "source": [
    "maia.pretty_print(sol_a)"
   ]
  },
  {
   "cell_type": "markdown",
   "metadata": {
    "id": "CkIpz7pdd87o",
    "nbgrader": {
     "grade": false,
     "grade_id": "cell-3b1b62b3f4bf869f",
     "locked": true,
     "schema_version": 3,
     "solution": false,
     "task": false
    }
   },
   "source": [
    "## Matriz b)\n",
    "\n",
    " $$  A_b = \n",
    " \\begin{bmatrix} \n",
    " 1 & 1 & 1 & 1 & 1 \\\\ 1 & 2 & 3 & 4 & 5 \\\\ 4 & 3 & 3 & 3 & 4  \n",
    " \\end{bmatrix}\n",
    "  \\quad  \\mathbf{b_b} = \n",
    " \\begin{bmatrix} 1 \\\\  2 \\\\ 3 \\end{bmatrix} \n",
    " \\qquad \\mathbf{x_b} = \n",
    " \\begin{bmatrix} x_1 \\\\  x_2 \\\\ x_3 \\\\ x_4 \\\\ x_5 \\end{bmatrix}  $$"
   ]
  },
  {
   "cell_type": "code",
   "execution_count": null,
   "metadata": {
    "id": "9a3j6lVukskc"
   },
   "outputs": [],
   "source": [
    "# Diccionario de la solución b)\n",
    "sol_b = {'Soluciones':[], 'Bases':[]}\n",
    "\n",
    "# Matriz A y vector b del punto b)\n",
    "Ab = np.array([[1, 1, 1, 1, 1],\n",
    "              [1, 2, 3, 4, 5],\n",
    "              [4, 3, 3, 3, 4]])\n",
    "bb = np.array([1, 2, 3])\n",
    "\n",
    "# =====================================================\n",
    "# COMPLETAR ===========================================\n",
    "# -\n",
    "# Completar el diccionario 'sol_b' con las soluciones básicas.\n",
    "# -\n",
    "\n",
    "\n",
    "\n",
    "\n",
    "\n",
    "# ====================================================="
   ]
  },
  {
   "cell_type": "code",
   "execution_count": null,
   "metadata": {
    "colab": {
     "base_uri": "https://localhost:8080/",
     "height": 49
    },
    "id": "XOf184V0dpyg",
    "outputId": "9606b453-ad5f-43d8-98af-48b1a2461e9d"
   },
   "outputs": [],
   "source": [
    "maia.pretty_print(sol_b)"
   ]
  },
  {
   "cell_type": "markdown",
   "metadata": {
    "id": "vcosXV8ZkmVe",
    "nbgrader": {
     "grade": false,
     "grade_id": "cell-84de0b69cce6af75",
     "locked": true,
     "schema_version": 3,
     "solution": false,
     "task": false
    }
   },
   "source": [
    "## Matriz c)\n",
    "\n",
    " $$  A_c = \n",
    " \\begin{bmatrix} \n",
    " 1 & 1 & 1 & 1 & 1 \\\\ 1 & 2 & 3 & 4 & 5 \\\\ 2 & 3 & 4 & 5 & 6\n",
    " \\end{bmatrix}\n",
    "  \\quad  \\mathbf{b_c} = \n",
    " \\begin{bmatrix} 1 \\\\  2 \\\\ 3 \\end{bmatrix} \n",
    " \\qquad \\mathbf{x_c} = \n",
    " \\begin{bmatrix} x_1 \\\\  x_2 \\\\ x_3 \\\\ x_4 \\\\ x_5 \\end{bmatrix}  $$"
   ]
  },
  {
   "cell_type": "code",
   "execution_count": null,
   "metadata": {
    "id": "G4lAhzwvy1Xm"
   },
   "outputs": [],
   "source": [
    "# Diccionario de la solución c)\n",
    "sol_c = {'Soluciones':[], 'Bases':[]}\n",
    "\n",
    "# Matriz A y vector b del punto c)\n",
    "Ac = np.array([[1, 1, 1, 1, 1],\n",
    "               [1, 2, 3, 4, 5],\n",
    "               [2, 3, 4, 5, 6]])\n",
    "bc = np.array([1, 2, 3])\n",
    "\n",
    "# =====================================================\n",
    "# COMPLETAR ===========================================\n",
    "# -\n",
    "# Completar el diccionario 'sol_c' con las soluciones básicas.\n",
    "# -\n",
    "\n",
    "\n",
    "\n",
    "\n",
    "\n",
    "# ====================================================="
   ]
  },
  {
   "cell_type": "code",
   "execution_count": null,
   "metadata": {
    "colab": {
     "base_uri": "https://localhost:8080/",
     "height": 49
    },
    "id": "lPL6sSwGrLO1",
    "outputId": "72c824f7-13ba-4c50-c626-d76f85707da2"
   },
   "outputs": [],
   "source": [
    "maia.pretty_print(sol_c)"
   ]
  },
  {
   "cell_type": "markdown",
   "metadata": {
    "id": "Oq0wFd6xTXXi",
    "nbgrader": {
     "grade": false,
     "grade_id": "cell-325c7045df32858e",
     "locked": true,
     "schema_version": 3,
     "solution": false,
     "task": false
    }
   },
   "source": [
    "## Calificación P1"
   ]
  },
  {
   "cell_type": "code",
   "execution_count": null,
   "metadata": {
    "id": "nEpfU3OEdszw",
    "nbgrader": {
     "grade": true,
     "grade_id": "cell-a935c95b15fe4e3e",
     "locked": true,
     "points": 10,
     "schema_version": 3,
     "solution": false,
     "task": false
    }
   },
   "outputs": [],
   "source": [
    "# Verificación de formato (10pts)\n",
    "for i, sol in zip([\"a\", \"b\", \"c\"], [sol_a, sol_b, sol_c]):\n",
    "    \n",
    "    # Tipo de la solución\n",
    "    assert type(sol) == dict, \"Ha cambiado el tipo de la solución, este debe ser un diccionario!\"\n",
    "    for s in sol['Soluciones']:\n",
    "        assert type(s) == np.ndarray or type(s) == str, f\"La solución {s} no está en el formato correcto!\" \n",
    "\n",
    "    # Numero de respuestas\n",
    "    n_sol = len(sol['Soluciones'])\n",
    "    n_bases = len(sol['Bases'])\n",
    "\n",
    "    # Verificar número de soluciones y bases concuerda\n",
    "    print(f\"Verificando Solución {i}:\")\n",
    "    assert n_sol > 0, f\"Llene el diccionario con soluciones!\"\n",
    "    assert n_sol == n_bases, \"El número de bases y soluciones no concuerda! Ambos arreglos deben contener el mismo número de elementos\"\n",
    "    print(\"Formato OK! \\n\")"
   ]
  },
  {
   "cell_type": "code",
   "execution_count": null,
   "metadata": {
    "id": "J3_6DL3oFmqN",
    "nbgrader": {
     "grade": true,
     "grade_id": "cell-3bf33dfd1589b440",
     "locked": true,
     "points": 15,
     "schema_version": 3,
     "solution": false,
     "task": false
    }
   },
   "outputs": [],
   "source": [
    "# Verificacion de soluciones (10pts)\n",
    "maia.calificar_soluciones_basicas(Aa, ba, sol_c)"
   ]
  },
  {
   "cell_type": "code",
   "execution_count": null,
   "metadata": {
    "id": "8hSzj4j5NwxS",
    "nbgrader": {
     "grade": true,
     "grade_id": "cell-c5c43fe7d5009de5",
     "locked": true,
     "points": 15,
     "schema_version": 3,
     "solution": false,
     "task": false
    }
   },
   "outputs": [],
   "source": [
    "# Verificacion de soluciones (20pts)\n",
    "maia.calificar_soluciones_basicas(Ab, bb, sol_b)"
   ]
  },
  {
   "cell_type": "code",
   "execution_count": null,
   "metadata": {
    "id": "Q8svaVRrNwzk",
    "nbgrader": {
     "grade": true,
     "grade_id": "cell-b660ca0d3f10a0c7",
     "locked": true,
     "points": 15,
     "schema_version": 3,
     "solution": false,
     "task": false
    }
   },
   "outputs": [],
   "source": [
    "# Verificacion de soluciones (20pts)\n",
    "maia.calificar_soluciones_basicas(Ac, bc, sol_c)"
   ]
  },
  {
   "cell_type": "markdown",
   "metadata": {
    "id": "OT4cjDJ0rofZ",
    "nbgrader": {
     "grade": false,
     "grade_id": "cell-080fbc35ff528f0d",
     "locked": true,
     "schema_version": 3,
     "solution": false,
     "task": false
    }
   },
   "source": [
    "# Problema 2: Automatización de las soluciones básicas"
   ]
  },
  {
   "cell_type": "markdown",
   "metadata": {
    "id": "qAazcaGItuAX",
    "nbgrader": {
     "grade": false,
     "grade_id": "cell-bb54e1daf6b4347a",
     "locked": true,
     "schema_version": 3,
     "solution": false,
     "task": false
    }
   },
   "source": [
    "Hasta ahora el proceso para obtener estas soluciones ha sido manual y un poco repetitivo. No obstante, varios de estos pasos se pueden hacer de forma programática. La idea de este punto es poder automatizar el proceso de encontrar soluciones básicas de una matriz a partir de una función en Python:\n",
    "\n",
    "Complete el bosquejo de la función dada a continuación (complete las tareas dadas) para encontrar todas las soluciones básicas del sistema de ecuaciones en el formato propuesto. Esta función recibe como parámetros de entrada la matriz $A$ y el vector $b$ de un sistema de ecuaciones lineal.\n",
    "\n",
    "$$ A \\mathbf{x} = \\mathbf{b} \\quad \\longrightarrow \\quad A \\in \\mathbb{R}^{m \\times n}, \\mathbf{x} \\in \\mathbb{R}^n, \\mathbf{b} \\in \\mathbb{R}^m $$\n",
    "\n",
    "Note que varias de estas lineas de código (así como algunas de las que usted debe completar) se han venido haciendo a lo largo del taller."
   ]
  },
  {
   "cell_type": "code",
   "execution_count": null,
   "metadata": {
    "id": "FnVgoH7AsB3m"
   },
   "outputs": [],
   "source": [
    "# Función para hallar soluciones básicas\n",
    "\n",
    "def soluciones_basicas(A, b, handle = True):\n",
    "    \"\"\"\n",
    "    Encuentra las soluciones básicas de un sistema de ecuaciones de la forma:\n",
    "      Ax = b\n",
    "\n",
    "    Parámetros\n",
    "    ----------\n",
    "    A: np.array\n",
    "      Matriz A (mxn)\n",
    "    b: np.array\n",
    "      Vector b (nx1)\n",
    "    handle: bool\n",
    "      Si manejar o no las submatrices singulares (reducción del subsistema eliminando la dependencia lineal)\n",
    "\n",
    "    Retorna\n",
    "    -------\n",
    "    out: dict\n",
    "      Diccionario con todas las soluciones básicas del sistema Ax=b en el formato establecido.\n",
    "\n",
    "    \"\"\"\n",
    "    # Cambio de formato de vectores de entrada\n",
    "    b = np.array(b).reshape(-1,1)\n",
    "    A = np.array(A)\n",
    "\n",
    "    # Guarda matriz original\n",
    "    A_original = A.copy()\n",
    "\n",
    "    # Transforma a forma canónica e identifica filas con pivote\n",
    "    # Reduce la matriz para evitar dependencia lineal\n",
    "    # (Será útil cuando se requiera reducir una submatriz)\n",
    "    Ab = np.c_[A,b]\n",
    "    _ , inds = sympy.Matrix(Ab).rref()\n",
    "    inds = np.array(inds)    \n",
    "    # Remueve filas sin pivote \n",
    "    A = A[inds]\n",
    "    b = b[inds]\n",
    "    \n",
    "    # =====================================================\n",
    "    # COMPLETAR ===========================================\n",
    "    \n",
    "    # Halla todas las posibles combinaciones de matrices cuadradas.\n",
    "    # Hint: Revise las funciones importadas al inicio del notebook\n",
    "    \n",
    "    combinaciones = list()\n",
    "    \n",
    "    # Incializa la salida\n",
    "    out = {'Soluciones':[], 'Bases': []}\n",
    "    \n",
    "    # =====================================================\n",
    "    \n",
    "    # Loop sobre todas las posibles combinaciones\n",
    "    for comb in combinaciones:\n",
    "\n",
    "        # Matriz de trabajo\n",
    "        A_tmp = A[:,comb]\n",
    "        \n",
    "        # =====================================================\n",
    "        # COMPLETAR ===========================================\n",
    "        \n",
    "        # Inicaliza vector solución en 0\n",
    "        x_sol = None\n",
    "        \n",
    "        # Crea la base: Columnas fuera de la base en 0\n",
    "        A_base = A_original.copy()\n",
    "        A_base = None\n",
    "        \n",
    "        # =====================================================\n",
    "\n",
    "        # Soluciona\n",
    "        try:\n",
    "            # =====================================================\n",
    "            # COMPLETAR ===========================================\n",
    "            \n",
    "            # Soluciona para x hallando matriz inversa (solución única)\n",
    "            \n",
    "            x = None\n",
    "            x.reshape(-1)\n",
    "            \n",
    "            # =====================================================\n",
    "\n",
    "            # Guarda solución\n",
    "            x_sol[np.array(comb)] = x\n",
    "            out['Soluciones'].append(x_sol) \n",
    "            \n",
    "            # Guarda base\n",
    "            out['Bases'].append(A_base)\n",
    "        \n",
    "        # Caso que nos encontremos con una matriz singular (Rango deficiente)\n",
    "        except Exception as ex:\n",
    "\n",
    "            # Si se decide no manejar el error se guarda la excepcion (Matriz singular)\n",
    "            if not handle:\n",
    "                out['Soluciones'].append(str(ex))\n",
    "                out['Bases'].append(A_base) \n",
    "\n",
    "            # Se intentan encontrar las soluciones de la submatriz\n",
    "            else:\n",
    "                try:\n",
    "                    # Hallamos soluciones básicas de submatriz utilizando la misma función (Recurrencia)\n",
    "                    # Recuerde que al inicio de la función se eliminan las filas linealmente dependientes\n",
    "                    out2 = soluciones_basicas(A_tmp,b)\n",
    "\n",
    "                    # Incorporamos en solución anterior\n",
    "                    for i in range(out2.shape[0]):\n",
    "                        # =====================================================\n",
    "                        # COMPLETAR ===========================================\n",
    "                        \n",
    "                        # Se guarda la nueva solución\n",
    "                        x_sol = None\n",
    "\n",
    "                        # Se crea y se guarda la nueva A base\n",
    "                        A_sol = A_base.copy()\n",
    "                        A_sol = None\n",
    "\n",
    "                        # Guarda las soluciones\n",
    "                        out['Soluciones'].append(x_sol)\n",
    "                        out['Bases'].append(A_sol)\n",
    "                        \n",
    "                        # =====================================================\n",
    "\n",
    "                # En caso de que vuelva a fallar se guarda definitivamente el error\n",
    "                except:\n",
    "                    out['Soluciones'].append(str('Singular matrix'))\n",
    "                    out['Bases'].append(A_base)\n",
    "\n",
    "    # Formato dataframe\n",
    "    out = pd.DataFrame(out)\n",
    "\n",
    "    return out\n"
   ]
  },
  {
   "cell_type": "markdown",
   "metadata": {
    "id": "tx48HvH6N9R-",
    "nbgrader": {
     "grade": false,
     "grade_id": "cell-0a8f75485b59122e",
     "locked": true,
     "schema_version": 3,
     "solution": false,
     "task": false
    }
   },
   "source": [
    "Ahora pruebe la función que ha completado con las mismas matrices con las que se trabajo antes!"
   ]
  },
  {
   "cell_type": "code",
   "execution_count": null,
   "metadata": {
    "id": "6PiCp8dev4GE",
    "nbgrader": {
     "grade": false,
     "grade_id": "cell-c06381a70c015823",
     "locked": true,
     "schema_version": 3,
     "solution": false,
     "task": false
    }
   },
   "outputs": [],
   "source": [
    "# Matriz a)\n",
    "sol = soluciones_basicas(Aa, ba)\n",
    "maia.pretty_print(sol)"
   ]
  },
  {
   "cell_type": "code",
   "execution_count": null,
   "metadata": {
    "id": "MHG-1zR3v-cv",
    "nbgrader": {
     "grade": false,
     "grade_id": "cell-8b437f74d047a1b5",
     "locked": true,
     "schema_version": 3,
     "solution": false,
     "task": false
    }
   },
   "outputs": [],
   "source": [
    "# Matriz b)\n",
    "sol = soluciones_basicas(Ab, bb, handle=True)\n",
    "maia.pretty_print(sol)"
   ]
  },
  {
   "cell_type": "code",
   "execution_count": null,
   "metadata": {
    "id": "R2dMN2S1sMAf",
    "nbgrader": {
     "grade": false,
     "grade_id": "cell-215bdf4c9aa02971",
     "locked": true,
     "schema_version": 3,
     "solution": false,
     "task": false
    }
   },
   "outputs": [],
   "source": [
    "# Matriz c)\n",
    "sol = soluciones_basicas(Ac, bc)\n",
    "maia.pretty_print(sol)"
   ]
  },
  {
   "cell_type": "markdown",
   "metadata": {
    "id": "OgyuD9WywOea",
    "nbgrader": {
     "grade": false,
     "grade_id": "cell-e7972003e50a88e8",
     "locked": true,
     "schema_version": 3,
     "solution": false,
     "task": false
    }
   },
   "source": [
    "## Calificación P2"
   ]
  },
  {
   "cell_type": "code",
   "execution_count": null,
   "metadata": {
    "id": "Cf4tmhTwwSLr",
    "nbgrader": {
     "grade": true,
     "grade_id": "cell-cce23fdbd07b4c2c",
     "locked": true,
     "points": 45,
     "schema_version": 3,
     "solution": false,
     "task": false
    }
   },
   "outputs": [],
   "source": [
    "maia.calificar_soluciones_basicas(Aa, ba, soluciones_basicas(Aa,ba))\n",
    "maia.calificar_soluciones_basicas(Ab, bb, soluciones_basicas(Ab,bb))\n",
    "maia.calificar_soluciones_basicas(Ac, bc, soluciones_basicas(Ac,bc))"
   ]
  }
 ],
 "metadata": {
  "celltoolbar": "Create Assignment",
  "colab": {
   "collapsed_sections": [
    "7wrxWSOKU94a",
    "TsIC_pyPYV_w",
    "O1LD3QR1si4f",
    "O9wBYfhbmF82",
    "UTAXn8SJsz2W",
    "8LXOXLMPZ91F"
   ],
   "name": "S1TP3_SolucionesBasicas.ipynb",
   "provenance": []
  },
  "kernelspec": {
   "display_name": "Python 3",
   "language": "python",
   "name": "python3"
  },
  "language_info": {
   "codemirror_mode": {
    "name": "ipython",
    "version": 3
   },
   "file_extension": ".py",
   "mimetype": "text/x-python",
   "name": "python",
   "nbconvert_exporter": "python",
   "pygments_lexer": "ipython3",
   "version": "3.7.6"
  },
  "toc": {
   "base_numbering": 1,
   "nav_menu": {},
   "number_sections": true,
   "sideBar": true,
   "skip_h1_title": false,
   "title_cell": "Table of Contents",
   "title_sidebar": "Contents",
   "toc_cell": false,
   "toc_position": {},
   "toc_section_display": true,
   "toc_window_display": true
  }
 },
 "nbformat": 4,
 "nbformat_minor": 1
}
