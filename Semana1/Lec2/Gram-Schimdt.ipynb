{
 "cells": [
  {
   "cell_type": "markdown",
   "metadata": {
    "nbgrader": {
     "grade": false,
     "grade_id": "cell-8152e965acb79bdd",
     "locked": true,
     "schema_version": 3,
     "solution": false,
     "task": false
    }
   },
   "source": [
    "![Banner](img/banner.png)"
   ]
  },
  {
   "cell_type": "markdown",
   "metadata": {
    "id": "MPPCPBbQAsg6",
    "nbgrader": {
     "grade": false,
     "grade_id": "cell-368931375e55b93e",
     "locked": true,
     "schema_version": 3,
     "solution": false,
     "task": false
    }
   },
   "source": [
    "# **Actividad N°2:** Gram-Schimdt\n",
    "\n",
    "***Matemáticas para Machine Learning***.\n",
    "\n",
    "**Semana 1 - Lección 2:** Producto punto.\n",
    "\n",
    "Fernando Enrique Lozano Martínez - Sergio David Salazar Isairias"
   ]
  },
  {
   "cell_type": "markdown",
   "metadata": {
    "id": "L58dY0ltApdX",
    "nbgrader": {
     "grade": false,
     "grade_id": "cell-76182d8adf062b23",
     "locked": true,
     "schema_version": 3,
     "solution": false,
     "task": false
    }
   },
   "source": [
    "## Introducción"
   ]
  },
  {
   "cell_type": "markdown",
   "metadata": {
    "id": "cy_d_H0ri1-j",
    "nbgrader": {
     "grade": false,
     "grade_id": "cell-ce3c0662bb59aea3",
     "locked": true,
     "schema_version": 3,
     "solution": false,
     "task": false
    }
   },
   "source": [
    "### Descripción\n",
    "\n",
    "\n"
   ]
  },
  {
   "cell_type": "markdown",
   "metadata": {
    "id": "xi2gEei_klPH",
    "nbgrader": {
     "grade": false,
     "grade_id": "cell-ecbaa87350183147",
     "locked": true,
     "schema_version": 3,
     "solution": false,
     "task": false
    }
   },
   "source": [
    "El presente *jupyter notebook* contine todo el material para el desarrollo del taller 2 de la semana 1 del curso ***Matemáticas para Machine Learning***, correspondiente a la lección 2: Geometría de un espacio vectorial. En este se utilizará el conocimiento adquirido sobre producto interno para elaborar una función que realice el algoritmo de *Gram Schmidt*.\n",
    "\n",
    "**Objetivos de Aprendizaje:**\n",
    "\n",
    "*   Identificar las diferencias y similitudes entre conjuntos ortogonales y ortonormales.\n",
    "*   Reconocer el funcionamiento del algoritmo *Gram Schmidt*.\n",
    "*   Implementar el algoritmo de *Gram Schmidt*.\n",
    "\n"
   ]
  },
  {
   "cell_type": "markdown",
   "metadata": {
    "nbgrader": {
     "grade": false,
     "grade_id": "cell-33d223c442064b6a",
     "locked": true,
     "schema_version": 3,
     "solution": false,
     "task": false
    }
   },
   "source": [
    "### Metodología"
   ]
  },
  {
   "cell_type": "markdown",
   "metadata": {
    "nbgrader": {
     "grade": false,
     "grade_id": "cell-8fb4dd43d89bebb5",
     "locked": true,
     "schema_version": 3,
     "solution": false,
     "task": false
    }
   },
   "source": [
    "Para desarrollar el taller usted deberá editar las celdas de código dispuestas para esto. Estas estarán marcadas con el siguiente comentario:\n",
    "\n",
    "```python\n",
    "# =====================================================\n",
    "# COMPLETAR ===========================================\n",
    "# \n",
    "\n",
    "# =====================================================\n",
    "```\n",
    "\n",
    "Edite o complete el códgio dentro de estas lineas de comentarios. Dentro de estos comentarios encontrará indicaciónes de lo que debe hacer, así como algunas de las variables que debe utilizar o calcular (puede que estas tengan ya una estructura para llenar o esten solo igualadas a None, complete la asignación)."
   ]
  },
  {
   "cell_type": "markdown",
   "metadata": {
    "id": "zKtEqjSJkOfS",
    "nbgrader": {
     "grade": false,
     "grade_id": "cell-1dba43ae6c774c89",
     "locked": true,
     "schema_version": 3,
     "solution": false,
     "task": false
    }
   },
   "source": [
    "### Teoría\n",
    "\n"
   ]
  },
  {
   "cell_type": "markdown",
   "metadata": {
    "id": "lfNSM5p7Hd5c",
    "nbgrader": {
     "grade": false,
     "grade_id": "cell-913900b0c8e845d6",
     "locked": true,
     "schema_version": 3,
     "solution": false,
     "task": false
    }
   },
   "source": [
    "### Producto punto"
   ]
  },
  {
   "cell_type": "markdown",
   "metadata": {
    "id": "lxCFSZ5yDAEC",
    "nbgrader": {
     "grade": false,
     "grade_id": "cell-4c4633cfbf3c8e32",
     "locked": true,
     "schema_version": 3,
     "solution": false,
     "task": false
    }
   },
   "source": [
    "\n",
    "Sea $V$ un espacio vectorial, el producto interno de $V$ es una función escalar.\n",
    "\\begin{equation*}\n",
    "    \\langle.,.\\rangle : V^{2} \\longrightarrow \\mathbb{R}\n",
    "\\end{equation*}\n",
    "\n",
    "El producto interno permite tener una intuición sobre \"multiplicación de vectores\". Existen diversos productos internos, pero en la clase solo se usara el producto punto. Dados los vectores $v= \\{v_1, v_2, \\dots v_n\\}$ y $w=\\{w_1, w_2, \\dots, w_n \\}$. El producto punto entre $v$ y $w$ denotado por $\\langle v,w\\rangle$, se define de la siguiente forma.\n",
    "\\begin{equation*}\n",
    "    \\langle v,w\\rangle := v_{1}w_{1} + v_{2}w_{2} + \\dots v_{n}w_{n}\n",
    "\\end{equation*}\n",
    "\n",
    "El producto punto es de utilidad, pues permite tener una noción geométrica de $v$ y $w$. En particular, conocer si $v$ y $w$ son ortogonales. Lo anterior por medio de la siguiente formula.\n",
    "\\begin{equation*}\n",
    "    \\langle v,w\\rangle = \\|v \\| \\|w \\| \\cos{\\phi}    \n",
    "\\end{equation*}\n",
    "\n",
    "donde $\\| .\\|$ es la norma euclidiana y $\\phi$ el ángulo entre $v$ y $w$. Si el ángulo entre $v$ y $w$ es de $90°$, $\\cos{\\phi}$ es cero, por tanto el producto punto es cero. De modo que el producto punto entre dos vectores es cero, si y solo si son ortogonales. \n",
    "\n",
    "Lo anterior facilita la comprensión del concepto de un *conjunto ortogonal*. Por definición un conjunto ortogonal es una colección de elementos, los cuales tienen la propiedad de que el angulo entre elementos diferentes es de 90°. Utilizando la operación producto punto se propone una nueva definición (que en escencia es la misma) la cual es que un conjunto es ortogonal si el producto punto entre elementos diferentes es cero."
   ]
  },
  {
   "cell_type": "code",
   "execution_count": 2,
   "metadata": {
    "nbgrader": {
     "grade": false,
     "grade_id": "cell-f31803f574da4d7a",
     "locked": true,
     "schema_version": 3,
     "solution": false,
     "task": false
    },
    "scrolled": true
   },
   "outputs": [],
   "source": [
    "# importar librerias\n",
    "import numpy as np"
   ]
  },
  {
   "cell_type": "code",
   "execution_count": 3,
   "metadata": {},
   "outputs": [],
   "source": [
    "# UTILIDADES =================================\n",
    "# Correr una única vez por sesión ============\n",
    "from maiautils import MaiaUtils\n",
    "ipython = get_ipython()\n",
    "mutils = MaiaUtils(ipython) \n",
    "# ============================================"
   ]
  },
  {
   "cell_type": "code",
   "execution_count": 4,
   "metadata": {},
   "outputs": [],
   "source": [
    "# Cambiar configuración de informe de errores\n",
    "mutils.toggle_traceback()"
   ]
  },
  {
   "cell_type": "markdown",
   "metadata": {
    "id": "blfQLfOvIUmO",
    "nbgrader": {
     "grade": false,
     "grade_id": "cell-263995b0af041e03",
     "locked": true,
     "schema_version": 3,
     "solution": false,
     "task": false
    }
   },
   "source": [
    "#### Ejemplo - Versión a mano"
   ]
  },
  {
   "cell_type": "markdown",
   "metadata": {
    "id": "rKk2cb_eIgGD",
    "nbgrader": {
     "grade": false,
     "grade_id": "cell-b3fe289596c71c6f",
     "locked": true,
     "schema_version": 3,
     "solution": false,
     "task": false
    }
   },
   "source": [
    "Sea $n_1 = (1,2,0)$, $n_2 = (3,4,0)$, $n_3 = (-2,1,0)$.\n",
    "\n",
    "*   $⟨n_1,n_2⟩=(1×3) + (2×4) + (0×0)= 11$.\n",
    "*   $⟨n_1,n_3⟩=(1×-2) + (2×1) + (0×0)= 0$.\n",
    "*   $⟨n_2,n_3⟩=(3×-2) + (4×1) + (0×0)= -2$.\n",
    "\n",
    "Como se evidencia $n_1$ y $n_3$ con vectores ortogonales, pero el conjunto conformado por $\\{n_{1},n_{2},n_{3}\\}$ no es ortogonal."
   ]
  },
  {
   "cell_type": "markdown",
   "metadata": {
    "id": "c2Wr724LHk9L",
    "nbgrader": {
     "grade": false,
     "grade_id": "cell-dac261d6ea47b94d",
     "locked": true,
     "schema_version": 3,
     "solution": false,
     "task": false
    }
   },
   "source": [
    "#### Ejemplo - Versión en código"
   ]
  },
  {
   "cell_type": "markdown",
   "metadata": {
    "id": "7PcGaw3BJAbO",
    "nbgrader": {
     "grade": false,
     "grade_id": "cell-4a3bb7e396f0c347",
     "locked": true,
     "schema_version": 3,
     "solution": false,
     "task": false
    }
   },
   "source": [
    "\n",
    "La libreria *numpy* provee la función *np.dot* la cual permite calcular el producto interno (también conocido como producto punto) entre dos *arrays*."
   ]
  },
  {
   "cell_type": "code",
   "execution_count": null,
   "metadata": {
    "scrolled": true
   },
   "outputs": [],
   "source": [
    "# ===========================================================================\n",
    "# VERSION SIMPLE\n",
    "#   usando python como calculadora\n",
    "# ===========================================================================\n",
    "\n",
    "# DEFINIR n1, n2 y n3 \n",
    "n1 = np.array([1,2,0])\n",
    "n2 = np.array([3,4,0])\n",
    "n3 = np.array([-2,1,0])\n",
    "\n",
    "n1_dot_n2 = np.dot(n1,n2)\n",
    "n1_dot_n3 = np.dot(n1,n3)\n",
    "n2_dot_n3 = np.dot(n2,n3)\n",
    "\n",
    "# IMPRIMIR EL RESULTADO\n",
    "print(f'El producto punto entre n_1 y n_2 es igual a: {n1_dot_n2}')\n",
    "print(f'El producto punto entre n_1 y n_3 es igual a: {n1_dot_n3}')\n",
    "print(f'El producto punto entre n_2 y n_3 es igual a: {n2_dot_n3}')"
   ]
  },
  {
   "cell_type": "code",
   "execution_count": null,
   "metadata": {
    "colab": {
     "base_uri": "https://localhost:8080/"
    },
    "id": "282kQh0cAbGl",
    "outputId": "b036750b-2ac4-4497-ee43-3bd8d9a78bf3",
    "scrolled": true
   },
   "outputs": [],
   "source": [
    "# ===========================================================================\n",
    "# VERSION AVANZADA\n",
    "#   usando recorridos de python\n",
    "# ===========================================================================\n",
    "\n",
    "# DEFINIR LISTA DE ARRAYs\n",
    "n = [n1,n2,n3]\n",
    "\n",
    "# CALCULAR LOS PRODUCTOS PUNTOS\n",
    "# Definir el primer indice a revisar\n",
    "i = 0\n",
    "while i < len(n):\n",
    "    \n",
    "    # No se desea el producto punto entre un vector consigo mismo. Por tanto solo se revisan los vectores siguientes.\n",
    "    j = i +1\n",
    "    while j < len(n):\n",
    "        \n",
    "        # Calcula el producto interno entre el vector i-esimo y el vector j-esimo\n",
    "        prod = np.dot(n[i],n[j])\n",
    "        \n",
    "        # Imprime el resultado de la operación\n",
    "        print(f'El producto punto entre {n[i]} y {n[j]} es igual a : {prod}')\n",
    "        \n",
    "        # Avance del indice j\n",
    "        j = j + 1\n",
    "        \n",
    "    # Avance del indice i    \n",
    "    i = i + 1"
   ]
  },
  {
   "cell_type": "markdown",
   "metadata": {
    "nbgrader": {
     "grade": false,
     "grade_id": "cell-f9ff84d4b2b34c9f",
     "locked": true,
     "schema_version": 3,
     "solution": false,
     "task": false
    }
   },
   "source": [
    "![dot-product-example.png](img/dot-product-example.png)"
   ]
  },
  {
   "cell_type": "markdown",
   "metadata": {
    "id": "mDpqjoiaPJGx",
    "nbgrader": {
     "grade": false,
     "grade_id": "cell-5629d130b5730679",
     "locked": true,
     "schema_version": 3,
     "solution": false,
     "task": false
    }
   },
   "source": [
    "En la imagen anterior se encuentra la gráfica de los vectores $n_{1}$, $n_{2}$ y $n_{3}$ en la curva de nivel $z=0$. Se observa que el angulo entre los $3$ elementos no es de $90°$, por lo que no corresponden a un conjunto ortogonal, lo cual concuerda con los resultados númericos."
   ]
  },
  {
   "cell_type": "markdown",
   "metadata": {
    "id": "H3K0bMX7JbnV",
    "nbgrader": {
     "grade": false,
     "grade_id": "cell-13a34290aa545cf3",
     "locked": true,
     "schema_version": 3,
     "solution": false,
     "task": false
    }
   },
   "source": [
    "### Gram Schmidt"
   ]
  },
  {
   "cell_type": "markdown",
   "metadata": {
    "id": "9Y5sg5fJJi_B",
    "nbgrader": {
     "grade": false,
     "grade_id": "cell-711a93df4f3ba43b",
     "locked": true,
     "schema_version": 3,
     "solution": false,
     "task": false
    }
   },
   "source": [
    "El algoritmo de Gram-Schimdt es un procedimiento que permite generar un conjunto ortonormal a partir de un conjunto no ortonormal inicial. En particular, si se aplica el algoritmo a una base cualquiera, el resultado será una base ortonormal.\n",
    "\n",
    "\n",
    "Dado un conjunto linealmente independiente $\\beta = \\{v_1, v_2, \\dots, v_m\\}$. Se calculan los elementos del nuevo conjunto $\\alpha$ de la siguiente forma.\n",
    "\n",
    "\\begin{align*}\n",
    "    \\alpha_1 &= v_1\\\\\n",
    "    \\alpha_2 &= v_2 - \\frac{\\langle v_2,\\alpha_{1}\\rangle}{\\langle\\alpha_{1},\\alpha_{1}\\rangle} \\alpha_{1}\\\\\n",
    "    \\alpha_3 &= v_3 - \\frac{\\langle v_3,\\alpha_{1}\\rangle}{\\langle\\alpha_{1},\\alpha_{1}\\rangle} \\alpha_{1}- \\frac{\\langle v_3,\\alpha_{2}\\rangle}{\\langle\\alpha_{2},\\alpha_{2}\\rangle} \\alpha_{2}\\\\\n",
    "    &\\vdots\\\\\n",
    "    \\alpha_{m} &= v_{m} - \\sum_{i=1}^{m-1}\\frac{\\langle v_m,\\alpha_{i}\\rangle}{\\langle\\alpha_{i},\\alpha_{i}\\rangle} \\alpha_{i}\n",
    "\\end{align*}\n",
    "\n",
    "\n",
    "donde cada término $\\frac{\\langle v_i,\\alpha_{j}\\rangle}{\\langle\\alpha_{j},\\alpha_{j}\\rangle} \\alpha_{j}$ se conoce como proyección de $v_i$ sobre $α_j$. \n",
    "\n",
    "Como resultado, se obtiene $\\alpha = \\{\\alpha_1, \\alpha_2, \\dots, \\alpha_m\\}$ una base ortogonal. Ahora bien, para normalizar $\\alpha$ y tener una base ortonormal, se divide cada $\\alpha_i$ entre su norma.\n",
    "\n",
    "\\begin{equation*}\n",
    "    \\mathcal{E} = \\left\\{e_1, e_2,  \\dots, e_m \\right\\}\n",
    "\\end{equation*}\n",
    "\n",
    "donde $e_i = \\frac{\\alpha_i}{\\|\\alpha_i\\|} $, con $\\|α_i \\|$ la norma euclidiana de $α_i$."
   ]
  },
  {
   "cell_type": "markdown",
   "metadata": {
    "id": "WeTkTlWRQNxU",
    "nbgrader": {
     "grade": false,
     "grade_id": "cell-cc4a97a2a6b6f931",
     "locked": true,
     "schema_version": 3,
     "solution": false,
     "task": false
    }
   },
   "source": [
    "#### Versión a mano"
   ]
  },
  {
   "cell_type": "markdown",
   "metadata": {
    "id": "NBBrdNkyQQnZ",
    "nbgrader": {
     "grade": false,
     "grade_id": "cell-91a871c2f8af640f",
     "locked": true,
     "schema_version": 3,
     "solution": false,
     "task": false
    }
   },
   "source": [
    "Sea $\\beta \\subset \\mathbb{R}^{3}$ linealmente independiente, calcule $\\mathcal{E} \\subset \\mathbb{R}^{3}$ ortonormal por medio del algoritmo de Gram-Schmidt.\n",
    "\n",
    "\\begin{equation*}\n",
    "    \\beta = \\left\\{ \n",
    "    \\begin{pmatrix}\n",
    "    2\\\\\n",
    "    0\\\\\n",
    "    0\n",
    "    \\end{pmatrix},\\begin{pmatrix}\n",
    "    2\\\\\n",
    "    4\\\\\n",
    "    0\n",
    "    \\end{pmatrix},\\begin{pmatrix}\n",
    "    0\\\\\n",
    "    2\\\\\n",
    "    2\n",
    "    \\end{pmatrix}\n",
    "    \\right\\}\n",
    "\\end{equation*}\n",
    "\n",
    "Declarar $\\alpha_1$.\n",
    "\\begin{equation*}\n",
    "    \\alpha_1 = \\begin{pmatrix}\n",
    "    2\\\\\n",
    "    0\\\\\n",
    "    0\n",
    "    \\end{pmatrix}\n",
    "\\end{equation*}\n",
    "\n",
    "Calcular $\\alpha_2$.\n",
    "\\begin{equation*}\n",
    "    \\alpha_2 = \\begin{pmatrix}\n",
    "    2\\\\\n",
    "    4\\\\\n",
    "    0\n",
    "    \\end{pmatrix} - \\frac{4}{4}\\begin{pmatrix}\n",
    "    2\\\\\n",
    "    0\\\\\n",
    "    0\n",
    "    \\end{pmatrix}\n",
    "    = \\begin{pmatrix}\n",
    "    0\\\\\n",
    "    4\\\\\n",
    "    0\n",
    "    \\end{pmatrix}\n",
    "\\end{equation*}\n",
    "\n",
    "Calcular $\\alpha_3$.\n",
    "\\begin{equation*}\n",
    "    \\alpha_3 = \\begin{pmatrix}\n",
    "    0\\\\\n",
    "    2\\\\\n",
    "    2\n",
    "    \\end{pmatrix} - \\frac{0}{4}\\begin{pmatrix}\n",
    "    2\\\\\n",
    "    0\\\\\n",
    "    0\n",
    "    \\end{pmatrix} - \\frac{8}{16}\\begin{pmatrix}\n",
    "    0\\\\\n",
    "    4\\\\\n",
    "    0\n",
    "    \\end{pmatrix}\n",
    "    = \n",
    "    \\begin{pmatrix}\n",
    "    0\\\\\n",
    "    0\\\\\n",
    "    2\n",
    "    \\end{pmatrix}\n",
    "\\end{equation*}\n",
    "\n",
    "Dado $\\alpha$, se calcula $\\mathcal{E}$.\n",
    "\\begin{equation*}\n",
    "    \\mathcal{E} = \\left\\{\\begin{pmatrix}\n",
    "    1\\\\\n",
    "    0\\\\\n",
    "    0\n",
    "    \\end{pmatrix},\\begin{pmatrix}\n",
    "    0\\\\\n",
    "    1\\\\\n",
    "    0\n",
    "    \\end{pmatrix},\\begin{pmatrix}\n",
    "    0\\\\\n",
    "    0\\\\\n",
    "    1\n",
    "    \\end{pmatrix} \\right\\}\n",
    "\\end{equation*}"
   ]
  },
  {
   "cell_type": "markdown",
   "metadata": {
    "id": "8k_wc9wSXRYP",
    "nbgrader": {
     "grade": false,
     "grade_id": "cell-e769393d11bab580",
     "locked": true,
     "schema_version": 3,
     "solution": false,
     "task": false
    }
   },
   "source": [
    "#### Versión en código"
   ]
  },
  {
   "cell_type": "code",
   "execution_count": null,
   "metadata": {
    "colab": {
     "base_uri": "https://localhost:8080/"
    },
    "id": "PChc2bvWXV5m",
    "outputId": "d13a4e3b-176d-4512-bd79-68b2d6289c5b",
    "scrolled": true
   },
   "outputs": [],
   "source": [
    "# DEFINIR LOS VECTORES DEL CONJUNTO BETA\n",
    "b1 = np.array([2,0,0])\n",
    "b2 = np.array([2,4,0])\n",
    "b3 = np.array([0,2,2])\n",
    "\n",
    "a1 = b1\n",
    "\n",
    "# =====================================================\n",
    "# COMPLETAR ===========================================\n",
    "# -\n",
    "# reemplace la lista de ceros por la expresión correcta para a2\n",
    "# -\n",
    "\n",
    "a2 = [0,0,0]\n",
    "\n",
    "# =====================================================\n",
    "\n",
    "a3 = b3 - (np.dot(b3,a1)/np.dot(a1,a1))*a1 - (np.dot(b3,a2)/np.dot(a2,a2))*a2\n",
    "\n",
    "e1 = (1/np.linalg.norm(a1))*a1\n",
    "e2 = (1/np.linalg.norm(a2))*a2\n",
    "\n",
    "# =====================================================\n",
    "# COMPLETAR ===========================================\n",
    "# -\n",
    "# reemplace la lista de ceros por la expresión correcta para e3\n",
    "# -\n",
    "\n",
    "e3 = [0,0,0]\n",
    "\n",
    "# =====================================================\n",
    "\n",
    "print(f'Los elementos del conjunto ortonormal resultante de realizar el algoritmo de Gram - Schmidt son: {e1}, {e2}, {e3}')"
   ]
  },
  {
   "cell_type": "markdown",
   "metadata": {
    "nbgrader": {
     "grade": false,
     "grade_id": "cell-86eeacd2046d54e8",
     "locked": true,
     "schema_version": 3,
     "solution": false,
     "task": false
    }
   },
   "source": [
    "![gram-s-example.png](img/gram-s-example.png)"
   ]
  },
  {
   "cell_type": "markdown",
   "metadata": {
    "id": "Yel90B_BZK7w",
    "nbgrader": {
     "grade": false,
     "grade_id": "cell-e6968f4d647877f1",
     "locked": true,
     "schema_version": 3,
     "solution": false,
     "task": false
    }
   },
   "source": [
    "En la imagen anterior se encuentra el algoritmo de Gram-Schmidt aplicado a un conjunto en $\\mathbb{R}^2$. Donde $v_1 = (1,1)$ y $v_2 = (-1,2)$."
   ]
  },
  {
   "cell_type": "markdown",
   "metadata": {
    "id": "Bel7AzPmm5eN",
    "nbgrader": {
     "grade": false,
     "grade_id": "cell-2a009cf721b8e03a",
     "locked": true,
     "schema_version": 3,
     "solution": false,
     "task": false
    }
   },
   "source": [
    "### Punto 1. Conjuntos ortogonales"
   ]
  },
  {
   "cell_type": "markdown",
   "metadata": {
    "id": "AzT7i46soibt",
    "nbgrader": {
     "grade": false,
     "grade_id": "cell-b5d88efc5e73dbb2",
     "locked": true,
     "schema_version": 3,
     "solution": false,
     "task": false
    }
   },
   "source": [
    "Escriba una función en Python que tenga como párametro de entrada una lista con los vectores un conjunto dado. La función debe retornar un booleano que índique si el conjunto es ortogonal o no.\n",
    "\n",
    "Luego, utilice la función para determinar si los siguientes conjuntos son ortogonales.\n",
    "\n",
    "\n",
    "*   $β = \\{(0,1,1),(3,4,9),(10,0,1)\\}$\n",
    "*   $β = \\{(0,1,1),(3,0,0),(0,-1,1)\\}$\n",
    "\n",
    "\n",
    "\n",
    "\n"
   ]
  },
  {
   "cell_type": "code",
   "execution_count": null,
   "metadata": {
    "scrolled": true
   },
   "outputs": [],
   "source": [
    "def es_ortogonal(v_list:list):\n",
    "    \"\"\" \n",
    "    Determina si un conjunto dado es ortogonal\n",
    "    ___________________________________\n",
    "    Entrada:\n",
    "    v_list:    [list] Conjunto de vectores\n",
    "    ___________________________________\n",
    "    Salida:\n",
    "    ortogonal: [boolean] True si el conjunto es ortogonal, False si no es ortogonal\n",
    "    \"\"\"\n",
    "\n",
    "    # Variable booleana que se retorna al final del código\n",
    "    ortogonal = True\n",
    "\n",
    "    # =====================================================\n",
    "    # COMPLETAR ===========================================\n",
    "    # -\n",
    "    # HINT: piense en un algoritmo que le permita calcular\n",
    "    #      todas las combinaciones de productos punto\n",
    "    # =====================================================\n",
    "    \n",
    "    return ortogonal"
   ]
  },
  {
   "cell_type": "code",
   "execution_count": null,
   "metadata": {
    "nbgrader": {
     "grade": true,
     "grade_id": "cell-4463c9519c3e0d52",
     "locked": true,
     "points": 0,
     "schema_version": 3,
     "solution": false,
     "task": false
    }
   },
   "outputs": [],
   "source": [
    "# PROBAR =======================================================================================\n",
    "v = [[0,1,1],[3,4,9],[10,0,1]]\n",
    "ortho = es_ortogonal(v)\n",
    "print(ortho)\n",
    "### BEGIN HIDDEN TESTS\n",
    "### END HIDDEN TESTS"
   ]
  },
  {
   "cell_type": "code",
   "execution_count": null,
   "metadata": {
    "id": "YIsMcFm-cs-h",
    "nbgrader": {
     "grade": true,
     "grade_id": "cell-7ceb318ccf09d5b5",
     "locked": true,
     "points": 20,
     "schema_version": 3,
     "solution": false,
     "task": false
    },
    "scrolled": true
   },
   "outputs": [],
   "source": [
    "# PROBAR =======================================================================================\n",
    "v = [[0,1,1],[3,0,0],[0,-1,1]]\n",
    "ortho = es_ortogonal(v)\n",
    "print(ortho)\n",
    "### BEGIN HIDDEN TESTS\n",
    "### Pruebas básicas\n",
    "\n",
    "# DICCIONARIO CON LOS ELEMENTOS QUE SE USARAN PARA COMPROBAR LA FUNCION\n",
    "\n",
    "dic_assert = {'PRUEBA':[],'BOOLEAN':[],'MENSAJE':[]}\n",
    "\n",
    "dic_assert['PRUEBA'].append([[1,2],[-2,1]])\n",
    "dic_assert['BOOLEAN'].append(True)\n",
    "dic_assert['MENSAJE'].append(\"Vectores: [1,2], [-2,1] \\nValor esperado: son ortogonales.\")\n",
    "\n",
    "dic_assert['PRUEBA'].append([[0,0],[-2,1]])\n",
    "dic_assert['BOOLEAN'].append(True)\n",
    "dic_assert['MENSAJE'].append(\"Vectores: [0,0], [-2,1] \\nValor esperado: son ortogonales \\nNota: El vector cero es ortogonal a cualquier otro vector.\")\n",
    "\n",
    "dic_assert['PRUEBA'].append([[1,1],[-2,1]])\n",
    "dic_assert['BOOLEAN'].append(False)\n",
    "dic_assert['MENSAJE'].append(\"Vectores: [1,1], [-2,1] \\nValor esperado: NO son ortogonales\")\n",
    "\n",
    "dic_assert['PRUEBA'].append([[1,1],[-2,1],[3,4]])\n",
    "dic_assert['BOOLEAN'].append(False)\n",
    "dic_assert['MENSAJE'].append(\"Vectores: [1,1], [-2,1], [3,4] \\nValor esperado: NO son ortogonales \\nNota: Dado que hay 3 vectores no nulos en un espacio de dimensión 2, el conjunto conformado por estos no puede ser ortogonal.\")\n",
    "\n",
    "dic_assert['PRUEBA'].append([[2,0,0],[0,0,9],[0,3,0]])\n",
    "dic_assert['BOOLEAN'].append(True)\n",
    "dic_assert['MENSAJE'].append(\"Vectores: [2,0,0], [0,0,9], [0,3,0] \\nValor esperado: son ortogonales\")\n",
    "\n",
    "dic_assert['PRUEBA'].append([[0,0],[0,0],[0,1]])\n",
    "dic_assert['BOOLEAN'].append(True)\n",
    "dic_assert['MENSAJE'].append(\"Vectores: [0,0], [0,0], [0,1] \\nValor esperado: son ortogonales\")\n",
    "\n",
    "\n",
    "for i in range(0,len(dic_assert['PRUEBA'])):\n",
    "    \"\"\"Recorre el diccionario dic_assert realizando una comparación entre la salida del código y su valor esperado\"\"\" \n",
    "    prueba = dic_assert['PRUEBA'][i]\n",
    "    value = dic_assert['BOOLEAN'][i]\n",
    "    resumen = dic_assert['MENSAJE'][i]\n",
    "    assert es_ortogonal(prueba) == value, f\"\\nRESPUESTA INCORRECTA EN LA PRUEBA {i+1} \\nRESUMEN: \\n{resumen}.\"\n",
    "### END HIDDEN TESTS"
   ]
  },
  {
   "cell_type": "markdown",
   "metadata": {
    "id": "x_TjUC3_sGod",
    "nbgrader": {
     "grade": false,
     "grade_id": "cell-ff361a79acdb9a38",
     "locked": true,
     "schema_version": 3,
     "solution": false,
     "task": false
    }
   },
   "source": [
    "### Punto 2. Gram - Schmidt"
   ]
  },
  {
   "cell_type": "markdown",
   "metadata": {
    "id": "ItGZxYlitP6U",
    "nbgrader": {
     "grade": false,
     "grade_id": "cell-7f785d3c5adfcd27",
     "locked": true,
     "schema_version": 3,
     "solution": false,
     "task": false
    }
   },
   "source": [
    "Escriba una función en Python que realiza el algoritmo de Gram-Schmidt. \n",
    "\n",
    "*Nota*: Si el conjunto que se utiliza para el algoritmo de Gram-Schmidt es linealmente dependiente, se produce el vector cero en una de las iteraciones, lo cual genera inconvientes en el calculó de la siguiente iteración, pues su norma es cero."
   ]
  },
  {
   "cell_type": "code",
   "execution_count": null,
   "metadata": {
    "id": "_M8mJIwZSsdV",
    "scrolled": true
   },
   "outputs": [],
   "source": [
    "def gram_schmindt(v_list:list):\n",
    "    \"\"\"\n",
    "    Recibe un conjunto de vectores linealmente independientes \n",
    "      y obtiene un conjunto ortonormal por medio del algoritmo de gram-schimdt\n",
    "    ___________________________________\n",
    "    Entrada:\n",
    "    v_list: [list] Lista de los elementos del conjunto \\beta'\n",
    "    ___________________________________\n",
    "    Salida:\n",
    "    v_list_gs: [list]  Lista de los vectores resultantes del algoritmo de gram-schimdt\n",
    "    \"\"\"\n",
    "\n",
    "    # Lista que contiene los elementos del conjunto ortonormal final.\n",
    "    v_list_gs = []\n",
    "\n",
    "    # Se define el vector de ceros.\n",
    "    vector_cero = np.zeros(len(v_list[0]))\n",
    "\n",
    "    # Recorrido de los elementos de v_list\n",
    "    for i in range(0,len(v_list)): \n",
    "        # Elemento actual de la iteración (v_i).\n",
    "        actual = np.array(v_list[i])\n",
    "\n",
    "        # Vector que contiene la suma de las proyecciones de 'actual' sobre los elementos de 'v_list_gs'\n",
    "        proyeccion = vector_cero\n",
    "\n",
    "        # Rcorrido de los elementos del conjunto ortogonal\n",
    "        for j in range(0,len(v_list_gs)):\n",
    "            # Elemento del conjunto ortogonal parcial\n",
    "            aj = np.array(v_list_gs[j])\n",
    "\n",
    "            # =====================================================\n",
    "            # COMPLETAR ===========================================\n",
    "            \n",
    "            # Actualización del vector 'proyeccion'\n",
    "            # cambie vector_cero por la expresión corrrecta\n",
    "            # recuerde que las proyecciones se 'acumulan'\n",
    "            \n",
    "            proyeccion = vector_cero\n",
    "            \n",
    "            # =====================================================\n",
    "            \n",
    "            \n",
    "        # =====================================================\n",
    "        # COMPLETAR ===========================================\n",
    "        \n",
    "        # Calcular el siguiente vector del conjunto ortonormal\n",
    "        # cambie vector_cero por la expresión corrrecta\n",
    "        \n",
    "        a_siguiente = vector_cero\n",
    "        \n",
    "        # =====================================================\n",
    "\n",
    "        # Determina si el vector resultante de la iteración (i) es el vector cero.\n",
    "        if (a_siguiente!=vector_cero).any():\n",
    "            # =====================================================\n",
    "            # COMPLETAR ===========================================\n",
    "\n",
    "            # normalice el vector y agregue el resultado a v_list_gs\n",
    "            2+2\n",
    "            # =====================================================\n",
    "\n",
    "    # Transformar cada elemento de v_list_gs de formato array a formato de lista (list).\n",
    "    for i in range(len(v_list_gs)):\n",
    "        v_list_gs[i] = v_list_gs[i].tolist()\n",
    "\n",
    "    # Retornar la lista con los elementos resultantes del algoritmo de Gram-Schmidt\n",
    "    return v_list_gs"
   ]
  },
  {
   "cell_type": "code",
   "execution_count": null,
   "metadata": {
    "colab": {
     "base_uri": "https://localhost:8080/"
    },
    "id": "HSKH-VRtTKFM",
    "outputId": "fa2443eb-a0a4-411b-d7fb-6b7a81eb2c35",
    "scrolled": true
   },
   "outputs": [],
   "source": [
    "# PROBAR =======================================================================================\n",
    "v = [[2,0,0],[2,4,0],[0,2,2]]\n",
    "v_gs = gram_schmindt(v)\n",
    "print(v_gs)"
   ]
  },
  {
   "cell_type": "code",
   "execution_count": null,
   "metadata": {
    "colab": {
     "base_uri": "https://localhost:8080/"
    },
    "id": "JEaMUO2odmfb",
    "nbgrader": {
     "grade": true,
     "grade_id": "cell-c1e16eeb804d6085",
     "locked": true,
     "points": 80,
     "schema_version": 3,
     "solution": false,
     "task": false
    },
    "outputId": "e17adeb1-367c-430f-e97d-0338df2bb005",
    "scrolled": true
   },
   "outputs": [],
   "source": [
    "# PROBAR =======================================================================================\n",
    "v = [[1,1],[-1,2]]\n",
    "v_gs = gram_schmindt(v)\n",
    "print(v_gs)\n",
    "### BEGIN HIDDEN TESTS\n",
    "\n",
    "# Solución ========================================\n",
    "\n",
    "# Prueba ========================================================================\n",
    "dic_assert = {'PRUEBA':[],'VALOR_ESPERADO':[]}\n",
    "\n",
    "dic_assert['PRUEBA'].append([[0,0,0]])\n",
    "dic_assert['VALOR_ESPERADO'].append([])\n",
    "\n",
    "dic_assert['PRUEBA'].append([[2,0],[-1,2]])\n",
    "dic_assert['VALOR_ESPERADO'].append([[1.0, 0.0], [0.0, 1.0]])\n",
    "\n",
    "dic_assert['PRUEBA'].append([[0,0],[3,4]])\n",
    "dic_assert['VALOR_ESPERADO'].append([[0.6, 0.8]])\n",
    "\n",
    "dic_assert['PRUEBA'].append([[2,0,0],[2,4,0],[0,2,2],[4,6,2]])\n",
    "dic_assert['VALOR_ESPERADO'].append([[1.0, 0.0, 0.0], [0.0, 1.0, 0.0], [0.0, 0.0, 1.0]])\n",
    "\n",
    "dic_assert['PRUEBA'].append([[1,1,1,1],[2,2,2,2],[3,3,3,3]])\n",
    "dic_assert['VALOR_ESPERADO'].append([[0.5, 0.5, 0.5, 0.5]])\n",
    "\n",
    "dic_assert['PRUEBA'].append([[1,0,0,0],[0,4,3,0],[0,0,0,2]])\n",
    "dic_assert['VALOR_ESPERADO'].append([[1.0, 0.0, 0.0, 0.0], [0.0, 0.8, 0.6, 0.0], [0.0, 0.0, 0.0, 1.0]])\n",
    "\n",
    "dic_assert['PRUEBA'].append([[1,0,0,0],[0,4,3,0],[0,0,0,2],[0,4,3,2],[0,0,0,0],[1,4,3,2]])\n",
    "dic_assert['VALOR_ESPERADO'].append([[1.0, 0.0, 0.0, 0.0], [0.0, 0.8, 0.6, 0.0], [0.0, 0.0, 0.0, 1.0]])\n",
    "\n",
    "\n",
    "for i in range(0,len(dic_assert['PRUEBA'])):\n",
    "    \"\"\" Recorre el diccionario dic_assert realizando una comparación entre la salida del código y su valor esperado\"\"\" \n",
    "    prueba = dic_assert['PRUEBA'][i]\n",
    "    value = dic_assert['VALOR_ESPERADO'][i]\n",
    "    assert (gram_schmindt(prueba) == value), f\"\\nRESPUESTA INCORRECTA EN LA PRUEBA {i+1} \\nEL VALOR ESPERADO ES \\n{value}\"\n",
    "### END HIDDEN TESTS"
   ]
  }
 ],
 "metadata": {
  "celltoolbar": "Create Assignment",
  "colab": {
   "collapsed_sections": [
    "blfQLfOvIUmO"
   ],
   "name": "S1TP2_ProductoInterno.ipynb",
   "provenance": [],
   "toc_visible": true
  },
  "kernelspec": {
   "display_name": "Python 3",
   "language": "python",
   "name": "python3"
  },
  "language_info": {
   "codemirror_mode": {
    "name": "ipython",
    "version": 3
   },
   "file_extension": ".py",
   "mimetype": "text/x-python",
   "name": "python",
   "nbconvert_exporter": "python",
   "pygments_lexer": "ipython3",
   "version": "3.7.6"
  },
  "toc": {
   "base_numbering": 1,
   "nav_menu": {},
   "number_sections": true,
   "sideBar": true,
   "skip_h1_title": false,
   "title_cell": "Table of Contents",
   "title_sidebar": "Contents",
   "toc_cell": false,
   "toc_position": {},
   "toc_section_display": true,
   "toc_window_display": true
  }
 },
 "nbformat": 4,
 "nbformat_minor": 1
}
