{
 "cells": [
  {
   "cell_type": "markdown",
   "metadata": {
    "nbgrader": {
     "grade": false,
     "grade_id": "cell-a0fc1c552f90652b",
     "locked": true,
     "schema_version": 3,
     "solution": false,
     "task": false
    }
   },
   "source": [
    "![Banner](img/banner.png)"
   ]
  },
  {
   "cell_type": "markdown",
   "metadata": {
    "nbgrader": {
     "grade": false,
     "grade_id": "cell-f4a1e47617e81a8f",
     "locked": true,
     "schema_version": 3,
     "solution": false,
     "task": false
    }
   },
   "source": [
    "# **Actividad No.3:** Desigualdades Probabilísticas\n",
    "\n",
    "***Matemáticas para Machine Learning***.\n",
    "\n",
    "**Semana 4 - Lección 3:** Regresión lineal y distribuciones de probabilidad.\n",
    "\n",
    "**Profesor:** *Fernando Lozano* - **Autor Notebook:** *Sergio David Salazar Isairias*"
   ]
  },
  {
   "cell_type": "markdown",
   "metadata": {
    "nbgrader": {
     "grade": false,
     "grade_id": "cell-99c97225b88ee102",
     "locked": true,
     "schema_version": 3,
     "solution": false,
     "task": false
    }
   },
   "source": [
    "# Introducción"
   ]
  },
  {
   "cell_type": "markdown",
   "metadata": {
    "nbgrader": {
     "grade": false,
     "grade_id": "cell-04ade102c73a3080",
     "locked": true,
     "schema_version": 3,
     "solution": false,
     "task": false
    }
   },
   "source": [
    "## Descripción"
   ]
  },
  {
   "cell_type": "markdown",
   "metadata": {
    "nbgrader": {
     "grade": false,
     "grade_id": "cell-5bb95e4a0ff3c0c3",
     "locked": true,
     "schema_version": 3,
     "solution": false,
     "task": false
    }
   },
   "source": [
    "El presente *jupyter notebook* contine todo el material para el desarrollo de la actividad 3 de la semana 4 del curso ***Matemáticas para Machine Learning***, correspondiente a la lección 3: Distribuciones de probabilidad. En este se utilizará el conocimiento adquirido sobre desigualdades probabilisticas para analizar distribuciones de probabilidad.\n",
    "\n",
    "**Objetivos de Aprendizaje:**\n",
    "\n",
    "*   Utilizar desigualdades de probabilisticas para identificar diferencias entre distribuciones de probabilidad."
   ]
  },
  {
   "cell_type": "markdown",
   "metadata": {
    "nbgrader": {
     "grade": false,
     "grade_id": "cell-250abbd543fcd77a",
     "locked": true,
     "schema_version": 3,
     "solution": false,
     "task": false
    }
   },
   "source": [
    "## Metodología"
   ]
  },
  {
   "cell_type": "markdown",
   "metadata": {
    "nbgrader": {
     "grade": false,
     "grade_id": "cell-0d2e2025a3f491a6",
     "locked": true,
     "schema_version": 3,
     "solution": false,
     "task": false
    }
   },
   "source": [
    "Para desarrollar el taller usted deberá editar las celdas de código dispuestas para esto. Estas estarán marcadas con el siguiente comentario:\n",
    "\n",
    "```python\n",
    "# =====================================================\n",
    "# COMPLETAR ===========================================\n",
    "# \n",
    "\n",
    "# =====================================================\n",
    "```\n",
    "\n",
    "Edite o complete el códgio dentro de estas líneas de comentarios. Dentro de estos comentarios encontrará indicaciones de lo que debe hacer, así como algunas de las variables que debe utilizar o calcular (puede que estas tengan ya una estructura para llenar o esten solo igualadas a None, complete la asignación)."
   ]
  },
  {
   "cell_type": "markdown",
   "metadata": {
    "nbgrader": {
     "grade": false,
     "grade_id": "cell-c0d87108458444b1",
     "locked": true,
     "schema_version": 3,
     "solution": false,
     "task": false
    }
   },
   "source": [
    "# Teoría"
   ]
  },
  {
   "cell_type": "markdown",
   "metadata": {
    "nbgrader": {
     "grade": false,
     "grade_id": "cell-0d62bd3db1aa1dee",
     "locked": true,
     "schema_version": 3,
     "solution": false,
     "task": false
    }
   },
   "source": [
    "En la práctica identificar la distribución de densidad de probabilidad de una serie de datos requiere de pruebas de bondad de ajuste, así como métodos empíricos, sin olvidar la etapa de preprocesamiento de los datos. Es decir, reconocer la distribución de probabilidad de un conjunto de datos no es una tarea sencilla. Es por ello que las desigualdades probabilisticas son de gran importancia, ya que pemiten acotar la probabilidad de ocurrencia de una evento en particular, independiente de la distribución de probabilidad.\n",
    "\n",
    "**Desigualdad de Markov**\n",
    "\n",
    "Sea $\\mathbf{X \\geq 0}$ y $\\mathbf{t} > 0$ un número real. La desigualdad de *Markov* establece una cota superior para la probabilidad de que una cantidad no negativa $\\mathbf{X}$ sea mayor a una constante positiva $t$.\n",
    "\n",
    "$$P(X \\geq t) \\leq \\frac{E[X]}{t}$$\n",
    "\n",
    "**Desigualdad de Chernoff (Hoeffding)**\n",
    "\n",
    "La desigualdad de *Hoeffding* establece una cota para la diferencia entre el valor esperado de una distribución de probabilidad y su estimador. Sea $\\mathbf{X}$ una variable aleatoria y $\\mathbf{\\epsilon} > 0$ un número real, se tiene la siguiente desigualdad.\n",
    "\n",
    "$$P(|E[X] - \\bar{X}| \\geq \\epsilon) \\leq 2e^{-2\\epsilon^{2}n}$$"
   ]
  },
  {
   "cell_type": "markdown",
   "metadata": {
    "nbgrader": {
     "grade": false,
     "grade_id": "cell-45f67735c5ca827f",
     "locked": true,
     "schema_version": 3,
     "solution": false,
     "task": false
    }
   },
   "source": [
    "# Inicialización"
   ]
  },
  {
   "cell_type": "code",
   "execution_count": 1,
   "metadata": {
    "nbgrader": {
     "grade": false,
     "grade_id": "cell-205b4bd0bf1e1efe",
     "locked": true,
     "schema_version": 3,
     "solution": false,
     "task": false
    }
   },
   "outputs": [],
   "source": [
    "from matplotlib import pyplot as plt\n",
    "from scipy.stats import norm\n",
    "\n",
    "import numpy as np\n",
    "import pandas as pd\n",
    "import random\n",
    "import math\n",
    "import sys"
   ]
  },
  {
   "cell_type": "code",
   "execution_count": 2,
   "metadata": {
    "nbgrader": {
     "grade": false,
     "grade_id": "cell-5863c3aea6e9054f",
     "locked": true,
     "schema_version": 3,
     "solution": false,
     "task": false
    }
   },
   "outputs": [],
   "source": [
    "# UTILIDADES =================================\n",
    "# Correr una única vez por sesión ============\n",
    "# Maia Utils\n",
    "sys.path.append('../')\n",
    "from maiautils import MaiaUtils\n",
    "# ============================================"
   ]
  },
  {
   "cell_type": "code",
   "execution_count": 3,
   "metadata": {
    "nbgrader": {
     "grade": false,
     "grade_id": "cell-389a57f35da6b38c",
     "locked": true,
     "schema_version": 3,
     "solution": false,
     "task": false
    }
   },
   "outputs": [],
   "source": [
    "# Maia Utis\n",
    "maia = MaiaUtils()\n",
    "\n",
    "# Crear función para ocultar seguimiento de debugging\n",
    "if \"toggle_traceback\" not in globals():\n",
    "    ipython = get_ipython()\n",
    "    toggle_traceback = maia.manipulate_ipython(ipython)"
   ]
  },
  {
   "cell_type": "code",
   "execution_count": 4,
   "metadata": {
    "nbgrader": {
     "grade": false,
     "grade_id": "cell-fa6ee9c233dd1338",
     "locked": true,
     "schema_version": 3,
     "solution": false,
     "task": false
    }
   },
   "outputs": [],
   "source": [
    "# Cambiar configuración de debugging\n",
    "toggle_traceback()"
   ]
  },
  {
   "cell_type": "markdown",
   "metadata": {
    "nbgrader": {
     "grade": false,
     "grade_id": "cell-d174ba8288271b63",
     "locked": true,
     "schema_version": 3,
     "solution": false,
     "task": false
    }
   },
   "source": [
    "## Datos"
   ]
  },
  {
   "cell_type": "markdown",
   "metadata": {
    "nbgrader": {
     "grade": false,
     "grade_id": "cell-778017b74484261d",
     "locked": true,
     "schema_version": 3,
     "solution": false,
     "task": false
    }
   },
   "source": [
    "Para el desarrollo de la presente actividad se dispone de los datos del archivo \"*datos_monedas.csv*\". La serie de contiene la cantidad *caras* obtenidas en $30$ lanzamientos, para $3$ monedas diferentes. El experimento se realizo en $100000$ intentos.             "
   ]
  },
  {
   "cell_type": "code",
   "execution_count": 5,
   "metadata": {},
   "outputs": [
    {
     "data": {
      "text/html": [
       "<div>\n",
       "<style scoped>\n",
       "    .dataframe tbody tr th:only-of-type {\n",
       "        vertical-align: middle;\n",
       "    }\n",
       "\n",
       "    .dataframe tbody tr th {\n",
       "        vertical-align: top;\n",
       "    }\n",
       "\n",
       "    .dataframe thead th {\n",
       "        text-align: right;\n",
       "    }\n",
       "</style>\n",
       "<table border=\"1\" class=\"dataframe\">\n",
       "  <thead>\n",
       "    <tr style=\"text-align: right;\">\n",
       "      <th></th>\n",
       "      <th>Moneda 1</th>\n",
       "      <th>Moneda 2</th>\n",
       "      <th>Moneda 3</th>\n",
       "    </tr>\n",
       "  </thead>\n",
       "  <tbody>\n",
       "    <tr>\n",
       "      <th>0</th>\n",
       "      <td>9</td>\n",
       "      <td>15</td>\n",
       "      <td>25</td>\n",
       "    </tr>\n",
       "    <tr>\n",
       "      <th>1</th>\n",
       "      <td>5</td>\n",
       "      <td>13</td>\n",
       "      <td>26</td>\n",
       "    </tr>\n",
       "    <tr>\n",
       "      <th>2</th>\n",
       "      <td>14</td>\n",
       "      <td>20</td>\n",
       "      <td>26</td>\n",
       "    </tr>\n",
       "    <tr>\n",
       "      <th>3</th>\n",
       "      <td>9</td>\n",
       "      <td>19</td>\n",
       "      <td>26</td>\n",
       "    </tr>\n",
       "    <tr>\n",
       "      <th>4</th>\n",
       "      <td>14</td>\n",
       "      <td>12</td>\n",
       "      <td>29</td>\n",
       "    </tr>\n",
       "  </tbody>\n",
       "</table>\n",
       "</div>"
      ],
      "text/plain": [
       "   Moneda 1  Moneda 2  Moneda 3\n",
       "0         9        15        25\n",
       "1         5        13        26\n",
       "2        14        20        26\n",
       "3         9        19        26\n",
       "4        14        12        29"
      ]
     },
     "execution_count": 5,
     "metadata": {},
     "output_type": "execute_result"
    }
   ],
   "source": [
    "df = pd.read_csv(\"dataset/datos_monedas.csv\")\n",
    "df.head()"
   ]
  },
  {
   "cell_type": "markdown",
   "metadata": {
    "nbgrader": {
     "grade": false,
     "grade_id": "cell-6c7d49aee0a41d6a",
     "locked": true,
     "schema_version": 3,
     "solution": false,
     "task": false
    }
   },
   "source": [
    "# Distribución de los datos"
   ]
  },
  {
   "cell_type": "markdown",
   "metadata": {
    "nbgrader": {
     "grade": false,
     "grade_id": "cell-660d35d76660347d",
     "locked": true,
     "schema_version": 3,
     "solution": false,
     "task": false
    }
   },
   "source": [
    "Dado el contexto se identifica que la probabilidad de \"sacar cara\" en un lanzamiento sigue una distribución binomial. Ahora bien, dada la cantidad de datos es posible estimar los parámetros de dicha distribución, lo cual no es de interés en la presente actividad. En su lugar, se aproximaran los datos a una distribución normal."
   ]
  },
  {
   "cell_type": "markdown",
   "metadata": {
    "nbgrader": {
     "grade": false,
     "grade_id": "cell-82b82edc244ff6df",
     "locked": true,
     "schema_version": 3,
     "solution": false,
     "task": false
    }
   },
   "source": [
    "## Batch 100 datos"
   ]
  },
  {
   "cell_type": "markdown",
   "metadata": {
    "nbgrader": {
     "grade": false,
     "grade_id": "cell-ce36c2dda211f366",
     "locked": true,
     "schema_version": 3,
     "solution": false,
     "task": false
    }
   },
   "source": [
    "En primer lugar, se toma una muestra aleatoría de $100$ datos de los datos **Moneda 1**."
   ]
  },
  {
   "cell_type": "code",
   "execution_count": 6,
   "metadata": {},
   "outputs": [],
   "source": [
    "random.seed(10)\n",
    "n = 100\n",
    "x = np.random.randint(low=0,high=df.shape[0],size=n)\n",
    "p_muestral = np.sum(df[\"Moneda 1\"][x])/(30*n)"
   ]
  },
  {
   "cell_type": "code",
   "execution_count": 7,
   "metadata": {},
   "outputs": [],
   "source": [
    "media_muestral_100 = 30*p_muestral\n",
    "desviacion_muestral_100 = np.sqrt(30*p_muestral*(1-p_muestral))"
   ]
  },
  {
   "cell_type": "code",
   "execution_count": 8,
   "metadata": {
    "scrolled": true
   },
   "outputs": [
    {
     "data": {
      "image/png": "[encoded data removed]",
      "text/plain": [
       "<Figure size 504x360 with 1 Axes>"
      ]
     },
     "metadata": {
      "needs_background": "light"
     },
     "output_type": "display_data"
    }
   ],
   "source": [
    "fig = plt.figure(figsize = (7,5)) \n",
    "count, bins, ignored = plt.hist(x=df[\"Moneda 1\"][x], bins=12,density=True,edgecolor='black',color='b')\n",
    "plt.plot(bins, norm.pdf(bins, media_muestral_100, desviacion_muestral_100), color='r', lw=2)\n",
    "plt.xlabel('Value')\n",
    "plt.ylabel('Frequency')\n",
    "plt.title('Histograma - Moneda 1')\n",
    "plt.show()"
   ]
  },
  {
   "cell_type": "markdown",
   "metadata": {
    "nbgrader": {
     "grade": false,
     "grade_id": "cell-ac56c3decbe2040c",
     "locked": true,
     "schema_version": 3,
     "solution": false,
     "task": false
    }
   },
   "source": [
    "## Batch 1000 datos"
   ]
  },
  {
   "cell_type": "code",
   "execution_count": 9,
   "metadata": {},
   "outputs": [],
   "source": [
    "n = 1000\n",
    "x = np.random.randint(low=0,high=df.shape[0],size=n)\n",
    "p_muestral = np.sum(df[\"Moneda 1\"][x])/(30*n)"
   ]
  },
  {
   "cell_type": "code",
   "execution_count": 10,
   "metadata": {},
   "outputs": [],
   "source": [
    "media_muestral_1000 = 30*p_muestral\n",
    "desviacion_muestral_1000 = np.sqrt(30*p_muestral*(1-p_muestral))"
   ]
  },
  {
   "cell_type": "code",
   "execution_count": 11,
   "metadata": {},
   "outputs": [
    {
     "data": {
      "image/png": "[encoded data removed]",
      "text/plain": [
       "<Figure size 504x360 with 1 Axes>"
      ]
     },
     "metadata": {
      "needs_background": "light"
     },
     "output_type": "display_data"
    }
   ],
   "source": [
    "fig = plt.figure(figsize = (7, 5)) \n",
    "count, bins, ignored = plt.hist(x=df[\"Moneda 1\"][x], bins=16,density=True,edgecolor='black',color='b')\n",
    "plt.plot(bins, norm.pdf(bins, media_muestral_1000, desviacion_muestral_1000), color='r', lw=2)\n",
    "plt.xlabel('Value')\n",
    "plt.ylabel('Frequency')\n",
    "plt.title('Histograma - Moneda 1')\n",
    "plt.show()"
   ]
  },
  {
   "cell_type": "markdown",
   "metadata": {
    "nbgrader": {
     "grade": false,
     "grade_id": "cell-047ab87917cc9e10",
     "locked": true,
     "schema_version": 3,
     "solution": false,
     "task": false
    }
   },
   "source": [
    "## Batch 10000 datos"
   ]
  },
  {
   "cell_type": "code",
   "execution_count": 12,
   "metadata": {},
   "outputs": [],
   "source": [
    "n = 10000\n",
    "x = np.random.randint(low=0,high=df.shape[0],size=n)\n",
    "p_muestral = np.sum(df[\"Moneda 1\"][x])/(30*n)"
   ]
  },
  {
   "cell_type": "code",
   "execution_count": 13,
   "metadata": {},
   "outputs": [],
   "source": [
    "media_muestral_10000 = 30*p_muestral\n",
    "desviacion_muestral_10000 = np.sqrt(30*p_muestral*(1-p_muestral))"
   ]
  },
  {
   "cell_type": "code",
   "execution_count": 14,
   "metadata": {},
   "outputs": [
    {
     "data": {
      "image/png": "[encoded data removed]",
      "text/plain": [
       "<Figure size 504x360 with 1 Axes>"
      ]
     },
     "metadata": {
      "needs_background": "light"
     },
     "output_type": "display_data"
    }
   ],
   "source": [
    "fig = plt.figure(figsize = (7, 5)) \n",
    "count, bins, ignored = plt.hist(x=df[\"Moneda 1\"][x], bins=18,density=True,edgecolor='black',color='b')\n",
    "plt.plot(bins, norm.pdf(bins, media_muestral_10000, desviacion_muestral_10000), color='r', lw=2)\n",
    "plt.xlabel('Value')\n",
    "plt.ylabel('Frequency')\n",
    "plt.title('Histograma - Moneda 1')\n",
    "plt.show()"
   ]
  },
  {
   "cell_type": "markdown",
   "metadata": {
    "nbgrader": {
     "grade": false,
     "grade_id": "cell-8e4cb27a45746cca",
     "locked": true,
     "schema_version": 3,
     "solution": false,
     "task": false
    }
   },
   "source": [
    "## Batch 100000 datos"
   ]
  },
  {
   "cell_type": "code",
   "execution_count": 15,
   "metadata": {},
   "outputs": [],
   "source": [
    "n = 100000\n",
    "p_muestral = np.sum(df[\"Moneda 1\"])/(30*n)"
   ]
  },
  {
   "cell_type": "code",
   "execution_count": 16,
   "metadata": {},
   "outputs": [],
   "source": [
    "ps = []\n",
    "ps.append(p_muestral)"
   ]
  },
  {
   "cell_type": "code",
   "execution_count": 17,
   "metadata": {},
   "outputs": [],
   "source": [
    "media_muestral_1 = 30*p_muestral\n",
    "desviacion_muestral_1 = np.sqrt(30*p_muestral*(1-p_muestral))"
   ]
  },
  {
   "cell_type": "code",
   "execution_count": 18,
   "metadata": {},
   "outputs": [
    {
     "data": {
      "image/png": "[encoded data removed]",
      "text/plain": [
       "<Figure size 504x360 with 1 Axes>"
      ]
     },
     "metadata": {
      "needs_background": "light"
     },
     "output_type": "display_data"
    }
   ],
   "source": [
    "fig = plt.figure(figsize = (7, 5)) \n",
    "count, bins, ignored = plt.hist(x=df[\"Moneda 1\"], bins=18,density=True,edgecolor='black',color='b')\n",
    "plt.plot(bins, norm.pdf(bins, media_muestral_1, desviacion_muestral_1), color='r', lw=2)\n",
    "plt.xlabel('Value')\n",
    "plt.ylabel('Frequency')\n",
    "plt.title('Histograma - Moneda 1')\n",
    "plt.show()"
   ]
  },
  {
   "cell_type": "markdown",
   "metadata": {
    "nbgrader": {
     "grade": false,
     "grade_id": "cell-f1ff64df64fa0a95",
     "locked": true,
     "schema_version": 3,
     "solution": false,
     "task": false
    }
   },
   "source": [
    "## Comparación"
   ]
  },
  {
   "cell_type": "code",
   "execution_count": 19,
   "metadata": {},
   "outputs": [
    {
     "data": {
      "image/png": "[encoded data removed]",
      "text/plain": [
       "<Figure size 1080x504 with 1 Axes>"
      ]
     },
     "metadata": {
      "needs_background": "light"
     },
     "output_type": "display_data"
    }
   ],
   "source": [
    "# Rango\n",
    "x = np.linspace(0, 30, 500)\n",
    "\n",
    "# Funciones Normales\n",
    "norm_1 = norm.pdf(x, media_muestral_100, desviacion_muestral_100)\n",
    "norm_2 = norm.pdf(x, media_muestral_1000, desviacion_muestral_1000)\n",
    "norm_3 = norm.pdf(x, media_muestral_10000, desviacion_muestral_10000)\n",
    "norm_4 = norm.pdf(x, media_muestral_1, desviacion_muestral_1)\n",
    "\n",
    "# Grafica\n",
    "fig = plt.figure(figsize = (15, 7)) \n",
    "\n",
    "# Funciones\n",
    "plt.plot(x, norm_1, label='100 Datos')\n",
    "plt.plot(x, norm_2, label='1000 Datos')\n",
    "plt.plot(x, norm_3, label='10000 Datos')\n",
    "plt.plot(x, norm_4, label='100000 Datos')\n",
    "\n",
    "# Medias\n",
    "#plt.vlines(x=[media_muestral_100, media_muestral_1000, media_muestral_10000,media_muestral_100000], \n",
    "           #ymin=0, ymax=[max(norm_1), max(norm_2), max(norm_3),max(norm_4)],\n",
    "           #colors=['blue', 'yellow', 'green','orange'], ls='--', lw=1.5)\n",
    "\n",
    "# Layout\n",
    "plt.title('Aproximación de la distribución de probabilidad binomial')\n",
    "plt.xlabel('x')\n",
    "plt.ylabel('p')\n",
    "plt.grid(True)\n",
    "plt.legend()\n",
    "plt.show()"
   ]
  },
  {
   "cell_type": "markdown",
   "metadata": {
    "nbgrader": {
     "grade": false,
     "grade_id": "cell-c7cc3215c171f5bc",
     "locked": true,
     "schema_version": 3,
     "solution": false,
     "task": false
    }
   },
   "source": [
    "Note que a medida que la cantidad de datos aumenta la distribución de probabilidad tiende a la misma forma, i.e. los parámetros estimados convergen a un valor cercano al parámetro poblacional $\\mathbf{p}$."
   ]
  },
  {
   "cell_type": "markdown",
   "metadata": {
    "nbgrader": {
     "grade": false,
     "grade_id": "cell-81085872bacd0f9d",
     "locked": true,
     "schema_version": 3,
     "solution": false,
     "task": false
    }
   },
   "source": [
    "## Moneda 2"
   ]
  },
  {
   "cell_type": "code",
   "execution_count": 20,
   "metadata": {},
   "outputs": [],
   "source": [
    "n = 100000\n",
    "p_muestral = np.sum(df[\"Moneda 2\"])/(30*n)\n",
    "ps.append(p_muestral)"
   ]
  },
  {
   "cell_type": "code",
   "execution_count": 21,
   "metadata": {},
   "outputs": [],
   "source": [
    "media_muestral_2= 30*p_muestral\n",
    "desviacion_muestral_2 = np.sqrt(30*p_muestral*(1-p_muestral))"
   ]
  },
  {
   "cell_type": "code",
   "execution_count": 22,
   "metadata": {},
   "outputs": [
    {
     "data": {
      "image/png": "[encoded data removed]",
      "text/plain": [
       "<Figure size 504x360 with 1 Axes>"
      ]
     },
     "metadata": {
      "needs_background": "light"
     },
     "output_type": "display_data"
    }
   ],
   "source": [
    "fig = plt.figure(figsize = (7, 5)) \n",
    "count, bins, ignored = plt.hist(x=df[\"Moneda 2\"], bins=25,density=True,edgecolor='black',color='b')\n",
    "plt.plot(bins, norm.pdf(bins, media_muestral_2, desviacion_muestral_2), color='r', lw=2)\n",
    "plt.xlabel('Value')\n",
    "plt.ylabel('Frequency')\n",
    "plt.title('Histograma - Moneda 2')\n",
    "plt.show()"
   ]
  },
  {
   "cell_type": "markdown",
   "metadata": {
    "nbgrader": {
     "grade": false,
     "grade_id": "cell-5e37a2c75f94c23b",
     "locked": true,
     "schema_version": 3,
     "solution": false,
     "task": false
    }
   },
   "source": [
    "## Moneda 3"
   ]
  },
  {
   "cell_type": "code",
   "execution_count": 23,
   "metadata": {},
   "outputs": [],
   "source": [
    "n = 100000\n",
    "p_muestral = np.sum(df[\"Moneda 3\"])/(30*n)\n",
    "ps.append(p_muestral)"
   ]
  },
  {
   "cell_type": "code",
   "execution_count": 24,
   "metadata": {},
   "outputs": [],
   "source": [
    "media_muestral_3= 30*p_muestral\n",
    "desviacion_muestral_3 = np.sqrt(30*p_muestral*(1-p_muestral))"
   ]
  },
  {
   "cell_type": "code",
   "execution_count": 25,
   "metadata": {},
   "outputs": [
    {
     "data": {
      "image/png": "[encoded data removed]",
      "text/plain": [
       "<Figure size 504x360 with 1 Axes>"
      ]
     },
     "metadata": {
      "needs_background": "light"
     },
     "output_type": "display_data"
    }
   ],
   "source": [
    "fig = plt.figure(figsize = (7, 5)) \n",
    "count, bins, ignored = plt.hist(x=df[\"Moneda 3\"], bins=15,density=True,edgecolor='black',color='b')\n",
    "plt.plot(bins, norm.pdf(bins, media_muestral_3, desviacion_muestral_3), color='r', lw=2)\n",
    "plt.xlabel('Value')\n",
    "plt.ylabel('Frequency')\n",
    "plt.title('Histograma - Moneda 3')\n",
    "plt.show()"
   ]
  },
  {
   "cell_type": "markdown",
   "metadata": {
    "nbgrader": {
     "grade": false,
     "grade_id": "cell-de8b907ce89b5c8a",
     "locked": true,
     "schema_version": 3,
     "solution": false,
     "task": false
    }
   },
   "source": [
    "## Comparación de las aproximaciones"
   ]
  },
  {
   "cell_type": "code",
   "execution_count": 26,
   "metadata": {},
   "outputs": [
    {
     "data": {
      "image/png": "[encoded data removed]",
      "text/plain": [
       "<Figure size 1080x504 with 1 Axes>"
      ]
     },
     "metadata": {
      "needs_background": "light"
     },
     "output_type": "display_data"
    }
   ],
   "source": [
    "# Rango\n",
    "x = np.linspace(0, 35, 500)\n",
    "\n",
    "# Funciones Normales\n",
    "norm_1 = norm.pdf(x, media_muestral_1, desviacion_muestral_1)\n",
    "norm_2 = norm.pdf(x, media_muestral_2, desviacion_muestral_2)\n",
    "norm_3 = norm.pdf(x, media_muestral_3, desviacion_muestral_3)\n",
    "\n",
    "# Grafica\n",
    "fig = plt.figure(figsize = (15, 7)) \n",
    "\n",
    "# Funciones\n",
    "plt.plot(x, norm_1, label='Moneda 1')\n",
    "plt.plot(x, norm_2, label='Moneda 2')\n",
    "plt.plot(x, norm_3, label='Moneda 3')\n",
    "\n",
    "# Layout\n",
    "plt.title('Comparación de la distribución aproximada para cada moneda')\n",
    "plt.xlabel('x')\n",
    "plt.ylabel('p')\n",
    "plt.grid(True)\n",
    "plt.legend()\n",
    "plt.show()"
   ]
  },
  {
   "cell_type": "markdown",
   "metadata": {
    "nbgrader": {
     "grade": false,
     "grade_id": "cell-34476e8962dd2356",
     "locked": true,
     "schema_version": 3,
     "solution": false,
     "task": false
    }
   },
   "source": [
    "Las distribuciones de probabilidad difieren en su centro y en su ancho ¿a qué se  puede deber dicho fenómeno?"
   ]
  },
  {
   "cell_type": "markdown",
   "metadata": {
    "nbgrader": {
     "grade": false,
     "grade_id": "cell-6df274267f11d735",
     "locked": true,
     "schema_version": 3,
     "solution": false,
     "task": false
    }
   },
   "source": [
    "# Desigualdades probabilísticas"
   ]
  },
  {
   "cell_type": "markdown",
   "metadata": {
    "nbgrader": {
     "grade": false,
     "grade_id": "cell-07389cca310fd11c",
     "locked": true,
     "schema_version": 3,
     "solution": false,
     "task": false
    }
   },
   "source": [
    "Según lo visto en clase la probabilidad de que al lanzar una moneda justa $n$ veces\n",
    "más del $80%$ por ciento de las veces caiga en cara es menor o igual a $0.625$. Compruébese dicha desigualdad con la serie de datos."
   ]
  },
  {
   "cell_type": "code",
   "execution_count": 27,
   "metadata": {},
   "outputs": [
    {
     "name": "stdout",
     "output_type": "stream",
     "text": [
      "Probabilidad de que más del 80% de las veces caiga en cara\n",
      "Moneda 1: 0.0\n",
      "Moneda 2: 0.00083\n",
      "Moneda 3: 0.84702\n"
     ]
    }
   ],
   "source": [
    "print(\"Probabilidad de que más del 80% de las veces caiga en cara\")\n",
    "for i in range(3):    \n",
    "    pr= str(sum(df[\"Moneda \"+str(i+1)] >= 0.8*30 )/100000)\n",
    "    print(\"Moneda \"+ str(i+1)+ \": \" +pr)"
   ]
  },
  {
   "cell_type": "code",
   "execution_count": 28,
   "metadata": {},
   "outputs": [
    {
     "name": "stdout",
     "output_type": "stream",
     "text": [
      "Probabilidad de exito muestral\n",
      "Moneda 1: 0.300123\n",
      "Moneda 2: 0.499923\n",
      "Moneda 3: 0.8500306666666667\n"
     ]
    }
   ],
   "source": [
    "print(\"Probabilidad de exito muestral\")\n",
    "for i in range(3):\n",
    "    print(\"Moneda \"+str(i+1)+\": \" + str(ps[i]))"
   ]
  },
  {
   "cell_type": "markdown",
   "metadata": {
    "nbgrader": {
     "grade": false,
     "grade_id": "cell-7dbb2570217d8966",
     "locked": true,
     "schema_version": 3,
     "solution": false,
     "task": false
    }
   },
   "source": [
    "La probabilidad empírica de las monedas $1$ y $2$ cumple con la cota de Chernoff, pero, ¿por qué no se cumple para la moneda 3? Según la probabilidad muestral estimada, la probabilidad de éxito de la moneda 3 es $\\approx 0.85$, lo cual difiere del $0.5$ de una moneda balanceada, por lo que la cota de $0.625$ no aplica."
   ]
  },
  {
   "cell_type": "markdown",
   "metadata": {
    "nbgrader": {
     "grade": false,
     "grade_id": "cell-bc97ae3e95062f74",
     "locked": true,
     "schema_version": 3,
     "solution": false,
     "task": false
    }
   },
   "source": [
    "Encuentre una cota apropiada para la moneda $3$, para ello complete la siguiente función."
   ]
  },
  {
   "cell_type": "code",
   "execution_count": 29,
   "metadata": {},
   "outputs": [],
   "source": [
    "def cota_markov(q,p):\n",
    "    \"\"\" \n",
    "    Retorna la cota de Markov para la probabilidad de obtener\n",
    "    cara más de q por ciento para una moneda con probabilidad de exito p,\n",
    "    para n experimentos.\n",
    "    ___________________________________\n",
    "    Entrada:\n",
    "    q: [float] Porcentaje de los intentos que se desea, sean cara.\n",
    "    p: [float] Probabilidad de exito de la moneda .\n",
    "    ___________________________________\n",
    "    Salida:\n",
    "    cota: [float] Cota de Markov para la probabilidad descrita.\n",
    "    \"\"\"  \n",
    "    # ==============================================================\n",
    "    # COMPLETAR ====================================================\n",
    "    # - \n",
    "    # Reemplace 0 por la expresión correcta para la cota de Markov.\n",
    "    cota =  0\n",
    "    # ==============================================================\n",
    "    return cota"
   ]
  },
  {
   "cell_type": "code",
   "execution_count": 30,
   "metadata": {},
   "outputs": [
    {
     "data": {
      "text/plain": [
       "0"
      ]
     },
     "execution_count": 30,
     "metadata": {},
     "output_type": "execute_result"
    }
   ],
   "source": [
    "cota_markov(0.8,0.85)"
   ]
  },
  {
   "cell_type": "code",
   "execution_count": 31,
   "metadata": {
    "nbgrader": {
     "grade": true,
     "grade_id": "cell-5fef3c075a5aee5a",
     "locked": true,
     "points": 50,
     "schema_version": 3,
     "solution": false,
     "task": false
    }
   },
   "outputs": [
    {
     "ename": "AssertionError",
     "evalue": "Error en la prueba. La cota de Markov no es correcta para una moneda con probabilidad de exito 0.59 y un porcentaje deseado de caras de 0.45.",
     "output_type": "error",
     "traceback": [
      "\u001b[0;31mAssertionError\u001b[0m\u001b[0;31m:\u001b[0m Error en la prueba. La cota de Markov no es correcta para una moneda con probabilidad de exito 0.59 y un porcentaje deseado de caras de 0.45.\n"
     ]
    }
   ],
   "source": [
    "maia.calificar_cota_markov(cota_markov)"
   ]
  },
  {
   "cell_type": "code",
   "execution_count": 32,
   "metadata": {},
   "outputs": [
    {
     "ename": "TypeError",
     "evalue": "cota_markov() takes 2 positional arguments but 3 were given",
     "output_type": "error",
     "traceback": [
      "\u001b[0;31mTypeError\u001b[0m\u001b[0;31m:\u001b[0m cota_markov() takes 2 positional arguments but 3 were given\n"
     ]
    }
   ],
   "source": [
    "cotas = [cota_markov(0.8,ps[i],10000) for i in range(3)]"
   ]
  },
  {
   "cell_type": "code",
   "execution_count": 33,
   "metadata": {},
   "outputs": [
    {
     "ename": "NameError",
     "evalue": "name 'cotas' is not defined",
     "output_type": "error",
     "traceback": [
      "\u001b[0;31mNameError\u001b[0m\u001b[0;31m:\u001b[0m name 'cotas' is not defined\n"
     ]
    }
   ],
   "source": [
    "plt.bar([\"Moneda 1\",\"Moneda 2\",\"Moneda 3\"],cotas)\n",
    "plt.show()"
   ]
  },
  {
   "cell_type": "markdown",
   "metadata": {},
   "source": [
    "Ahora, se desea realizar un clasificador que permita distinguir entre los datos de la moneda 1 y la moneda 2. Dado el costo computacional no se utilizaran todos los datos. De modo que se estimara la cantidad de datos necesaria por medio de la cota de Chernof. Siendo la cantidad óptima a aquella que garantice que la probabilidad empírica del error del clasificador no difiera en más de $\\epsilon$ de la probabilidad real. Para ello complete la siguiente función."
   ]
  },
  {
   "cell_type": "code",
   "execution_count": 35,
   "metadata": {},
   "outputs": [],
   "source": [
    "def cota_chernof(delta,epsilon):\n",
    "    \"\"\" \n",
    "    Retorna la cantidad mínima de datos que garantiza una diferencia como máximo de \n",
    "    epsilon entre p muestral y p poblacional, con confianza de 1-delta.\n",
    "    ___________________________________\n",
    "    Entrada:\n",
    "    epsilon: [float] Precisión. Máxima diferencia entre p muestral y p poblacional.\n",
    "    delta: [float] Significancia.\n",
    "    ___________________________________\n",
    "    Salida:\n",
    "    n: [float] Cota de Markov para la probabilidad descrita.\n",
    "    \"\"\"  \n",
    "    \n",
    "    # ==============================================================\n",
    "    # COMPLETAR ====================================================\n",
    "    # - \n",
    "    # Reemplace 0 por la expresión correcta para n.\n",
    "    # AYUDA: Utilice la cota de chernof.\n",
    "    n =  0\n",
    "    # ==============================================================\n",
    "    \n",
    "    # Redondear al entero superior, i.e. función techo,\n",
    "    n = np.ceil(n)\n",
    "    return n"
   ]
  },
  {
   "cell_type": "code",
   "execution_count": 36,
   "metadata": {},
   "outputs": [
    {
     "data": {
      "text/plain": [
       "0.0"
      ]
     },
     "execution_count": 36,
     "metadata": {},
     "output_type": "execute_result"
    }
   ],
   "source": [
    "cota_chernof(0.05,0.04)"
   ]
  },
  {
   "cell_type": "code",
   "execution_count": 37,
   "metadata": {
    "nbgrader": {
     "grade": true,
     "grade_id": "cell-3b1db6390f61c506",
     "locked": true,
     "points": 50,
     "schema_version": 3,
     "solution": false,
     "task": false
    }
   },
   "outputs": [
    {
     "ename": "AssertionError",
     "evalue": "Error en la prueba. La cantidad de datos es incorrecta para una precisión de 0.0651 y confianza de 0.8355.",
     "output_type": "error",
     "traceback": [
      "\u001b[0;31mAssertionError\u001b[0m\u001b[0;31m:\u001b[0m Error en la prueba. La cantidad de datos es incorrecta para una precisión de 0.0651 y confianza de 0.8355.\n"
     ]
    }
   ],
   "source": [
    "maia.calificar_cota_chernof(cota_chernof)"
   ]
  },
  {
   "cell_type": "code",
   "execution_count": 38,
   "metadata": {},
   "outputs": [],
   "source": [
    "ep = 0.05\n",
    "deltas = np.linspace(0.001,0.1,100)\n",
    "l = []\n",
    "for i in deltas:\n",
    "    l.append(cota_chernof(ep,i))"
   ]
  },
  {
   "cell_type": "code",
   "execution_count": 39,
   "metadata": {},
   "outputs": [],
   "source": [
    "c = [1-i for i in deltas]"
   ]
  },
  {
   "cell_type": "code",
   "execution_count": 40,
   "metadata": {},
   "outputs": [
    {
     "data": {
      "image/png": "[encoded data removed]",
      "text/plain": [
       "<Figure size 1080x504 with 1 Axes>"
      ]
     },
     "metadata": {
      "needs_background": "light"
     },
     "output_type": "display_data"
    }
   ],
   "source": [
    "# Grafica\n",
    "fig = plt.figure(figsize = (15, 7)) \n",
    "\n",
    "plt.plot(c[::-1],l[::-1])\n",
    "\n",
    "plt.title(\"n VS. 1-$\\delta$\")\n",
    "plt.xlabel(\"1-$\\delta$\")\n",
    "plt.ylabel(\"n\")\n",
    "plt.show()"
   ]
  }
 ],
 "metadata": {
  "celltoolbar": "Create Assignment",
  "kernelspec": {
   "display_name": "Python 3",
   "language": "python",
   "name": "python3"
  },
  "language_info": {
   "codemirror_mode": {
    "name": "ipython",
    "version": 3
   },
   "file_extension": ".py",
   "mimetype": "text/x-python",
   "name": "python",
   "nbconvert_exporter": "python",
   "pygments_lexer": "ipython3",
   "version": "3.7.6"
  },
  "toc": {
   "base_numbering": 1,
   "nav_menu": {},
   "number_sections": true,
   "sideBar": true,
   "skip_h1_title": false,
   "title_cell": "Table of Contents",
   "title_sidebar": "Contents",
   "toc_cell": false,
   "toc_position": {},
   "toc_section_display": true,
   "toc_window_display": true
  }
 },
 "nbformat": 4,
 "nbformat_minor": 4
}
