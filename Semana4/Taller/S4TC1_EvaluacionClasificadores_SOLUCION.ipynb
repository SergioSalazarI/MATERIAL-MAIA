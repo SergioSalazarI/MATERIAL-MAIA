{
 "cells": [
  {
   "cell_type": "markdown",
   "metadata": {},
   "source": [
    "![Banner](img/banner.png)"
   ]
  },
  {
   "cell_type": "markdown",
   "metadata": {
    "id": "g98tJ7hvpR5H"
   },
   "source": [
    "# **Taller N°4:** Evaluación de Clasificadores Binarios\n",
    "\n",
    "***Matemáticas para Machine Learning***.\n",
    "\n",
    "**Semana 4 - Práctica Calificada -** Probabilidad II\n",
    "\n",
    "**Profesor:** *Fernando Lozano* - **Autor Notebook:** *César Garrido Urbano*"
   ]
  },
  {
   "cell_type": "markdown",
   "metadata": {
    "id": "HMZqvfgxqqb_"
   },
   "source": [
    "# Introducción"
   ]
  },
  {
   "cell_type": "markdown",
   "metadata": {
    "id": "eRa7tWgiqs-v"
   },
   "source": [
    "## Descripción"
   ]
  },
  {
   "cell_type": "markdown",
   "metadata": {
    "id": "ZnsSGeUeqtFC"
   },
   "source": [
    "El presente *jupyter notebook* contine todo el material para el desarrollo del Taller de la Semana 4 del curso ***Matemáticas para Machine Learning***. En este taller usted pondrá en práctica algunos de los conceptos que ha aprendido a lo largo de los módulos de probabilidad para juzgar objetivamente la calidad (o exactitud más precisamente) de modelos de Machine Learning a partir de los datos disponibles. \n",
    "\n",
    "**Objetivos de Aprendizaje:**\n",
    "\n",
    "\n",
    "*   Repasar conceptos de probabilidad y estadística útiles para la evaluación de modelos de machine learning: Cálculo de media, y matriz de covarianza empíricas a partir de observaciones.\n",
    "*   Cuantificar la cantidad de observaciones que se tienen para evaluar la calidad de los estimativos.\n",
    "*   Evaluar modelos de Machine Learning considerando el número de observaciones y la precisión de los estimativos.\n",
    "\n"
   ]
  },
  {
   "cell_type": "markdown",
   "metadata": {
    "id": "i15vG3rMqtH8"
   },
   "source": [
    "## Teoría\n"
   ]
  },
  {
   "cell_type": "markdown",
   "metadata": {},
   "source": [
    "Una de las métricas más comunes y ampliamente usada al momento de evaluar un modelo de clasificación en *Machine Learning* se conoce como ***Accuracy*** (o exactitud en español, pero este es un término que no suele tener una traducción tan sencilla).\n",
    "\n",
    "Esta métrica calcula la proporción de aciertos que tiene el modelo de clasificación con respecto al número de desaciertos. Es decir:\n",
    "\n",
    "\\begin{equation}\n",
    "Accuracy = P(h(x) = y)\n",
    "\\end{equation}\n",
    "\n",
    "El accuracy será la probabilidad de que el modelo $h$ prediga de forma correcta la etiqueta $y$ dados los datos $x$. En otras palabras será el cálculo de las veces que el clasificador acierta sobre el total de predicciones. Entiéndase también como el complemento del error (número de desaciertos sobre el total).\n",
    "\n",
    "\\begin{equation}\n",
    "Accuracy = \\frac{Aciertos}{Total}\n",
    "\\end{equation}\n"
   ]
  },
  {
   "cell_type": "markdown",
   "metadata": {},
   "source": [
    "De esta manera un clasificador que con accuracy del 90% (o 0,90) ha acertado el 90% de las predicciones sobre un set de pruebas.\n",
    "\n",
    "No obstante, esta puede llegar a ser una métrica engañosa, sobretodo cuando se tiene un set de datos desbalanceado. Esto hace referencia a cuando usted tiene muchos más datos de una clase que de otra. Por ejemplo:\n",
    "\n",
    "Si usted tiene un total de 100 datos de prueba, de los cuales 90 datos pertenecen a la clase 1 y 10 pertenecen a la clase 0, un clasificador puede predecir siempre la clase 1 sin siquiera ver los datos y tendrá un accuracy del 90% (porque va a acertar el 90% de las veces). \n",
    "\n",
    "Así las cosas, usted deberá considerar también que tan balanceados están los datos al momento de realizar una evaluación de los clasificadores. \n",
    "\n",
    "No obstante, para estos casos existen otras métricas como la Precisión, Sensitividad o el F1-Score que verá en más detalle en sus otros cursos de *Machine Learning*."
   ]
  },
  {
   "cell_type": "markdown",
   "metadata": {
    "id": "UzUL6IcFjx2r"
   },
   "source": [
    "Por otro lado, y más allá del balance de los datos, el número de datos con los que pruebe su modelo será de gran importancia. Para esto podemos utilizar las desigualdades probabilísticas estudiadas en la última lección de esta semana.\n",
    "\n",
    "Recordemos que el cálculo del error, así como el de parámetros y del *accuracy*, resulta en estimaciones que también tienen un comportamiento probabilístico (como el de una variable aleatoria). Estas estimaciones, también sujetas a una variabilidad, se cuantifican, por ejemplo, con la desigualdad de Chernoff:\n",
    "\n",
    "\\begin{equation}\n",
    "P\\left[|p-\\hat{p}|\\geq\\epsilon\\right] \\leq 2e^{-2\\epsilon^2n}\n",
    "\\end{equation}\n",
    "\n",
    "Esta desigualdad probabilística nos permite entender la relación entre el número de datos, la variabilidad del estimativo del error (o del *accuracy*) y la confianza con la que podemos realizar dichas estimación. \n",
    "Escrito de otra manera esto sería:\n",
    "\n",
    "\\begin{equation}\n",
    "\\delta = 2e^{-2\\epsilon^2n}\n",
    "\\end{equation}\n",
    "\n",
    "Donde, la confianza corresponde a $1 - \\delta$."
   ]
  },
  {
   "cell_type": "markdown",
   "metadata": {
    "id": "EdVSNPxirx3J"
   },
   "source": [
    "## Metodología"
   ]
  },
  {
   "cell_type": "markdown",
   "metadata": {
    "id": "1EgnRxVYyAPB"
   },
   "source": [
    "Para desarrollar el taller usted deberá editar las celdas de código dispuestas para esto. Estas estarán marcadas con el siguiente comentario:\n",
    "\n",
    "```python\n",
    "# =====================================================\n",
    "# COMPLETAR ===========================================\n",
    "# \n",
    "\n",
    "# =====================================================\n",
    "```\n",
    "\n",
    "Edite o complete el códgio dentro de estas líneas de comentarios. Dentro de estos comentarios encontrará indicaciónes de lo que debe hacer, así como algunas de las variables que debe utilizar o calcular (puede que estas tengan ya una estructura para llenar o no, revise y complete la asignación).\n",
    "\n",
    "Adicionalmente, se encontrará con preguntas a las que deberá responder a partir del trabajo que realice durante el Taller. Utilice las celdas de Markdown dispuestas para esto, estas estarán marcadas de la siguiente manera:\n",
    "\n",
    "**Respuesta:**"
   ]
  },
  {
   "cell_type": "markdown",
   "metadata": {
    "id": "NkXEtmx4r0os"
   },
   "source": [
    "# Problema"
   ]
  },
  {
   "cell_type": "markdown",
   "metadata": {
    "id": "FehE8YkzCYpQ"
   },
   "source": [
    "Como estudiante destacado del curso de *Matematicas para Machine Learning* usted ha sido seleccionado para apoyar al profesor en el curso de *Aprendizaje Supervisado*. Para esto, el profesor le ha pedido que lo ayude a evaluar la calidad de los modelos que entregaron algunos estudiantes como parte de la primera tarea.\n",
    "\n",
    "Adicional a los modelos, el profesor le entrega a usted unos datos de prueba (datos que los estudiantes no han utilizado para entrenar los modelos) y es con estos datos que usted va a evaluar la calidad de los clasificadores binarios (únicamente dos clases).\n"
   ]
  },
  {
   "cell_type": "markdown",
   "metadata": {
    "id": "IMTA1IvjcmJu"
   },
   "source": [
    "## Inicialización"
   ]
  },
  {
   "cell_type": "code",
   "execution_count": 1,
   "metadata": {
    "id": "S20ULNsSclrI"
   },
   "outputs": [],
   "source": [
    "# Librerias Principales\n",
    "import sys\n",
    "import math as m\n",
    "import numpy as np\n",
    "import pandas as pd\n",
    "import pickle\n",
    "import sklearn"
   ]
  },
  {
   "cell_type": "markdown",
   "metadata": {
    "id": "EOZExrEhC9zI"
   },
   "source": [
    "## Análisis de Datos de Prueba\n"
   ]
  },
  {
   "cell_type": "markdown",
   "metadata": {
    "id": "6yq6eqfT9GAs"
   },
   "source": [
    "Primero usted analiza los datos de prueba, estos corresponden al dataset HTRU2 (dataset con el que usted trabajo parcialmente durante el taller de la Semana 3). \n",
    "\n",
    "Recuerde que este es un dataset que contiene datos de mediciones astronómicas de posibles pulsares. Estos son un tipo de estrella de neutrones que emite radiación detectable en la Tierra. Estas estrellas son de gran interés en distintas áreas de la física y la astronomía, pero requieren de un análisis detallado de los datos para ser detectadas. Por esto último se han empleado últimamente técnicas de Machine Learning para desarrollar modelos que las detecten. \n",
    "\n",
    "En este caso usted va a trabajar con todos los datos de entrada que dispone el dataset (8 variables en total) y una etiqueta de salida o clasificación (Pulsar, 1 si los datos corresponden a un pulsar y 0 de lo contrario)."
   ]
  },
  {
   "cell_type": "code",
   "execution_count": 2,
   "metadata": {
    "colab": {
     "base_uri": "https://localhost:8080/",
     "height": 302
    },
    "id": "MkgSWKS3j-LT",
    "outputId": "1545d661-a178-4382-c382-0caa53a69fa1"
   },
   "outputs": [
    {
     "data": {
      "text/html": [
       "<div>\n",
       "<style scoped>\n",
       "    .dataframe tbody tr th:only-of-type {\n",
       "        vertical-align: middle;\n",
       "    }\n",
       "\n",
       "    .dataframe tbody tr th {\n",
       "        vertical-align: top;\n",
       "    }\n",
       "\n",
       "    .dataframe thead th {\n",
       "        text-align: right;\n",
       "    }\n",
       "</style>\n",
       "<table border=\"1\" class=\"dataframe\">\n",
       "  <thead>\n",
       "    <tr style=\"text-align: right;\">\n",
       "      <th></th>\n",
       "      <th>Mean of the integrated profile</th>\n",
       "      <th>Standard Deviation of the integrated profile</th>\n",
       "      <th>Excess kurtosis of the integrated profile</th>\n",
       "      <th>Skewness of the integrated profile</th>\n",
       "      <th>Mean of the DM-SNR curve</th>\n",
       "      <th>Standard Deviation of the DM-SNR curve</th>\n",
       "      <th>Excess kurtosis of the DM-SNR curve</th>\n",
       "      <th>Skewness of the DM-SNR curve</th>\n",
       "      <th>Pulsar</th>\n",
       "    </tr>\n",
       "  </thead>\n",
       "  <tbody>\n",
       "    <tr>\n",
       "      <th>0</th>\n",
       "      <td>-1.640564</td>\n",
       "      <td>-0.157200</td>\n",
       "      <td>1.394007</td>\n",
       "      <td>0.768875</td>\n",
       "      <td>1.316362</td>\n",
       "      <td>1.428186</td>\n",
       "      <td>-1.193214</td>\n",
       "      <td>-0.778742</td>\n",
       "      <td>1</td>\n",
       "    </tr>\n",
       "    <tr>\n",
       "      <th>1</th>\n",
       "      <td>-0.721008</td>\n",
       "      <td>2.984612</td>\n",
       "      <td>-0.060149</td>\n",
       "      <td>-0.516442</td>\n",
       "      <td>2.985452</td>\n",
       "      <td>2.232196</td>\n",
       "      <td>-1.484369</td>\n",
       "      <td>-0.793014</td>\n",
       "      <td>1</td>\n",
       "    </tr>\n",
       "    <tr>\n",
       "      <th>2</th>\n",
       "      <td>0.841523</td>\n",
       "      <td>-0.573540</td>\n",
       "      <td>-0.605101</td>\n",
       "      <td>-0.406732</td>\n",
       "      <td>-0.515333</td>\n",
       "      <td>-0.646135</td>\n",
       "      <td>0.224096</td>\n",
       "      <td>-0.086013</td>\n",
       "      <td>0</td>\n",
       "    </tr>\n",
       "    <tr>\n",
       "      <th>3</th>\n",
       "      <td>-0.810171</td>\n",
       "      <td>-1.306889</td>\n",
       "      <td>0.631106</td>\n",
       "      <td>0.470591</td>\n",
       "      <td>-0.465441</td>\n",
       "      <td>-0.268295</td>\n",
       "      <td>-0.112322</td>\n",
       "      <td>-0.393141</td>\n",
       "      <td>1</td>\n",
       "    </tr>\n",
       "    <tr>\n",
       "      <th>4</th>\n",
       "      <td>0.321906</td>\n",
       "      <td>0.464190</td>\n",
       "      <td>-0.599659</td>\n",
       "      <td>-0.509291</td>\n",
       "      <td>-0.564987</td>\n",
       "      <td>-1.031511</td>\n",
       "      <td>2.077373</td>\n",
       "      <td>2.854560</td>\n",
       "      <td>0</td>\n",
       "    </tr>\n",
       "  </tbody>\n",
       "</table>\n",
       "</div>"
      ],
      "text/plain": [
       "   Mean of the integrated profile  \\\n",
       "0                       -1.640564   \n",
       "1                       -0.721008   \n",
       "2                        0.841523   \n",
       "3                       -0.810171   \n",
       "4                        0.321906   \n",
       "\n",
       "   Standard Deviation of the integrated profile  \\\n",
       "0                                     -0.157200   \n",
       "1                                      2.984612   \n",
       "2                                     -0.573540   \n",
       "3                                     -1.306889   \n",
       "4                                      0.464190   \n",
       "\n",
       "   Excess kurtosis of the integrated profile  \\\n",
       "0                                   1.394007   \n",
       "1                                  -0.060149   \n",
       "2                                  -0.605101   \n",
       "3                                   0.631106   \n",
       "4                                  -0.599659   \n",
       "\n",
       "   Skewness of the integrated profile  Mean of the DM-SNR curve  \\\n",
       "0                            0.768875                  1.316362   \n",
       "1                           -0.516442                  2.985452   \n",
       "2                           -0.406732                 -0.515333   \n",
       "3                            0.470591                 -0.465441   \n",
       "4                           -0.509291                 -0.564987   \n",
       "\n",
       "   Standard Deviation of the DM-SNR curve  \\\n",
       "0                                1.428186   \n",
       "1                                2.232196   \n",
       "2                               -0.646135   \n",
       "3                               -0.268295   \n",
       "4                               -1.031511   \n",
       "\n",
       "   Excess kurtosis of the DM-SNR curve  Skewness of the DM-SNR curve  Pulsar  \n",
       "0                            -1.193214                     -0.778742       1  \n",
       "1                            -1.484369                     -0.793014       1  \n",
       "2                             0.224096                     -0.086013       0  \n",
       "3                            -0.112322                     -0.393141       1  \n",
       "4                             2.077373                      2.854560       0  "
      ]
     },
     "execution_count": 2,
     "metadata": {},
     "output_type": "execute_result"
    }
   ],
   "source": [
    "# Cargar datos\n",
    "datos_prueba = pd.read_csv(\"datos_prueba.csv\", delimiter=\";\")\n",
    "datos_prueba.head()"
   ]
  },
  {
   "cell_type": "code",
   "execution_count": 3,
   "metadata": {
    "colab": {
     "base_uri": "https://localhost:8080/"
    },
    "id": "Vy6jQEnN_VYv",
    "outputId": "976518a2-27fa-4d48-a854-1c8075020a1c"
   },
   "outputs": [
    {
     "name": "stdout",
     "output_type": "stream",
     "text": [
      "Número de datos de Prueba: 466\n"
     ]
    }
   ],
   "source": [
    "print(f\"Número de datos de Prueba: {len(datos_prueba)}\")"
   ]
  },
  {
   "cell_type": "markdown",
   "metadata": {
    "id": "IKPUrMP9Czpe"
   },
   "source": [
    "## Evaluación de Modelos"
   ]
  },
  {
   "cell_type": "markdown",
   "metadata": {
    "id": "8ARZkC34_e_Q"
   },
   "source": [
    "Primero usted va a calcular la exactitud (*accuracy* por su nombre en inglés) de todos los modelos. Complete el código faltante para esto e implemente las funciones requeridas."
   ]
  },
  {
   "cell_type": "code",
   "execution_count": 4,
   "metadata": {
    "id": "mncF-y9VC2N-"
   },
   "outputs": [],
   "source": [
    "# Ejemplo de cargar 1 modelo\n",
    "loaded_model = pickle.load(open(\"modelos/modelo_1.sav\", 'rb'))"
   ]
  },
  {
   "cell_type": "code",
   "execution_count": 5,
   "metadata": {
    "id": "BrLThEQdcXVK"
   },
   "outputs": [],
   "source": [
    "# Cargar los modelos\n",
    "modelos = []\n",
    "\n",
    "# COMPLETAR =============================================\n",
    "# =======================================================\n",
    "for i in range(9):\n",
    "    modelo = pickle.load(open(f\"modelos/modelo_{i}.sav\", 'rb'))\n",
    "    modelos.append(modelo)\n",
    "\n",
    "# ======================================================="
   ]
  },
  {
   "cell_type": "code",
   "execution_count": 6,
   "metadata": {
    "id": "4iFWrZfkrNmB"
   },
   "outputs": [],
   "source": [
    "# Función para evaluar la exactitud\n",
    "\n",
    "def calcular_accuracy(prediccion, etiquetas):\n",
    "\n",
    "    # COMPLETAR =============================================\n",
    "    # =======================================================\n",
    "    \n",
    "    accuracy = 0\n",
    "    \n",
    "    correct = 0\n",
    "    \n",
    "    for y_pred, y_true in zip(prediccion, etiquetas):\n",
    "        if y_pred == y_true:\n",
    "            correct += 1\n",
    "    \n",
    "    accuracy = correct/len(prediccion)\n",
    "\n",
    "    # =======================================================\n",
    "\n",
    "    return accuracy"
   ]
  },
  {
   "cell_type": "code",
   "execution_count": 7,
   "metadata": {
    "id": "kewDcNH9sYWt"
   },
   "outputs": [],
   "source": [
    "# Calculo de accuracy para todos los modelos\n",
    "\n",
    "accuracy = []\n",
    "\n",
    "for modelo in modelos:\n",
    "    \n",
    "    # Datos y etiquetas\n",
    "    X = datos_prueba.drop(columns=[\"Pulsar\"])\n",
    "    y_true = datos_prueba[\"Pulsar\"]\n",
    "\n",
    "    # Predicción del modelo\n",
    "    y_pred = modelo.predict(X)\n",
    "\n",
    "    # Calculo de metricas\n",
    "    acc = calcular_accuracy(y_true, y_pred)\n",
    "\n",
    "    accuracy.append(acc)\n"
   ]
  },
  {
   "cell_type": "code",
   "execution_count": 8,
   "metadata": {},
   "outputs": [
    {
     "data": {
      "text/html": [
       "<div>\n",
       "<style scoped>\n",
       "    .dataframe tbody tr th:only-of-type {\n",
       "        vertical-align: middle;\n",
       "    }\n",
       "\n",
       "    .dataframe tbody tr th {\n",
       "        vertical-align: top;\n",
       "    }\n",
       "\n",
       "    .dataframe thead th {\n",
       "        text-align: right;\n",
       "    }\n",
       "</style>\n",
       "<table border=\"1\" class=\"dataframe\">\n",
       "  <thead>\n",
       "    <tr style=\"text-align: right;\">\n",
       "      <th></th>\n",
       "      <th>Accuracy</th>\n",
       "    </tr>\n",
       "  </thead>\n",
       "  <tbody>\n",
       "    <tr>\n",
       "      <th>0</th>\n",
       "      <td>0.699571</td>\n",
       "    </tr>\n",
       "    <tr>\n",
       "      <th>1</th>\n",
       "      <td>0.896996</td>\n",
       "    </tr>\n",
       "    <tr>\n",
       "      <th>2</th>\n",
       "      <td>0.828326</td>\n",
       "    </tr>\n",
       "    <tr>\n",
       "      <th>3</th>\n",
       "      <td>0.937768</td>\n",
       "    </tr>\n",
       "    <tr>\n",
       "      <th>4</th>\n",
       "      <td>0.929185</td>\n",
       "    </tr>\n",
       "    <tr>\n",
       "      <th>5</th>\n",
       "      <td>0.847639</td>\n",
       "    </tr>\n",
       "    <tr>\n",
       "      <th>6</th>\n",
       "      <td>0.862661</td>\n",
       "    </tr>\n",
       "    <tr>\n",
       "      <th>7</th>\n",
       "      <td>0.924893</td>\n",
       "    </tr>\n",
       "    <tr>\n",
       "      <th>8</th>\n",
       "      <td>0.920601</td>\n",
       "    </tr>\n",
       "  </tbody>\n",
       "</table>\n",
       "</div>"
      ],
      "text/plain": [
       "   Accuracy\n",
       "0  0.699571\n",
       "1  0.896996\n",
       "2  0.828326\n",
       "3  0.937768\n",
       "4  0.929185\n",
       "5  0.847639\n",
       "6  0.862661\n",
       "7  0.924893\n",
       "8  0.920601"
      ]
     },
     "execution_count": 8,
     "metadata": {},
     "output_type": "execute_result"
    }
   ],
   "source": [
    "# Formato DF para visualización de la exactitud\n",
    "acc_df = pd.DataFrame(accuracy, columns=['Accuracy'])\n",
    "acc_df"
   ]
  },
  {
   "cell_type": "markdown",
   "metadata": {
    "id": "hM2EXGR2Datd"
   },
   "source": [
    "### ¿Datos desbalanceados?"
   ]
  },
  {
   "cell_type": "markdown",
   "metadata": {
    "id": "KPwjEzGvDfai"
   },
   "source": [
    "A simple vista pareciera que los datos no están balanceados. Revise que tan balanceados estan esos datos de prueba. Complete la función para esto."
   ]
  },
  {
   "cell_type": "code",
   "execution_count": 9,
   "metadata": {
    "colab": {
     "base_uri": "https://localhost:8080/"
    },
    "id": "S9Y5KkUxDa6x",
    "outputId": "3e442483-c06e-4b17-d2a2-0dfb1b8302fc"
   },
   "outputs": [],
   "source": [
    "# Evaluar balance de los datos\n",
    "\n",
    "def calcular_proporcion(datos, etiqueta=\"Pulsar\"):\n",
    "\n",
    "    proporcion = 0\n",
    "\n",
    "    # COMPLETAR =============================================\n",
    "    # =======================================================\n",
    "    \n",
    "    proporcion = sum(datos[etiqueta])/len(datos[etiqueta])\n",
    "    \n",
    "    # =======================================================\n",
    "\n",
    "    return proporcion\n"
   ]
  },
  {
   "cell_type": "code",
   "execution_count": 10,
   "metadata": {},
   "outputs": [
    {
     "name": "stdout",
     "output_type": "stream",
     "text": [
      "Hay una proporción de 0.3 datos de pulsar por cada dato de no pulsar\n"
     ]
    }
   ],
   "source": [
    "prop = round(calcular_proporcion(datos_prueba), 3)\n",
    "print(f\"Hay una proporción de {prop} datos de pulsar por cada dato de no pulsar\")"
   ]
  },
  {
   "cell_type": "markdown",
   "metadata": {
    "id": "qskYxwhCu1Tu"
   },
   "source": [
    "### Accuracy\n",
    "\n",
    "¿Con base en los resultados generales de los clasificadores, considera que todos son buenos? ¿Cuáles sí o cuáles no?\n",
    "\n",
    "Justifique su respuesta considerando el balance de los datos de prueba y el resultado del accuracy sobre el set de prueba inicial."
   ]
  },
  {
   "cell_type": "markdown",
   "metadata": {
    "id": "qEQl6ZGSsUrK"
   },
   "source": [
    "**Respuesta:**"
   ]
  },
  {
   "cell_type": "markdown",
   "metadata": {
    "id": "WVgcgxASDl_x"
   },
   "source": [
    "### ¿Suficientes datos?"
   ]
  },
  {
   "cell_type": "markdown",
   "metadata": {
    "id": "EHqzNgt1DA7N"
   },
   "source": [
    "Usted nota que el número de datos de prueba con los que se va a evaluar a los estudiantes parece ser reducido. Es por esto que implementa una función con la desigualdad de Chernoff para evaluar el número de datos que se necesita para un error del estimativo y una confianza dados."
   ]
  },
  {
   "cell_type": "code",
   "execution_count": 11,
   "metadata": {
    "id": "DuBKz0_-DE2-"
   },
   "outputs": [],
   "source": [
    "# Función desigualdad de Chernoff\n",
    "\n",
    "def n_datos_chernoff(epsilon, confianza):\n",
    "\n",
    "    n_datos = 0\n",
    "\n",
    "    # COMPLETAR =============================================\n",
    "    # =======================================================\n",
    "    \n",
    "    delta = 1-confianza\n",
    "\n",
    "    # epsilon = np.sqrt((1/2*(n_datos))*m.log(2/delta))\n",
    "    \n",
    "    n_datos = (1/(2*epsilon**2))*m.log(2/delta)\n",
    "\n",
    "    # =======================================================\n",
    "\n",
    "    return n_datos\n"
   ]
  },
  {
   "cell_type": "code",
   "execution_count": 12,
   "metadata": {
    "colab": {
     "base_uri": "https://localhost:8080/"
    },
    "id": "aYl-jQ-nnfDv",
    "outputId": "452e1fd5-0c0b-4395-bcae-20d247ea6e1a"
   },
   "outputs": [
    {
     "name": "stdout",
     "output_type": "stream",
     "text": [
      "Se necesitarían alrededor de 738 datos para poder asegurar un error estimado menor a 0.05 con una confianza del 0.95.\n"
     ]
    }
   ],
   "source": [
    "# Evaluar número de datos para distintos niveles de error y confianza\n",
    "\n",
    "c = 0.95\n",
    "e = 0.05\n",
    "\n",
    "n = n_datos_chernoff(epsilon=e , confianza=c)\n",
    "\n",
    "print(f\"Se necesitarían alrededor de {n:.0f} datos para poder asegurar un error estimado menor\"\n",
    "      f\" a {e:.2f} con una confianza del {c:.2f}.\")"
   ]
  },
  {
   "cell_type": "markdown",
   "metadata": {
    "id": "svP9lZTzu7tD"
   },
   "source": [
    "### Mejor Clasificador\n",
    "\n",
    "¿Cuál de los modelos consideraría el mejor? ¿Por qué?\n",
    "\n",
    "Tenga en cuenta el número de datos de prueba que tiene y la confianza con la que puede decir eso y que tanto puede afirmar eso. Varie la confianza y el error del estimativo en la función implementada."
   ]
  },
  {
   "cell_type": "markdown",
   "metadata": {
    "id": "9W27gQZet-TJ"
   },
   "source": [
    "**Respuesta:**"
   ]
  },
  {
   "cell_type": "markdown",
   "metadata": {
    "id": "h79MgCcoDwc4"
   },
   "source": [
    "## Datos Completos"
   ]
  },
  {
   "cell_type": "markdown",
   "metadata": {
    "id": "D_8NJER0DyD0"
   },
   "source": [
    "Despúes de analizar los resultados, usted habla con el profesor y este le da acceso a la base de datos completa, de donde logra descargar nuevos datos. Repita el proceso anterior y responda nuevamente a las preguntas."
   ]
  },
  {
   "cell_type": "code",
   "execution_count": 13,
   "metadata": {
    "colab": {
     "base_uri": "https://localhost:8080/",
     "height": 302
    },
    "id": "4RAKLZOHD76g",
    "outputId": "0392ff47-29df-4eec-c4e7-e472716bb000"
   },
   "outputs": [
    {
     "data": {
      "text/html": [
       "<div>\n",
       "<style scoped>\n",
       "    .dataframe tbody tr th:only-of-type {\n",
       "        vertical-align: middle;\n",
       "    }\n",
       "\n",
       "    .dataframe tbody tr th {\n",
       "        vertical-align: top;\n",
       "    }\n",
       "\n",
       "    .dataframe thead th {\n",
       "        text-align: right;\n",
       "    }\n",
       "</style>\n",
       "<table border=\"1\" class=\"dataframe\">\n",
       "  <thead>\n",
       "    <tr style=\"text-align: right;\">\n",
       "      <th></th>\n",
       "      <th>Mean of the integrated profile</th>\n",
       "      <th>Standard Deviation of the integrated profile</th>\n",
       "      <th>Excess kurtosis of the integrated profile</th>\n",
       "      <th>Skewness of the integrated profile</th>\n",
       "      <th>Mean of the DM-SNR curve</th>\n",
       "      <th>Standard Deviation of the DM-SNR curve</th>\n",
       "      <th>Excess kurtosis of the DM-SNR curve</th>\n",
       "      <th>Skewness of the DM-SNR curve</th>\n",
       "      <th>Pulsar</th>\n",
       "    </tr>\n",
       "  </thead>\n",
       "  <tbody>\n",
       "    <tr>\n",
       "      <th>0</th>\n",
       "      <td>122.812500</td>\n",
       "      <td>39.163270</td>\n",
       "      <td>0.176058</td>\n",
       "      <td>0.782360</td>\n",
       "      <td>3.902174</td>\n",
       "      <td>21.111496</td>\n",
       "      <td>6.539226</td>\n",
       "      <td>47.987757</td>\n",
       "      <td>0</td>\n",
       "    </tr>\n",
       "    <tr>\n",
       "      <th>1</th>\n",
       "      <td>127.960938</td>\n",
       "      <td>54.147138</td>\n",
       "      <td>-0.018438</td>\n",
       "      <td>-0.272149</td>\n",
       "      <td>3.459866</td>\n",
       "      <td>16.956295</td>\n",
       "      <td>7.415251</td>\n",
       "      <td>72.483546</td>\n",
       "      <td>0</td>\n",
       "    </tr>\n",
       "    <tr>\n",
       "      <th>2</th>\n",
       "      <td>138.773438</td>\n",
       "      <td>43.032912</td>\n",
       "      <td>-0.194322</td>\n",
       "      <td>0.495927</td>\n",
       "      <td>1.165552</td>\n",
       "      <td>13.858495</td>\n",
       "      <td>14.069355</td>\n",
       "      <td>215.780933</td>\n",
       "      <td>0</td>\n",
       "    </tr>\n",
       "    <tr>\n",
       "      <th>3</th>\n",
       "      <td>116.539062</td>\n",
       "      <td>52.487633</td>\n",
       "      <td>0.368429</td>\n",
       "      <td>-0.113184</td>\n",
       "      <td>6.264214</td>\n",
       "      <td>30.608059</td>\n",
       "      <td>5.133793</td>\n",
       "      <td>26.603239</td>\n",
       "      <td>0</td>\n",
       "    </tr>\n",
       "    <tr>\n",
       "      <th>4</th>\n",
       "      <td>110.265625</td>\n",
       "      <td>45.266655</td>\n",
       "      <td>-0.066089</td>\n",
       "      <td>0.373828</td>\n",
       "      <td>3.263378</td>\n",
       "      <td>19.080187</td>\n",
       "      <td>7.432290</td>\n",
       "      <td>65.070491</td>\n",
       "      <td>0</td>\n",
       "    </tr>\n",
       "  </tbody>\n",
       "</table>\n",
       "</div>"
      ],
      "text/plain": [
       "   Mean of the integrated profile  \\\n",
       "0                      122.812500   \n",
       "1                      127.960938   \n",
       "2                      138.773438   \n",
       "3                      116.539062   \n",
       "4                      110.265625   \n",
       "\n",
       "   Standard Deviation of the integrated profile  \\\n",
       "0                                     39.163270   \n",
       "1                                     54.147138   \n",
       "2                                     43.032912   \n",
       "3                                     52.487633   \n",
       "4                                     45.266655   \n",
       "\n",
       "   Excess kurtosis of the integrated profile  \\\n",
       "0                                   0.176058   \n",
       "1                                  -0.018438   \n",
       "2                                  -0.194322   \n",
       "3                                   0.368429   \n",
       "4                                  -0.066089   \n",
       "\n",
       "   Skewness of the integrated profile  Mean of the DM-SNR curve  \\\n",
       "0                            0.782360                  3.902174   \n",
       "1                           -0.272149                  3.459866   \n",
       "2                            0.495927                  1.165552   \n",
       "3                           -0.113184                  6.264214   \n",
       "4                            0.373828                  3.263378   \n",
       "\n",
       "   Standard Deviation of the DM-SNR curve  \\\n",
       "0                               21.111496   \n",
       "1                               16.956295   \n",
       "2                               13.858495   \n",
       "3                               30.608059   \n",
       "4                               19.080187   \n",
       "\n",
       "   Excess kurtosis of the DM-SNR curve  Skewness of the DM-SNR curve  Pulsar  \n",
       "0                             6.539226                     47.987757       0  \n",
       "1                             7.415251                     72.483546       0  \n",
       "2                            14.069355                    215.780933       0  \n",
       "3                             5.133793                     26.603239       0  \n",
       "4                             7.432290                     65.070491       0  "
      ]
     },
     "execution_count": 13,
     "metadata": {},
     "output_type": "execute_result"
    }
   ],
   "source": [
    "# Cargar datos\n",
    "datos_completos = pd.read_csv(\"datos_completos.csv\", delimiter=\";\")\n",
    "datos_completos.head()"
   ]
  },
  {
   "cell_type": "code",
   "execution_count": 14,
   "metadata": {
    "colab": {
     "base_uri": "https://localhost:8080/"
    },
    "id": "dLwuWq9OEDjO",
    "outputId": "291d2a3c-b8a4-447b-c722-78aedbfe779a"
   },
   "outputs": [
    {
     "name": "stdout",
     "output_type": "stream",
     "text": [
      "Hay una proporción de 0.091 datos de pulsar por cada dato de no pulsar\n"
     ]
    }
   ],
   "source": [
    "prop = round(calcular_proporcion(datos_completos), 3)\n",
    "print(f\"Hay una proporción de {prop} datos de pulsar por cada dato de no pulsar\")"
   ]
  },
  {
   "cell_type": "code",
   "execution_count": 16,
   "metadata": {
    "colab": {
     "base_uri": "https://localhost:8080/"
    },
    "id": "o0_tqVN-vRsM",
    "outputId": "0a6ab7f7-5160-4b04-a00b-72e649e4bac8"
   },
   "outputs": [
    {
     "name": "stdout",
     "output_type": "stream",
     "text": [
      "Se necesitarían alrededor de 8948 datos para poder asegurar un error estimado menor a 0.05 con una confianza del 0.95.\n"
     ]
    }
   ],
   "source": [
    "# Evaluar número de datos para distintos niveles de error y confianza\n",
    "\n",
    "c = 0.95\n",
    "e = 0.05\n",
    "p = n_datos_chernoff(epsilon=e , confianza=c)\n",
    "\n",
    "print(f\"Se necesitarían alrededor de {n:.0f} datos para poder asegurar un error estimado menor\"\n",
    "      f\" a {e:.2f} con una confianza del {c:.2f}.\")"
   ]
  },
  {
   "cell_type": "code",
   "execution_count": 17,
   "metadata": {},
   "outputs": [],
   "source": [
    "# Calculo de accuracy para todos los modelos\n",
    "\n",
    "accuracy = []\n",
    "\n",
    "for modelo in modelos:\n",
    "    \n",
    "    # Datos y etiquetas\n",
    "    X = datos_completos.drop(columns=[\"Pulsar\"])\n",
    "    y_true = datos_completos[\"Pulsar\"]\n",
    "\n",
    "    # Predicción del modelo\n",
    "    y_pred = modelo.predict(X)\n",
    "\n",
    "    # Calculo de metricas\n",
    "    acc = calcular_accuracy(y_true, y_pred)\n",
    "\n",
    "    accuracy.append(acc)\n"
   ]
  },
  {
   "cell_type": "code",
   "execution_count": 18,
   "metadata": {},
   "outputs": [
    {
     "data": {
      "text/html": [
       "<div>\n",
       "<style scoped>\n",
       "    .dataframe tbody tr th:only-of-type {\n",
       "        vertical-align: middle;\n",
       "    }\n",
       "\n",
       "    .dataframe tbody tr th {\n",
       "        vertical-align: top;\n",
       "    }\n",
       "\n",
       "    .dataframe thead th {\n",
       "        text-align: right;\n",
       "    }\n",
       "</style>\n",
       "<table border=\"1\" class=\"dataframe\">\n",
       "  <thead>\n",
       "    <tr style=\"text-align: right;\">\n",
       "      <th></th>\n",
       "      <th>Accuracy</th>\n",
       "    </tr>\n",
       "  </thead>\n",
       "  <tbody>\n",
       "    <tr>\n",
       "      <th>0</th>\n",
       "      <td>0.909253</td>\n",
       "    </tr>\n",
       "    <tr>\n",
       "      <th>1</th>\n",
       "      <td>0.890814</td>\n",
       "    </tr>\n",
       "    <tr>\n",
       "      <th>2</th>\n",
       "      <td>0.090635</td>\n",
       "    </tr>\n",
       "    <tr>\n",
       "      <th>3</th>\n",
       "      <td>0.909253</td>\n",
       "    </tr>\n",
       "    <tr>\n",
       "      <th>4</th>\n",
       "      <td>0.129750</td>\n",
       "    </tr>\n",
       "    <tr>\n",
       "      <th>5</th>\n",
       "      <td>0.933728</td>\n",
       "    </tr>\n",
       "    <tr>\n",
       "      <th>6</th>\n",
       "      <td>0.922776</td>\n",
       "    </tr>\n",
       "    <tr>\n",
       "      <th>7</th>\n",
       "      <td>0.912159</td>\n",
       "    </tr>\n",
       "    <tr>\n",
       "      <th>8</th>\n",
       "      <td>0.946021</td>\n",
       "    </tr>\n",
       "  </tbody>\n",
       "</table>\n",
       "</div>"
      ],
      "text/plain": [
       "   Accuracy\n",
       "0  0.909253\n",
       "1  0.890814\n",
       "2  0.090635\n",
       "3  0.909253\n",
       "4  0.129750\n",
       "5  0.933728\n",
       "6  0.922776\n",
       "7  0.912159\n",
       "8  0.946021"
      ]
     },
     "execution_count": 18,
     "metadata": {},
     "output_type": "execute_result"
    }
   ],
   "source": [
    "# Formato DF para visualización\n",
    "acc_df = pd.DataFrame(accuracy, columns=['Accuracy'])\n",
    "acc_df"
   ]
  },
  {
   "cell_type": "markdown",
   "metadata": {
    "id": "sxXt78_ywATt"
   },
   "source": [
    "### Accuracy general\n",
    "\n",
    "¿Con base en los resultados generales de los clasificadores, considera que todos son buenos? ¿Cuáles sí o cuáles no?\n",
    "\n",
    "Justifique su respuesta considerando el balance de los datos de prueba."
   ]
  },
  {
   "cell_type": "markdown",
   "metadata": {
    "id": "sCyBxSb_wAWY"
   },
   "source": [
    "**Respuesta:**"
   ]
  },
  {
   "cell_type": "markdown",
   "metadata": {
    "id": "mTqJweZdwAZC"
   },
   "source": [
    "### Mejor Clasificador\n",
    "\n",
    "¿Cuál de los modelos consideraría el mejor? ¿Por qué?\n",
    "\n",
    "Tenga en cuenta el número de datos de prueba que tiene y la confianza con la que puede decir eso y que tanto puede afirmar eso."
   ]
  },
  {
   "cell_type": "markdown",
   "metadata": {
    "id": "J7uMuI7nwAbo"
   },
   "source": [
    "**Respuesta:**"
   ]
  }
 ],
 "metadata": {
  "colab": {
   "name": "S4TC1_EvaluacionClasificadores.ipynb",
   "provenance": [],
   "toc_visible": true
  },
  "kernelspec": {
   "display_name": "Python 3",
   "language": "python",
   "name": "python3"
  },
  "language_info": {
   "codemirror_mode": {
    "name": "ipython",
    "version": 3
   },
   "file_extension": ".py",
   "mimetype": "text/x-python",
   "name": "python",
   "nbconvert_exporter": "python",
   "pygments_lexer": "ipython3",
   "version": "3.7.12"
  },
  "toc": {
   "base_numbering": 1,
   "nav_menu": {},
   "number_sections": true,
   "sideBar": true,
   "skip_h1_title": false,
   "title_cell": "Table of Contents",
   "title_sidebar": "Contents",
   "toc_cell": false,
   "toc_position": {},
   "toc_section_display": true,
   "toc_window_display": true
  }
 },
 "nbformat": 4,
 "nbformat_minor": 1
}
