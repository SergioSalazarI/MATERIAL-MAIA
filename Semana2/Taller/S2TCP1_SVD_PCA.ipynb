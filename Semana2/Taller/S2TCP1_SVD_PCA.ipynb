{
 "cells": [
  {
   "cell_type": "markdown",
   "metadata": {},
   "source": [
    "![Banner](img/banner.png)"
   ]
  },
  {
   "cell_type": "markdown",
   "metadata": {
    "id": "82DQJ11gr4dC",
    "nbgrader": {
     "grade": false,
     "grade_id": "cell-33839a2c257a31b8",
     "locked": true,
     "schema_version": 3,
     "solution": false,
     "task": false
    }
   },
   "source": [
    "# **Taller:**  Descomposición de Valores Singulares (SVD) Análisis de Componentes Principales (PCA) \n",
    "\n",
    "**Semana 2 - Práctica Calificada -** Matrices simétricas positivas definidas\n",
    "\n",
    "**Profesor:** *Fernando Lozano* - **Autor Notebook:** *César Garrido Urbano*\n"
   ]
  },
  {
   "cell_type": "markdown",
   "metadata": {
    "id": "P2NrvhyiLUL8",
    "nbgrader": {
     "grade": false,
     "grade_id": "cell-e9aac435968dd2c2",
     "locked": true,
     "schema_version": 3,
     "solution": false,
     "task": false
    }
   },
   "source": [
    "# Introducción"
   ]
  },
  {
   "cell_type": "markdown",
   "metadata": {
    "id": "MKXoxBYWLWd5",
    "nbgrader": {
     "grade": false,
     "grade_id": "cell-00fc494138608aee",
     "locked": true,
     "schema_version": 3,
     "solution": false,
     "task": false
    }
   },
   "source": [
    "## Descripción\n"
   ]
  },
  {
   "cell_type": "markdown",
   "metadata": {},
   "source": [
    "El presente *jupyter notebook* contine todo el material para el desarrollo de la prácitca calificada de la Semana 2 del curso ***Matématicas para Machine Learning***. \n",
    "En este se pondran en práctica algunas de las aplicaciones más conocidas relacionadas con algunos de los temas visto a lo largo del curso, especificamente el de *Singular Value Decomposotion* (SVD).\n",
    "\n",
    "**Objetivos de Aprendizaje:**\n",
    "\n",
    "*   Repasar los conceptos clave de la descomoposición de valores singulares (SVD).\n",
    "*   Conocer las distintas aplicaciones que tiene la técnica de SVD.\n",
    "*   Implementar algunas de estas aplicaciones en contextos prácticos como:\n",
    "\n",
    "  *   Compresión de imagenes\n",
    "  *   Reducción de dimensionalidad\n",
    "  *   Clasificación de caracteristicas principales\n"
   ]
  },
  {
   "cell_type": "markdown",
   "metadata": {
    "id": "oXt6WagfLy0o",
    "nbgrader": {
     "grade": false,
     "grade_id": "cell-4764f3cc291ba6fa",
     "locked": true,
     "schema_version": 3,
     "solution": false,
     "task": false
    }
   },
   "source": [
    "## Metodología"
   ]
  },
  {
   "cell_type": "markdown",
   "metadata": {
    "id": "rLl4zsMMce2R",
    "nbgrader": {
     "grade": false,
     "grade_id": "cell-01ae578c206c6fbe",
     "locked": true,
     "schema_version": 3,
     "solution": false,
     "task": false
    }
   },
   "source": [
    "En la primera parte del cuaderno usted encontrará varias implementaciones sencillas de SVD para algunos ejemplos prácticos. En esta primera mitad usted podrá experimentar con dichos ejemplos, deberá responder algunas preguntas a partir de los resultados y/o completar algunas funciones para la visualización de los datos. \n",
    "\n",
    "En la segunda parte del cuaderno pondrá en práctica lo estudiado y repasado en la primera mitad para un ejercicio en especifico. En este caso trabajando con un subconjunto de datos del bien conocido y estudiado dataset de [Perros vs Gatos](https://www.kaggle.com/competitions/dogs-vs-cats/data)."
   ]
  },
  {
   "cell_type": "markdown",
   "metadata": {
    "id": "vDIA-K1aMLRZ",
    "nbgrader": {
     "grade": false,
     "grade_id": "cell-fd6442a2a45a0799",
     "locked": true,
     "schema_version": 3,
     "solution": false,
     "task": false
    }
   },
   "source": [
    "## Teoría\n"
   ]
  },
  {
   "cell_type": "markdown",
   "metadata": {
    "id": "nwJCTo-M8DbS",
    "nbgrader": {
     "grade": false,
     "grade_id": "cell-4ffdbe3f8ee2a462",
     "locked": true,
     "schema_version": 3,
     "solution": false,
     "task": false
    }
   },
   "source": [
    "### Rango de una matriz"
   ]
  },
  {
   "cell_type": "markdown",
   "metadata": {
    "id": "4MlBrFiO1hpO",
    "nbgrader": {
     "grade": false,
     "grade_id": "cell-dcb941177d2585a8",
     "locked": true,
     "schema_version": 3,
     "solution": false,
     "task": false
    }
   },
   "source": [
    "Recuerde que el rango de una matriz esta dado por el número de de filas (o columnas) linealmente independientes dentro de una matriz. Es decir filas que no se puedan expresar como una combinación lineal de otras filas:\n",
    "\n",
    "\\begin{equation}\n",
    "r_3 \\neq a r_1 + b r_2 \n",
    "\\end{equation}\n",
    "\n",
    "En este caso $r_3$ es linealmente independiente de $r_1$ y $r_2$. De forma intuitiva, este valor esta asociado a la cantidad de información unica que nos brinda esta matriz, a mayor número de filas independientes, mayor la información única que nos da cada fila."
   ]
  },
  {
   "cell_type": "markdown",
   "metadata": {
    "id": "YzO6SxcDAmCV",
    "nbgrader": {
     "grade": false,
     "grade_id": "cell-fd89c826570d7f1f",
     "locked": true,
     "schema_version": 3,
     "solution": false,
     "task": false
    }
   },
   "source": [
    "### SVD"
   ]
  },
  {
   "cell_type": "markdown",
   "metadata": {
    "id": "bFmntSKV3CT0",
    "nbgrader": {
     "grade": false,
     "grade_id": "cell-7cc08d419cacbbcd",
     "locked": true,
     "schema_version": 3,
     "solution": false,
     "task": false
    }
   },
   "source": [
    "Esto es importante pues la esencia de la descomposición de valores singulares (SVD) es la respresentación de una matriz $A$ como el producto de 3 matrices de la siguiente manera:\n",
    "\n",
    "\\begin{equation}\n",
    "A_{m\\times n} = U_{m\\times m}S_{m\\times n}V_{n\\times n}^T = \\begin{bmatrix}\n",
    "            u_1 & ... & u_n\n",
    "            \\end{bmatrix}\n",
    "            \\begin{bmatrix}\n",
    "            \\sigma_1 &  & 0 \\\\\n",
    "              & \\ddots &  \\\\\n",
    "             0 &  & \\sigma_n\n",
    "            \\end{bmatrix}\n",
    "            \\begin{bmatrix}\n",
    "            v_1^T \\\\ \\vdots \\\\ v_n^T\n",
    "            \\end{bmatrix} = \\sum_{i=1}^n \\sigma_i u_i v_i^T\n",
    "\\end{equation}\n",
    "\n",
    "Donde: \n",
    "\n",
    "*   $A$ es la matriz original\n",
    "*   $U$ es una matriz mxm de vectores singulares izquierdos ($u_i$)\n",
    "*   $S$ es una matriz diagonal con los valores singulares ($\\sigma_i$)\n",
    "*   $V$ es una matriz nxn con los vectores singulares derechos ($v_i$)\n",
    "\n"
   ]
  },
  {
   "cell_type": "markdown",
   "metadata": {
    "id": "_JWAFoDd5P0v",
    "nbgrader": {
     "grade": false,
     "grade_id": "cell-5015f2249bcec77d",
     "locked": true,
     "schema_version": 3,
     "solution": false,
     "task": false
    }
   },
   "source": [
    "Esta descomposición, en últimas, nos permite respresentar nuestra matriz original ($A$) como una combinación lineal de matrices ($\\sigma_i u_i v_i^T$) de rango 1!\n",
    "\n",
    "Adicionalmente, es posible truncar dicha suma en un número $k$ inferior de matrices sin perder mucha información:\n",
    "\n",
    "\n",
    "\n"
   ]
  },
  {
   "cell_type": "markdown",
   "metadata": {
    "id": "1J89KlUqAdYC",
    "nbgrader": {
     "grade": false,
     "grade_id": "cell-fcf144a6b98e015a",
     "locked": true,
     "schema_version": 3,
     "solution": false,
     "task": false
    }
   },
   "source": [
    "![TruncatedSVD.png](img/TruncatedSVD.png)"
   ]
  },
  {
   "cell_type": "markdown",
   "metadata": {
    "id": "JXqZTS32uuA3",
    "nbgrader": {
     "grade": false,
     "grade_id": "cell-dfd8cf21209d050c",
     "locked": true,
     "schema_version": 3,
     "solution": false,
     "task": false
    }
   },
   "source": [
    "# 1. Implementación SVD\n"
   ]
  },
  {
   "cell_type": "markdown",
   "metadata": {
    "id": "Cso1ZqQlurIv",
    "nbgrader": {
     "grade": false,
     "grade_id": "cell-d4f09c338054d059",
     "locked": true,
     "schema_version": 3,
     "solution": false,
     "task": false
    }
   },
   "source": [
    "## Importar Datos"
   ]
  },
  {
   "cell_type": "code",
   "execution_count": null,
   "metadata": {
    "id": "_3GcyF94uqaB",
    "nbgrader": {
     "grade": false,
     "grade_id": "cell-ec151328d0c4828c",
     "locked": true,
     "schema_version": 3,
     "solution": false,
     "task": false
    }
   },
   "outputs": [],
   "source": [
    "# Librerias principales\n",
    "import os\n",
    "import cv2\n",
    "import zipfile\n",
    "import numpy as np\n",
    "import pandas as pd\n",
    "\n",
    "# Sklearn\n",
    "from sklearn.datasets import load_digits, load_sample_images\n",
    "from sklearn.decomposition import TruncatedSVD, PCA\n",
    "\n",
    "# Tensorflow\n",
    "import tensorflow as tf\n",
    "\n",
    "# Visualización\n",
    "import plotly.express as px\n",
    "import matplotlib.pyplot as plt \n",
    "\n",
    "from IPython.display import display, HTML"
   ]
  },
  {
   "cell_type": "code",
   "execution_count": null,
   "metadata": {
    "id": "YY3_Z4pNoojA",
    "nbgrader": {
     "grade": false,
     "grade_id": "cell-56b3563ad596bafe",
     "locked": true,
     "schema_version": 3,
     "solution": false,
     "task": false
    }
   },
   "outputs": [],
   "source": [
    "# Dataset de números escritos a mano\n",
    "(X_digitos, y_digitos), (_, _) = tf.keras.datasets.mnist.load_data()\n",
    "\n",
    "# Normalizar imagenes entre [-1, 1]\n",
    "X_digitos = (X_digitos - 127.5) / 127.5\n",
    "\n",
    "# Tomar solo los primeros 1000 datos\n",
    "X_digitos = X_digitos[0:1000]\n",
    "y_digitos = y_digitos[0:1000]"
   ]
  },
  {
   "cell_type": "code",
   "execution_count": null,
   "metadata": {
    "id": "tq6lCuhOMYRZ",
    "nbgrader": {
     "grade": false,
     "grade_id": "cell-625f34dda00ac4ae",
     "locked": true,
     "schema_version": 3,
     "solution": false,
     "task": false
    }
   },
   "outputs": [],
   "source": [
    "# Dataset de imagenes de ejemplo\n",
    "dataset_img = load_sample_images()"
   ]
  },
  {
   "cell_type": "markdown",
   "metadata": {
    "id": "TDktJlrQ7TK9",
    "nbgrader": {
     "grade": false,
     "grade_id": "cell-a49c76939224b43f",
     "locked": true,
     "schema_version": 3,
     "solution": false,
     "task": false
    }
   },
   "source": [
    "## Imagenes Comprimidas"
   ]
  },
  {
   "cell_type": "markdown",
   "metadata": {
    "id": "-H8IpOBoiH0_",
    "nbgrader": {
     "grade": false,
     "grade_id": "cell-cd423399a5323211",
     "locked": true,
     "schema_version": 3,
     "solution": false,
     "task": false
    }
   },
   "source": [
    "En esencia, las imagenes no son más que matrices dónde cada número denota la intensidad de cada píxel. Tome como ejemplo la siguiente imagen cargada desde la librería de $\\texttt{sci-kit learn}$."
   ]
  },
  {
   "cell_type": "code",
   "execution_count": null,
   "metadata": {
    "colab": {
     "base_uri": "https://localhost:8080/",
     "height": 264
    },
    "id": "IHWEBxoZribY",
    "nbgrader": {
     "grade": false,
     "grade_id": "cell-7089db8fa4d217b1",
     "locked": true,
     "schema_version": 3,
     "solution": false,
     "task": false
    },
    "outputId": "c6b3eb47-fa81-4356-b5a6-f4b8ad2a838f"
   },
   "outputs": [],
   "source": [
    "# Visualizar imagen de ejemplo\n",
    "img_ejemplo = dataset_img.images[0] \n",
    "plt.imshow(img_ejemplo)\n",
    "plt.axis('off')\n",
    "plt.title('Imagen de Ejemplo')\n",
    "plt.show()"
   ]
  },
  {
   "cell_type": "markdown",
   "metadata": {
    "id": "AkhX6TM8i4LS",
    "nbgrader": {
     "grade": false,
     "grade_id": "cell-f624989681d9d7ca",
     "locked": true,
     "schema_version": 3,
     "solution": false,
     "task": false
    }
   },
   "source": [
    "Inspecione las dimensiones y los valores de la imagen."
   ]
  },
  {
   "cell_type": "code",
   "execution_count": null,
   "metadata": {
    "colab": {
     "base_uri": "https://localhost:8080/"
    },
    "id": "r5B9mehejCAw",
    "nbgrader": {
     "grade": false,
     "grade_id": "cell-550a3e3b8a978bc4",
     "locked": true,
     "schema_version": 3,
     "solution": false,
     "task": false
    },
    "outputId": "1bccb7b9-2355-49bf-8386-91f6f9255dc9"
   },
   "outputs": [],
   "source": [
    "img_ejemplo.shape"
   ]
  },
  {
   "cell_type": "code",
   "execution_count": null,
   "metadata": {
    "colab": {
     "base_uri": "https://localhost:8080/"
    },
    "id": "in-NqXEpjI2-",
    "nbgrader": {
     "grade": false,
     "grade_id": "cell-06d05785533ccfb6",
     "locked": true,
     "schema_version": 3,
     "solution": false,
     "task": false
    },
    "outputId": "99129e6c-d9a8-45b2-94a3-1e46ac0f75da"
   },
   "outputs": [],
   "source": [
    "img_ejemplo"
   ]
  },
  {
   "cell_type": "markdown",
   "metadata": {
    "id": "UwNZPDBHjfHY",
    "nbgrader": {
     "grade": false,
     "grade_id": "cell-7c2bd4a04d44c6b2",
     "locked": true,
     "schema_version": 3,
     "solution": false,
     "task": false
    }
   },
   "source": [
    "Note que esta imagen esta compuesta por tres matrices de 427x640. Cada matriz esta asociada a la intensidad de tres colores: rojo, azul y verde (o RGB, por sus siglas en inglés), las cuales logran componer una imagen a color.\n",
    "\n",
    "Dado que se desea trabajar con una única matriz, se hace la conversión a blanco y negro con la siguiente función:"
   ]
  },
  {
   "cell_type": "code",
   "execution_count": null,
   "metadata": {
    "id": "ZUphoHbmdsCv",
    "nbgrader": {
     "grade": false,
     "grade_id": "cell-94b3d4cb9e7ff1ad",
     "locked": true,
     "schema_version": 3,
     "solution": false,
     "task": false
    }
   },
   "outputs": [],
   "source": [
    "def convertir_blanco_y_negro(img):\n",
    "    # Verificar tipo\n",
    "    if type(img) != np.ndarray:\n",
    "        img = np.array(img)\n",
    "    \n",
    "    # Verificar dimensiones (Imagen a color)\n",
    "    assert img.shape[2] == 3, \"Las dimensiones de la imagen no coinciden! Debe tener las tres dimensiones de color RGB\"\n",
    "\n",
    "    # Se convierte la imagen a blanco y negro (Se pasa de 3 matrices a 1 matriz)\n",
    "    img_bn = 0.2125*img[:, :, 0] + 0.7154*img[:, :, 1] + 0.0721*img[:, :, 2]\n",
    "\n",
    "    return img_bn"
   ]
  },
  {
   "cell_type": "code",
   "execution_count": null,
   "metadata": {
    "id": "yeVDQ_xykoy2",
    "nbgrader": {
     "grade": false,
     "grade_id": "cell-ea40a9ed7c24d04e",
     "locked": true,
     "schema_version": 3,
     "solution": false,
     "task": false
    }
   },
   "outputs": [],
   "source": [
    "# Se convierte la imagen a blanco y negro (Se pasa de 3 matrices a 1 matriz)\n",
    "img_bn = convertir_blanco_y_negro(img_ejemplo)"
   ]
  },
  {
   "cell_type": "markdown",
   "metadata": {
    "id": "e4Jf0PbJl4Wk",
    "nbgrader": {
     "grade": false,
     "grade_id": "cell-a0b6f322cf016821",
     "locked": true,
     "schema_version": 3,
     "solution": false,
     "task": false
    }
   },
   "source": [
    "Inspecione las nuevas dimensiones"
   ]
  },
  {
   "cell_type": "code",
   "execution_count": null,
   "metadata": {
    "colab": {
     "base_uri": "https://localhost:8080/"
    },
    "id": "rM_wjxRal4IA",
    "nbgrader": {
     "grade": false,
     "grade_id": "cell-a7727822d416b028",
     "locked": true,
     "schema_version": 3,
     "solution": false,
     "task": false
    },
    "outputId": "5047a09f-fc45-4ab2-ed8c-6c7ad4527dfe"
   },
   "outputs": [],
   "source": [
    "img_bn.shape"
   ]
  },
  {
   "cell_type": "markdown",
   "metadata": {
    "id": "0fofXSp-nez6",
    "nbgrader": {
     "grade": false,
     "grade_id": "cell-78dd84f73a840a38",
     "locked": true,
     "schema_version": 3,
     "solution": false,
     "task": false
    }
   },
   "source": [
    "Ahora, con esta unica matriz procedemos a realizar la descomposicón por vectores singulares utilizando la librería de $\\texttt{numpy}$."
   ]
  },
  {
   "cell_type": "code",
   "execution_count": null,
   "metadata": {
    "id": "u92U4mslsKxR",
    "nbgrader": {
     "grade": false,
     "grade_id": "cell-82be7982f4c88f80",
     "locked": true,
     "schema_version": 3,
     "solution": false,
     "task": false
    }
   },
   "outputs": [],
   "source": [
    "# Se realiza la descomposicion SVD\n",
    "U, S, V = np.linalg.svd(img_bn)"
   ]
  },
  {
   "cell_type": "markdown",
   "metadata": {
    "id": "RnVIWkKlsat-",
    "nbgrader": {
     "grade": false,
     "grade_id": "cell-5fe2c0a356c5a353",
     "locked": true,
     "schema_version": 3,
     "solution": false,
     "task": false
    }
   },
   "source": [
    "Inspecciones las dimensiones y los valores de las matrices $U, S, V^T$."
   ]
  },
  {
   "cell_type": "code",
   "execution_count": null,
   "metadata": {
    "colab": {
     "base_uri": "https://localhost:8080/"
    },
    "id": "vHo-vYGKsV-K",
    "outputId": "c40e59ed-cef0-49c0-a7bc-84f511d94ec1"
   },
   "outputs": [],
   "source": [
    "# Edite para imprimir valores o dimensiones\n",
    "print(U.shape)\n",
    "print(S)\n",
    "print(V.shape)"
   ]
  },
  {
   "cell_type": "markdown",
   "metadata": {
    "id": "UE95Nv7RsO03",
    "nbgrader": {
     "grade": false,
     "grade_id": "cell-e41350e0a3c227a9",
     "locked": true,
     "schema_version": 3,
     "solution": false,
     "task": false
    }
   },
   "source": [
    "Finalmente, se reconstruyen estas imagenes solo con un número determinado de componentes."
   ]
  },
  {
   "cell_type": "code",
   "execution_count": null,
   "metadata": {
    "colab": {
     "base_uri": "https://localhost:8080/",
     "height": 459
    },
    "id": "sZfbS9tkr4MF",
    "outputId": "02c26bca-1d8f-45da-8a83-ff6dfd21223b"
   },
   "outputs": [],
   "source": [
    "# Numero de componentes de prueba\n",
    "n_componentes = [3, 10, 25, 50, 200, 427]\n",
    "\n",
    "# Figura de las diferentes imagenes\n",
    "plt.figure(figsize = (16, 8))\n",
    "\n",
    "for i, n in enumerate(n_componentes):\n",
    "    # Reconstruccion de imagen con solo n componentes\n",
    "    img_reducida = U[:, :n] @ np.diag(S[:n]) @ V[:n, :]\n",
    "    # Gráfica\n",
    "    plt.subplot(2, 3, i+1)\n",
    "    plt.imshow(img_reducida, cmap = 'gray')\n",
    "    plt.title(f'n_componentes = {n}')\n",
    "    plt.axis('off')\n"
   ]
  },
  {
   "cell_type": "markdown",
   "metadata": {
    "id": "p8IkcJ2ttWlq",
    "nbgrader": {
     "grade": false,
     "grade_id": "cell-82eae9ebb9ad5753",
     "locked": true,
     "schema_version": 3,
     "solution": false,
     "task": false
    }
   },
   "source": [
    "¿Cuantas componentes son realmente necesarias para reconstruir la imagen?\n",
    "\n",
    "Varie el número de componentes en el vector $\\texttt{n componentes}$ para explorar distintos niveles de compresión de la imagen."
   ]
  },
  {
   "cell_type": "markdown",
   "metadata": {
    "id": "HCmmt6YcvE-l",
    "nbgrader": {
     "grade": false,
     "grade_id": "cell-a4b15f853fdd60a3",
     "locked": true,
     "schema_version": 3,
     "solution": false,
     "task": false
    }
   },
   "source": [
    "Ahora bien, para visualizar de mejor manera la información que aportan cada uno de los componentes a la reconstrucción de la imagen se puede graficar el aporte de cada componente ($S$) con la clase $\\texttt{TruncatedSVD}$ de la librería de $\\texttt{sci-kit learn}$."
   ]
  },
  {
   "cell_type": "code",
   "execution_count": null,
   "metadata": {
    "id": "EjjFZ_9wAuN8",
    "nbgrader": {
     "grade": false,
     "grade_id": "cell-cb588ba3ddaabba3",
     "locked": true,
     "schema_version": 3,
     "solution": false,
     "task": false
    }
   },
   "outputs": [],
   "source": [
    "def graficar_valor_componentes(img):\n",
    "    \"\"\"\n",
    "    Gráfica el aporte acumulado de cada componente dada una imagen en blanco y negro.\n",
    "    ___________________________________\n",
    "    Entrada:\n",
    "    img:        [numpy.ndarray] Matriz de una imagen en blanco y negro\n",
    "    ___________________________________\n",
    "    Salida:\n",
    "    fig         [plt.fig] Figura con gráfico\n",
    "    \"\"\"\n",
    "    fig = plt.figure(figsize=(8, 5))\n",
    "    \n",
    "    # Varianza Truncated SVD\n",
    "    svd = TruncatedSVD(n_components=426).fit(img_bn)\n",
    "    var_svd = np.cumsum(svd.explained_variance_ratio_)\n",
    "\n",
    "    # Grafica\n",
    "    plt.plot(var_svd)\n",
    "    plt.grid('on')\n",
    "    \n",
    "    # Títulos\n",
    "    plt.xlabel('Número de Componentes')\n",
    "    plt.ylabel('Varianza acumulada (%)')\n",
    "    plt.title('Aporte porcentual acumulado por cada componenete')\n",
    "\n",
    "    return fig"
   ]
  },
  {
   "cell_type": "code",
   "execution_count": null,
   "metadata": {
    "colab": {
     "base_uri": "https://localhost:8080/",
     "height": 350
    },
    "id": "sj90kQx9yJm-",
    "nbgrader": {
     "grade": false,
     "grade_id": "cell-936ff6847c6443c6",
     "locked": true,
     "schema_version": 3,
     "solution": false,
     "task": false
    },
    "outputId": "56e310b8-863e-404f-fbb9-d995f0928f0b",
    "scrolled": true
   },
   "outputs": [],
   "source": [
    "# Probar función\n",
    "graficar_valor_componentes(img_bn)\n",
    "plt.show()"
   ]
  },
  {
   "cell_type": "markdown",
   "metadata": {
    "nbgrader": {
     "grade": false,
     "grade_id": "cell-644721bb9e089064",
     "locked": true,
     "schema_version": 3,
     "solution": false,
     "task": false
    }
   },
   "source": [
    "¿Coincide esta gráfica con las imagenes que se obtienen para cada número de componentes? Responda ahora sí ¿Cuantas componentes cree que son necesarias ara reconstruir la imagen?"
   ]
  },
  {
   "cell_type": "markdown",
   "metadata": {},
   "source": [
    "**Respuesta:**"
   ]
  },
  {
   "cell_type": "markdown",
   "metadata": {
    "id": "nBCu1Elt7Y84",
    "nbgrader": {
     "grade": false,
     "grade_id": "cell-7268560fd131b327",
     "locked": true,
     "schema_version": 3,
     "solution": false,
     "task": false
    }
   },
   "source": [
    "## Reducción de dimensionalidad"
   ]
  },
  {
   "cell_type": "markdown",
   "metadata": {
    "id": "ekgyYxwJzKNC",
    "nbgrader": {
     "grade": false,
     "grade_id": "cell-a3f8f9423da3beef",
     "locked": true,
     "schema_version": 3,
     "solution": false,
     "task": false
    }
   },
   "source": [
    "Considere este otro ejemplo del conocido dataset $\\texttt{MNIST}$, el cual contiene imagenes (ya en blanco y negro) de digitos del 0 al 9 escritos a mano."
   ]
  },
  {
   "cell_type": "markdown",
   "metadata": {
    "id": "1Y6Uz4gUz9rf",
    "nbgrader": {
     "grade": false,
     "grade_id": "cell-717aa7b03d281d54",
     "locked": true,
     "schema_version": 3,
     "solution": false,
     "task": false
    }
   },
   "source": [
    "Inspecione las dimensiones y los valores de la imagen."
   ]
  },
  {
   "cell_type": "code",
   "execution_count": null,
   "metadata": {
    "colab": {
     "base_uri": "https://localhost:8080/"
    },
    "id": "wrU4hZjs7kPk",
    "nbgrader": {
     "grade": false,
     "grade_id": "cell-4119b7ea0d32e0ad",
     "locked": true,
     "schema_version": 3,
     "solution": false,
     "task": false
    },
    "outputId": "9b5c5778-74d5-4fbd-eb59-6dbcb720ae4c"
   },
   "outputs": [],
   "source": [
    "# Imagen de ejemplo\n",
    "digit_sample_img = X_digitos[0]\n",
    "digit_sample_img = digit_sample_img.reshape((28, 28))\n",
    "\n",
    "# Imprimir tamaño de la imagen\n",
    "print(digit_sample_img.shape)"
   ]
  },
  {
   "cell_type": "code",
   "execution_count": null,
   "metadata": {
    "colab": {
     "base_uri": "https://localhost:8080/",
     "height": 536
    },
    "id": "aEDHoEwm_fX8",
    "nbgrader": {
     "grade": false,
     "grade_id": "cell-2a1d1a19c980298a",
     "locked": true,
     "schema_version": 3,
     "solution": false,
     "task": false
    },
    "outputId": "82c900a9-fcd7-442d-f263-b9cfe25d63dd"
   },
   "outputs": [],
   "source": [
    "# Visualizacion de las primeras 9 imagenes del dataset\n",
    "fig = plt.figure(figsize=(9, 9))\n",
    "\n",
    "# Plot\n",
    "for i in range(0,9):\n",
    "    plt.subplot(3, 3, i+1)\n",
    "    plt.imshow(X_digitos[i].reshape((28, 28)), cmap = 'gray')\n",
    "    plt.title(f'Digito {y_digitos[i]}')\n",
    "    plt.axis('off')\n",
    "\n",
    "plt.show()"
   ]
  },
  {
   "cell_type": "markdown",
   "metadata": {
    "id": "Ot0wbjHJ0JmI",
    "nbgrader": {
     "grade": false,
     "grade_id": "cell-58b0b6b8ae03f85a",
     "locked": true,
     "schema_version": 3,
     "solution": false,
     "task": false
    }
   },
   "source": [
    "Ahora se desea descomponer estas imagenes en tan solo 3 componentes para visualizar la posición de estos digitos en otro espacio (de tan solo 3 dimensiones!).\n",
    "\n",
    "Para esto realizamos la descomposición con la clase $\\texttt{TruncatedSVD}$ de la librería de $\\texttt{sci-kit learn}$."
   ]
  },
  {
   "cell_type": "code",
   "execution_count": null,
   "metadata": {
    "colab": {
     "base_uri": "https://localhost:8080/",
     "height": 363
    },
    "id": "pHVyhcxIyYtY",
    "nbgrader": {
     "grade": false,
     "grade_id": "cell-0b14c205e86ca705",
     "locked": true,
     "schema_version": 3,
     "solution": false,
     "task": false
    },
    "outputId": "b1e28771-9698-4420-daff-425ddf552e9d"
   },
   "outputs": [],
   "source": [
    "# Descomposición en 3 dimensiones con Truncated SVD\n",
    "svd = TruncatedSVD(n_components=3)\n",
    "X_digits_transformed = svd.fit_transform(X_digitos.reshape(1000,28*28))\n",
    "\n",
    "# Conversión a DF para su visualización\n",
    "df = pd.DataFrame(X_digits_transformed)\n",
    "df.columns = ['Componente 1', 'Componente 2', 'Componente 3']\n",
    "df['Digito'] = y_digitos\n",
    "\n",
    "# Visualización de datos\n",
    "df.head(10)"
   ]
  },
  {
   "cell_type": "code",
   "execution_count": null,
   "metadata": {
    "colab": {
     "base_uri": "https://localhost:8080/",
     "height": 542
    },
    "id": "COvsovVuyJKt",
    "outputId": "5044957c-8539-453e-ced9-137165824f93",
    "scrolled": false
   },
   "outputs": [],
   "source": [
    "# Selección solo de los primeros 4 digitos (0, 1, 2, 3)\n",
    "filtro = df['Digito'] < 4\n",
    "df_filtrado = df[filtro]\n",
    "\n",
    "# Plot (Gráfica en 3D)\n",
    "fig = px.scatter_3d(df_filtrado, x='Componente 1', y='Componente 2', z='Componente 3', color='Digito')\n",
    "fig.update_traces(marker=dict(size=6, line=dict(width=1, color='DarkSlateGrey')), selector=dict(mode='markers'))\n",
    "fig.show()"
   ]
  },
  {
   "cell_type": "markdown",
   "metadata": {
    "nbgrader": {
     "grade": false,
     "grade_id": "cell-8f7ecab375ff65ea",
     "locked": true,
     "schema_version": 3,
     "solution": false,
     "task": false
    }
   },
   "source": [
    "Ahora bien, la clase $\\texttt{TruncatedSVD}$ solo implementa parte del algoritmo PCA (Principal Component Analysis) que ya fue implementado en previos laboratorios. Por suerte, la librería de $\\texttt{sci-kit learn}$ también provee esta clase!"
   ]
  },
  {
   "cell_type": "code",
   "execution_count": null,
   "metadata": {},
   "outputs": [],
   "source": [
    "# Descomposición en 3 dimensiones con PCA\n",
    "pca = PCA(n_components=3)\n",
    "X_digits_transformed = pca.fit_transform(X_digitos.reshape(1000,28*28))\n",
    "\n",
    "# Conversión a DF para su visualización\n",
    "df = pd.DataFrame(X_digits_transformed)\n",
    "df.columns = ['Componente 1', 'Componente 2', 'Componente 3']\n",
    "df['Digito'] = y_digitos\n",
    "\n",
    "# Selección solo de los primeros 4 digitos (0, 1, 2, 3)\n",
    "filtro = df['Digito'] < 4\n",
    "df_filtrado = df[filtro]\n",
    "\n",
    "# Plot (Gráfica en 3D)\n",
    "fig = px.scatter_3d(df_filtrado, x='Componente 1', y='Componente 2', z='Componente 3', color='Digito')\n",
    "fig.update_traces(marker=dict(size=6, line=dict(width=1, color='DarkSlateGrey')), selector=dict(mode='markers'))\n",
    "fig.show()"
   ]
  },
  {
   "cell_type": "markdown",
   "metadata": {
    "id": "ps6E6r7Q0hGA"
   },
   "source": [
    "¿Nota alguna relación entre la posición de los digitos en el nuevo espacio 3D y la forma de los mismos?\n",
    "\n",
    "Pruebe con distintas combinaciones de digitos, la implementación de SVD y PCA y escriba sus conclusiones a continuación."
   ]
  },
  {
   "cell_type": "markdown",
   "metadata": {
    "id": "aE7MOxCX05RK"
   },
   "source": [
    "**Respuesta:**\n"
   ]
  },
  {
   "cell_type": "markdown",
   "metadata": {
    "id": "q4MST6YWuxpv"
   },
   "source": [
    "# 2. Ejercicio Práctico"
   ]
  },
  {
   "cell_type": "markdown",
   "metadata": {
    "id": "q2V-7JIszlS9"
   },
   "source": [
    "## Importar Datos"
   ]
  },
  {
   "cell_type": "code",
   "execution_count": null,
   "metadata": {},
   "outputs": [],
   "source": [
    "def cargar_imagenes(carpeta, dim=(64,64), byn = True):\n",
    "    \"\"\"\n",
    "    Cargar imagenes de la carpeta por parametro.\n",
    "    ___________________________________\n",
    "    Entrada:\n",
    "    carpeta:        [numpy.ndarray] Matriz de una imagen en blanco y negro.\n",
    "    dim:            [tuple] Dimensiones a las que se quiere estandarizar las imagenes.\n",
    "    byn:            [boolean] Si se desea o no convertir las imagenes a blanco y negro.\n",
    "    ___________________________________\n",
    "    Salida:\n",
    "    imagenes        [list(numpy.ndarray)] Arreglo de imagenes.\n",
    "    \"\"\"\n",
    "    imagenes = []\n",
    "    # Recorrer todos los archivos en la carpeta\n",
    "    for archivo in os.listdir(carpeta):  \n",
    "        # Verificar formato\n",
    "        if archivo.endswith('.jpg'):\n",
    "            # Cargar Imagen\n",
    "            img = cv2.imread(os.path.join(carpeta, archivo))\n",
    "            if img is None:\n",
    "                pass\n",
    "            # Corregir Color\n",
    "            im_rgb = cv2.cvtColor(img, cv2.COLOR_BGR2RGB)\n",
    "            # Ajustar a un único tamaño\n",
    "            if dim is not None:\n",
    "                img_ajustada = cv2.resize(im_rgb, dim, interpolation = cv2.INTER_AREA)\n",
    "            # Convertir a blanco y negtro\n",
    "            if byn:\n",
    "                img_ajustada = convertir_blanco_y_negro(img_ajustada)\n",
    "            # Agregar\n",
    "            imagenes.append(img_ajustada)\n",
    "\n",
    "    return np.array(imagenes)"
   ]
  },
  {
   "cell_type": "code",
   "execution_count": null,
   "metadata": {},
   "outputs": [],
   "source": [
    "# Cargar imagenes de Gatos a color\n",
    "img_gatos = cargar_imagenes(\"img/Gatos\", byn = False)\n",
    "\n",
    "# Visualizacion de las primeras 9 imagenes del dataset de Gatos\n",
    "fig = plt.figure(figsize=(9, 9))\n",
    "\n",
    "# Plot\n",
    "for i, example in enumerate(img_gatos):\n",
    "    plt.subplot(3, 3, i+1)\n",
    "    plt.imshow(example, cmap = 'gray')\n",
    "    plt.title(f\"Gato {i}\")\n",
    "    plt.axis('off')\n",
    "    if i >= 8:\n",
    "        break\n",
    "\n",
    "plt.show()"
   ]
  },
  {
   "cell_type": "code",
   "execution_count": null,
   "metadata": {
    "colab": {
     "base_uri": "https://localhost:8080/",
     "height": 536
    },
    "id": "2dLJD0ageSJG",
    "outputId": "60eb4dc7-e2e5-4a8b-ba9b-884cb7118a23"
   },
   "outputs": [],
   "source": [
    "# Cargar imagenes de Perros a color\n",
    "img_perros = cargar_imagenes(\"img/Perros\", byn = False)\n",
    "\n",
    "# Visualizacion de las primeras 9 imagenes del dataset de Gatos\n",
    "fig = plt.figure(figsize=(9, 9))\n",
    "\n",
    "# Plot\n",
    "for i, example in enumerate(img_perros):\n",
    "    plt.subplot(3, 3, i+1)\n",
    "    plt.imshow(example, cmap = 'gray')\n",
    "    plt.title(f\"Perro {i}\")\n",
    "    plt.axis('off')\n",
    "    if i >= 8:\n",
    "        break\n",
    "\n",
    "plt.show()"
   ]
  },
  {
   "cell_type": "markdown",
   "metadata": {
    "id": "cqJlMeQOp-e-"
   },
   "source": [
    "## Compresión de Imagenes"
   ]
  },
  {
   "cell_type": "markdown",
   "metadata": {
    "id": "SHe8VuFaqCmX"
   },
   "source": [
    "Seleccione una imagen del subconjunto de perros y otro del de gatos y comprimala para distinto número de componentes tal y como se hizo para la imagen de ejemplo. ¿Cuantas componentes son necesarias para reconstruir la imagen del perro y del gato? ¿Esto varía dependiendo del ánimal? ¿De la foto?"
   ]
  },
  {
   "cell_type": "code",
   "execution_count": null,
   "metadata": {
    "id": "XdUjTWLKqC5P"
   },
   "outputs": [],
   "source": [
    "# Compersión imagen de gato\n"
   ]
  },
  {
   "cell_type": "code",
   "execution_count": null,
   "metadata": {},
   "outputs": [],
   "source": [
    "# Compersión imagen de perro\n"
   ]
  },
  {
   "cell_type": "markdown",
   "metadata": {},
   "source": [
    "**Respuesta:**"
   ]
  },
  {
   "cell_type": "markdown",
   "metadata": {
    "id": "l8YGr2wJqDqs"
   },
   "source": [
    "## Reducción de dimensionalidad"
   ]
  },
  {
   "cell_type": "markdown",
   "metadata": {
    "id": "M-E0BRibqHir"
   },
   "source": [
    "Descomponga todas las imagenes de los perros y los gatos y reduzcalos a tan solo 3 componentes. Visualice la ubicación de las imagenes en el nuevo espacio. ¿Tienen sentido? ¿Por qué sí o por qué no?"
   ]
  },
  {
   "cell_type": "code",
   "execution_count": null,
   "metadata": {
    "id": "XOBqeb2jqH9d"
   },
   "outputs": [],
   "source": [
    "# Reducción de dimensionalidad\n"
   ]
  },
  {
   "cell_type": "code",
   "execution_count": null,
   "metadata": {
    "id": "smSWWC4SqIA2"
   },
   "outputs": [],
   "source": [
    "# Visualización\n"
   ]
  },
  {
   "cell_type": "markdown",
   "metadata": {
    "id": "itg5-3wrqIsI"
   },
   "source": [
    "**Respuesta:**"
   ]
  },
  {
   "cell_type": "markdown",
   "metadata": {
    "id": "PxhPebywqJ4P"
   },
   "source": [
    "## Proyección de los datos en un nuevo espacio"
   ]
  },
  {
   "cell_type": "markdown",
   "metadata": {
    "id": "ryelmxzoqOpE"
   },
   "source": [
    "Por último, transforme las imagenes de perros y gatos por separado y proyecte algun ejemplo de su gusto en el espacio contrario. Es decir, tome una foto de un gato y proyectela en el espacio proyectado de los perros y viceversa. Gráfique la imagen resultante ¿Qué nota de interesante en estas nuevas imagenes?\n",
    "\n",
    "Hint: Considere la función $\\texttt{inverse_transform}$ de las clases $\\texttt{PCA}$ y $\\texttt{TruncatedSVD}$."
   ]
  },
  {
   "cell_type": "code",
   "execution_count": null,
   "metadata": {
    "id": "jN0QoqRIqO8_"
   },
   "outputs": [],
   "source": [
    "# Proyección de gato en el espacio de perros\n"
   ]
  },
  {
   "cell_type": "code",
   "execution_count": null,
   "metadata": {
    "id": "kav1kcVmqPAU"
   },
   "outputs": [],
   "source": [
    "# Proyección de perro en el espacio de gatos\n"
   ]
  },
  {
   "cell_type": "markdown",
   "metadata": {},
   "source": [
    "**Respuesta:**"
   ]
  }
 ],
 "metadata": {
  "celltoolbar": "Create Assignment",
  "colab": {
   "collapsed_sections": [
    "nBCu1Elt7Y84",
    "Fqp3qdt1zir3"
   ],
   "name": "S2TCP1_SVD.ipynb",
   "provenance": [],
   "toc_visible": true
  },
  "kernelspec": {
   "display_name": "Python 3",
   "language": "python",
   "name": "python3"
  },
  "language_info": {
   "codemirror_mode": {
    "name": "ipython",
    "version": 3
   },
   "file_extension": ".py",
   "mimetype": "text/x-python",
   "name": "python",
   "nbconvert_exporter": "python",
   "pygments_lexer": "ipython3",
   "version": "3.7.12"
  },
  "toc": {
   "base_numbering": 1,
   "nav_menu": {},
   "number_sections": true,
   "sideBar": true,
   "skip_h1_title": false,
   "title_cell": "Table of Contents",
   "title_sidebar": "Contents",
   "toc_cell": false,
   "toc_position": {},
   "toc_section_display": true,
   "toc_window_display": true
  }
 },
 "nbformat": 4,
 "nbformat_minor": 1
}
