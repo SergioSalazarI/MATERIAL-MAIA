{
 "cells": [
  {
   "cell_type": "markdown",
   "metadata": {
    "nbgrader": {
     "grade": false,
     "grade_id": "cell-056c15f5e36fc06e",
     "locked": true,
     "schema_version": 3,
     "solution": false,
     "task": false
    }
   },
   "source": [
    "![Banner](img/banner.png)"
   ]
  },
  {
   "cell_type": "markdown",
   "metadata": {
    "nbgrader": {
     "grade": false,
     "grade_id": "cell-da5f26c81edd1316",
     "locked": true,
     "schema_version": 3,
     "solution": false,
     "task": false
    }
   },
   "source": [
    "# **Actividad N°1:** Vectores y valores propios\n",
    "\n",
    "***Matemáticas para Machine Learning***.\n",
    "\n",
    "**Semana 2 - Lección 1:** Vectores y valores propios.\n",
    "\n",
    "Fernando Enrique Lozano Martínez - Sergio David Salazar Isairias"
   ]
  },
  {
   "cell_type": "markdown",
   "metadata": {
    "nbgrader": {
     "grade": false,
     "grade_id": "cell-f517bacb9619e215",
     "locked": true,
     "schema_version": 3,
     "solution": false,
     "task": false
    }
   },
   "source": [
    "# Introducción"
   ]
  },
  {
   "cell_type": "markdown",
   "metadata": {
    "nbgrader": {
     "grade": false,
     "grade_id": "cell-445ad5a0eec3b902",
     "locked": true,
     "schema_version": 3,
     "solution": false,
     "task": false
    }
   },
   "source": [
    "## Descripción\n",
    "\n"
   ]
  },
  {
   "cell_type": "markdown",
   "metadata": {
    "nbgrader": {
     "grade": false,
     "grade_id": "cell-c9667d9a34882766",
     "locked": true,
     "schema_version": 3,
     "solution": false,
     "task": false
    }
   },
   "source": [
    "El presente *jupyter notebook* contine todo el material para el desarrollo del taller 1 de la semana 2 del curso ***Matemáticas para Machine Learning***, correspondiente a la lección 1: Vectores y valores propios. En este se utilizará el conocimiento adquirido sobre valores y vectores propios para analizar la evolución de un sistema dinámico en el tiempo.\n",
    "\n",
    "**Objetivos de Aprendizaje:**\n",
    "\n",
    "*   Definir la operación *potencia de una matriz* a partir de sus valores y vectores propios.\n",
    "*   Calcular la función *exponencial de una matriz* por medio de valores y vectores propios.\n",
    "*   Implementar un algoritmo que permita entender la evolución de un sistema dinámico."
   ]
  },
  {
   "cell_type": "markdown",
   "metadata": {
    "nbgrader": {
     "grade": false,
     "grade_id": "cell-42ada5cab4cd7b26",
     "locked": true,
     "schema_version": 3,
     "solution": false,
     "task": false
    }
   },
   "source": [
    "## Metodología"
   ]
  },
  {
   "cell_type": "markdown",
   "metadata": {
    "nbgrader": {
     "grade": false,
     "grade_id": "cell-544b0cdb2e3b111c",
     "locked": true,
     "schema_version": 3,
     "solution": false,
     "task": false
    }
   },
   "source": [
    "Para desarrollar el taller usted deberá editar las celdas de código dispuestas para esto. Estas estarán marcadas con el siguiente comentario:\n",
    "\n",
    "```python\n",
    "# =====================================================\n",
    "# COMPLETAR ===========================================\n",
    "# \n",
    "\n",
    "# =====================================================\n",
    "```\n",
    "\n",
    "Edite o complete el códgio dentro de estas lineas de comentarios. Dentro de estos comentarios encontrará indicaciónes de lo que debe hacer, así como algunas de las variables que debe utilizar o calcular (puede que estas tengan ya una estructura para llenar o esten solo igualadas a None, complete la asignación)."
   ]
  },
  {
   "cell_type": "markdown",
   "metadata": {
    "nbgrader": {
     "grade": false,
     "grade_id": "cell-28296abc04136c4a",
     "locked": true,
     "schema_version": 3,
     "solution": false,
     "task": false
    }
   },
   "source": [
    "# Teoría"
   ]
  },
  {
   "cell_type": "markdown",
   "metadata": {
    "nbgrader": {
     "grade": false,
     "grade_id": "cell-fdcbcdb7c8fcf849",
     "locked": true,
     "schema_version": 3,
     "solution": false,
     "task": false
    }
   },
   "source": [
    "## Diagonalización"
   ]
  },
  {
   "cell_type": "markdown",
   "metadata": {
    "nbgrader": {
     "grade": false,
     "grade_id": "cell-cbbfc8dc127b8605",
     "locked": true,
     "schema_version": 3,
     "solution": false,
     "task": false
    }
   },
   "source": [
    "El proceso de diagonalización de una matriz es una herramienta algebraica de gran utilidad, solución de sistemas de ecuaciones diferenciales, estudios de dinámicas poblacionales y análisis de estado estable de sistemas dinámicos, son algunas de las aplicaciones de dicha herramienta.\n",
    "\n",
    "¿Qué es diagonalizar una matriz? Se dice que una matriz cuadrada $A$ es diagonalizable si y solo si existe una matriz no singular $P$ (cuadrada y con determinante diferente de cero) y una matriz diagonal $D$ tal que $A=PDP^{-1}$. Por lo que diagonalizar una matriz $A$ es el procedimiento que permite hallar $P$ y $D$. \n",
    "\n",
    "Ahora bien, el proceso de diagonalización esta estrictamente ligado con los conceptos de valor y vector propio. Lo anterior se debe a que la matriz diagonal $D$ contiene ceros en las entradas diferentes de la diagonal principal y en la diagonal principal contiene los valores propios de $A$. Por su parte, la matriz $P$ tiene como vectores columna a los vectores de la base del espacio propio de cada valor propio. Cabe mencionar que no todas las matrices son diagonalizables, la clasificación *diagonalizable* se determina por medio de una serie de condiciones sobre las multiplicidades de los valores y vectores propios, en lo cual no se profundizara.\n",
    "\n",
    "Si esta interesado revise el siguiente enlace:https://yutsumura.com/how-to-diagonalize-a-matrix-step-by-step-explanation/"
   ]
  },
  {
   "cell_type": "markdown",
   "metadata": {
    "nbgrader": {
     "grade": false,
     "grade_id": "cell-4b6336d30edac646",
     "locked": true,
     "schema_version": 3,
     "solution": false,
     "task": false
    }
   },
   "source": [
    "## Potencia de una matriz"
   ]
  },
  {
   "cell_type": "markdown",
   "metadata": {
    "nbgrader": {
     "grade": false,
     "grade_id": "cell-acf0e657c1a08923",
     "locked": true,
     "schema_version": 3,
     "solution": false,
     "task": false
    }
   },
   "source": [
    "La función potencia es una función que puede representarse de la siguiente forma.\n",
    "\\begin{equation*}\n",
    "    f(x) = kx^{p}\n",
    "\\end{equation*}\n",
    "\n",
    "Donde $k$ se conoce como coeficiente, $x$ como la base y $p$ como el exponente. Note que la definición es independiente de la naturaleza de $x$. Dada una función *y(t)*, ya sea polinomica, trigonometrica, exponencial, etc, es posible definir una función potencia a partir de esta, de la forma $f(x) = ky(t)^{p}$. De igual forma, la función potencia puede tener como dominio el espacio vectorial de matrices cuadradas $\\mathbf{M}_{n\\times n}$. De modo que se define la función *potencia* de una matriz.\n",
    "\n",
    "**Ejemplo**\\\n",
    "Sea $A$ una matriz cuadrada de  $\\mathbf{M}_{3\\times 3}$\n",
    "\\begin{equation*}\n",
    "    A = \n",
    "    \\begin{bmatrix}2&2&0\\\\0&2&3\\\\0&0&1\\\\\\end{bmatrix}\n",
    "\\end{equation*}\n",
    "\n",
    "La función cuadrado o segunda potencia ($k=1$,$p=2$) se calcula de la siguiente forma.\n",
    "\\begin{equation*}\n",
    "    A^{2} =\\begin{bmatrix}2&2&0\\\\0&2&3\\\\0&0&1\\\\\\end{bmatrix}\\begin{bmatrix}2&2&0\\\\0&2&3\\\\0&0&1\\\\\\end{bmatrix}\n",
    "    = \\begin{bmatrix}4&8&6\\\\ 0&4&9\\\\ 0&0&1\\end{bmatrix}\n",
    "\\end{equation*}\n",
    "\n",
    "\n",
    "Es decir, sea $A \\in \\mathbf{M}_{n\\times n}$ la potencia n-ésima se calcula como $\\underbrace{A \\times A \\times \\dots A \\times A}_\\text{n productos}$.\n",
    "\n",
    "\n",
    "Ahora bien, la potencia de matrices es una operación que tiene un alto consumo de recursos informaticos. Por ejemplo, para calcular la segunda potencia de una matriz de $\\mathbf{M}_{n\\times n}$ se realizan $n^2$ productos internos. De modo que para dimensiones altas ($n$'s grandes) el consumo de recursos es alto, a lo cual se le puede agregar una disminución en la precisión de las operaciones. Es decir, calcular la potencia de una matriz a partir de su definición no es óptimo.\n",
    "\n",
    "Es en dicho escenario en que la clasificación *ser diagonalizable* es de gran utilidad. Sea $A$ una matriz diagonalizable, existe una matriz $P$ y una matriz diagonal $\\mathbf{D}$ tal que: $A = PDP^{-1}$. Ahora, calculese la n-ésima potencia de $A$.\n",
    "\n",
    "\\begin{align*}\n",
    "    A^n &= (PDP^{-1})^{n}\\\\\n",
    "    A^n &= \\underbrace{(PDP^{-1})(PDP^{-1}) \\dots (PDP^{-1})}_\\text{n veces}\\\\\n",
    "    A^n &= PD(P^{-1}P)\\dots (P^{-1} P)DP^{-1}\\\\\n",
    "    A^n &= P\\underbrace{D\\times D \\dots \\times D}_{n  veces}P^{-1}\\\\\n",
    "    A^n &= PD^{n}P^{-1}\n",
    "\\end{align*}\n",
    "\n",
    "donde $D^{n}$ es igual a calcular la n-ésima potencia de cada elemento de $D$. Es decir, para calcular la potencia n-ésima de $A$ solo es necesario conocer $P$ y $D$."
   ]
  },
  {
   "cell_type": "markdown",
   "metadata": {},
   "source": [
    "## Exponencial de una matriz"
   ]
  },
  {
   "cell_type": "markdown",
   "metadata": {
    "nbgrader": {
     "grade": false,
     "grade_id": "cell-f1233ebeea072a65",
     "locked": true,
     "schema_version": 3,
     "solution": false,
     "task": false
    }
   },
   "source": [
    "La exponencial de una matriz calcula de la siguiente forma.\n",
    "\n",
    "\\begin{equation*}\n",
    "    e^{At} = \\sum_{k=0}^{\\infty} \\frac{t^{k}}{k!}A^{k}\n",
    "\\end{equation*}\n",
    "\n",
    "Ahora bien, si $A$ es diagonalizable la exponencial de A se calcula de la siguiente forma.\n",
    "\n",
    "\\begin{align*}\n",
    "     e^{At} &= \\sum_{k=0}^{\\infty} \\frac{t^{k}}{k!}(PDP^{-1})^{k}\\\\\n",
    "     e^{At} &= \\sum_{k=0}^{\\infty} \\frac{t^{k}}{k!}PD^{k}P^{-1}\\\\\n",
    "     e^{At} &= P\\left(\\sum_{k=0}^{\\infty} \\frac{t^{k}}{k!}D^{k}\\right)P^{-1}\\\\\n",
    "     e^{At} &= Pe^{Dt}P^{-1}\\\\\n",
    "\\end{align*}\n",
    "\n",
    "donde $e^{Dt}$ es la matriz resultante de calcular la exponencial de los elementos de su diagonal.\n"
   ]
  },
  {
   "cell_type": "markdown",
   "metadata": {
    "nbgrader": {
     "grade": false,
     "grade_id": "cell-b9ca3b93efe393e4",
     "locked": true,
     "schema_version": 3,
     "solution": false,
     "task": false
    }
   },
   "source": [
    "### Aplicación de la operación exponencial"
   ]
  },
  {
   "cell_type": "markdown",
   "metadata": {
    "nbgrader": {
     "grade": false,
     "grade_id": "cell-0702ff76080a98f0",
     "locked": true,
     "schema_version": 3,
     "solution": false,
     "task": false
    }
   },
   "source": [
    "En ingeniería un sistema dinámico es una colección de variables que evoluciona respecto a una variable independiente, por lo general respecto al tiempo. Dada su importancia en diversos contextos se desarrollaron conceptos entorno a la noción de sistema dinámico. La idea más relevante es la noción de **variable de estado**, la cual es una variable que permite describir una condición o característica del sistema. Ahora bien, dadas las dinámicas de un sistema es posible realizar una formulación matemática de este, por lo general por medio de sistemas de ecuaciones diferenciales, cuya solución tiene la siguiente forma.\n",
    "\n",
    "\\begin{equation*}\n",
    "    \\pi_{t} = \\pi_{0}e^{Qt}\n",
    "\\end{equation*}\n",
    "\n",
    "donde $\\pi_{0}$ es el vector de condiciones iniciales del sistema, $\\pi_{t}$ es el vector de estados en el tiempo $t$ y $Q$ la matriz de transición (captura las dinámicas del sistema). *Nota: La solución presentada solo es válida para sistemas con determinadas características, en lo cual no se profundizara.*\n",
    "\n",
    "Entonces, para analizar un sistema dinámico se debe conocer:\n",
    "*   La dinámica del sistema\n",
    "*   Estado inicial\n",
    "*   Intervalo de tiempo de interés"
   ]
  },
  {
   "cell_type": "markdown",
   "metadata": {
    "nbgrader": {
     "grade": false,
     "grade_id": "cell-bd5631652721a6e6",
     "locked": true,
     "schema_version": 3,
     "solution": false,
     "task": false
    }
   },
   "source": [
    "#### Ejemplo"
   ]
  },
  {
   "cell_type": "markdown",
   "metadata": {
    "nbgrader": {
     "grade": false,
     "grade_id": "cell-151f990da1cb9ce0",
     "locked": true,
     "schema_version": 3,
     "solution": false,
     "task": false
    }
   },
   "source": [
    "Una empresa de patinetas esta interesada en conocer la probabilidad de que una patineta pueda ser alquilada dada una carga inicial. Para que esta pueda ser alquilada su carga debe ser de mínimo $70\\%$. Ahora bien, un grupo consultor identifico la dinámica de carga y descarga de una patineta, además, que la probabilidad de poder ser alquilada se puede calcular por medio de la ecuación $\\pi_{t} = \\pi_{0}e^{Qt}$. Por lo que utilizando la operación **Exponencial de una matriz** realizó el siguiente grafico."
   ]
  },
  {
   "cell_type": "markdown",
   "metadata": {},
   "source": [
    "![dot-product-example.png](img/example_steady_probs.png)"
   ]
  },
  {
   "cell_type": "markdown",
   "metadata": {
    "nbgrader": {
     "grade": false,
     "grade_id": "cell-c1598899872ac601",
     "locked": true,
     "schema_version": 3,
     "solution": false,
     "task": false
    }
   },
   "source": [
    "En el gráfico anterior se observa que en $25$ horas ($1500$ minutos) la patineta tiene aproximadamente $12\\%$ de probabilidad de poder ser alquilada dado que su carga inicial fue de $0\\%$.\n",
    "\n",
    "En partes posteriores del presente taller se utilizara la operación **Exponencial de una matriz** para analizar sistemas como aquel del ejemplo anterior."
   ]
  },
  {
   "cell_type": "markdown",
   "metadata": {
    "nbgrader": {
     "grade": false,
     "grade_id": "cell-bcb2cb3231b22c95",
     "locked": true,
     "schema_version": 3,
     "solution": false,
     "task": false
    }
   },
   "source": [
    "## Inicialización"
   ]
  },
  {
   "cell_type": "markdown",
   "metadata": {
    "nbgrader": {
     "grade": false,
     "grade_id": "cell-93b53217ff4e5d56",
     "locked": true,
     "schema_version": 3,
     "solution": false,
     "task": false
    }
   },
   "source": [
    "Se importan librerías básicas para el desarrollo del taller"
   ]
  },
  {
   "cell_type": "code",
   "execution_count": 2,
   "metadata": {},
   "outputs": [],
   "source": [
    "# Librerias Básicas\n",
    "from sympy import *\n",
    "\n",
    "import numpy as np\n",
    "import scipy\n",
    "import math\n",
    "import pandas as pd\n",
    "import matplotlib.pyplot as plt\n",
    "import sys\n",
    "sys.path.append('../')\n",
    "\n",
    "from maiaUtils import *\n",
    "from mtr import manipulate_ipython"
   ]
  },
  {
   "cell_type": "code",
   "execution_count": 3,
   "metadata": {},
   "outputs": [],
   "source": [
    "# Ocultar seguimiento de debugging\n",
    "if \"toggle_traceback\" not in globals():\n",
    "    ipython = get_ipython()\n",
    "    toggle_traceback = manipulate_ipython(ipython)"
   ]
  },
  {
   "cell_type": "code",
   "execution_count": 4,
   "metadata": {},
   "outputs": [],
   "source": [
    "toggle_traceback()"
   ]
  },
  {
   "cell_type": "markdown",
   "metadata": {
    "nbgrader": {
     "grade": false,
     "grade_id": "cell-140fa88756a4b93b",
     "locked": true,
     "schema_version": 3,
     "solution": false,
     "task": false
    }
   },
   "source": [
    "En Python se pueden realizar operaciones matriciales por medio de la clase de dato *array*. No obstante, la libreria *sympy* provee la clase *Matrix* la cual provee un objeto con las operaciones definidas para matrices, entre estas **diagonalizar.**"
   ]
  },
  {
   "cell_type": "markdown",
   "metadata": {
    "nbgrader": {
     "grade": false,
     "grade_id": "cell-7ebafd93a8b2ff75",
     "locked": true,
     "schema_version": 3,
     "solution": false,
     "task": false
    }
   },
   "source": [
    "Declarar una matriz por medio de la clase *Matrix* de *sympy*."
   ]
  },
  {
   "cell_type": "code",
   "execution_count": null,
   "metadata": {},
   "outputs": [],
   "source": [
    "# crear el objeto de clase Matrix\n",
    "M = Matrix([[1,-3,3],[3,-5,3],[6,-6,4]])\n",
    "\n",
    "#display del objeto\n",
    "display(M) "
   ]
  },
  {
   "cell_type": "markdown",
   "metadata": {
    "nbgrader": {
     "grade": false,
     "grade_id": "cell-fe3fc82865457ae1",
     "locked": true,
     "schema_version": 3,
     "solution": false,
     "task": false
    }
   },
   "source": [
    "*Sympy* tiene las funciones *eigenvals()* y *eigenvects()* que calculan los valores y vectores propios de una matriz cuadrada, respectivamente."
   ]
  },
  {
   "cell_type": "code",
   "execution_count": null,
   "metadata": {},
   "outputs": [],
   "source": [
    "# retorna un diccionario cuyas llaves son los valores propios, el elemento de cada llave es la multiplicidad algebraica\n",
    "M.eigenvals() "
   ]
  },
  {
   "cell_type": "code",
   "execution_count": null,
   "metadata": {},
   "outputs": [],
   "source": [
    "# retorna tuplas con los vectores propios asociados a cada valor propio\n",
    "A,B=M.eigenvects()"
   ]
  },
  {
   "cell_type": "markdown",
   "metadata": {
    "nbgrader": {
     "grade": false,
     "grade_id": "cell-29cce9f6d0dc8815",
     "locked": true,
     "schema_version": 3,
     "solution": false,
     "task": false
    }
   },
   "source": [
    "Utilizar la función diagonalize() para halla la matriz diagonal D y la matriz no singular P."
   ]
  },
  {
   "cell_type": "code",
   "execution_count": null,
   "metadata": {},
   "outputs": [],
   "source": [
    "P, D = M.diagonalize()  \n",
    "print(f'La matriz de cambio de base P es: {P}')\n",
    "print(f'La matriz diagonal D es: {D}')"
   ]
  },
  {
   "cell_type": "markdown",
   "metadata": {
    "nbgrader": {
     "grade": false,
     "grade_id": "cell-6416bf6a491c0955",
     "locked": true,
     "schema_version": 3,
     "solution": false,
     "task": false
    }
   },
   "source": [
    "¿Qué sucede si M no es diagonalizable?"
   ]
  },
  {
   "cell_type": "code",
   "execution_count": null,
   "metadata": {},
   "outputs": [],
   "source": [
    "M = Matrix([[-3,2],[-2,1]]) # no es diagonalizable\n",
    "try:\n",
    "    P, D = M.diagonalize() \n",
    "except Exception as e:\n",
    "    print(str(e))"
   ]
  },
  {
   "cell_type": "markdown",
   "metadata": {
    "nbgrader": {
     "grade": false,
     "grade_id": "cell-7aa6efc6bbb7ffb9",
     "locked": true,
     "schema_version": 3,
     "solution": false,
     "task": false
    }
   },
   "source": [
    "# Problemas"
   ]
  },
  {
   "cell_type": "markdown",
   "metadata": {
    "nbgrader": {
     "grade": false,
     "grade_id": "cell-101c7e8a69d1f927",
     "locked": true,
     "schema_version": 3,
     "solution": false,
     "task": false
    }
   },
   "source": [
    "Para los problemas puede utilizar las funciones previamente mostradas. Si tiene dudas sobre su implementación revise la documentación de *Sympy* en: https://docs.sympy.org/latest/modules/matrices/matrices.html\n",
    "    "
   ]
  },
  {
   "cell_type": "markdown",
   "metadata": {
    "nbgrader": {
     "grade": false,
     "grade_id": "cell-f892e1075512120d",
     "locked": true,
     "schema_version": 3,
     "solution": false,
     "task": false
    }
   },
   "source": [
    "## a) Potencia de una matriz"
   ]
  },
  {
   "cell_type": "markdown",
   "metadata": {
    "nbgrader": {
     "grade": false,
     "grade_id": "cell-d95e184917780911",
     "locked": true,
     "schema_version": 3,
     "solution": false,
     "task": false
    }
   },
   "source": [
    "Implemente una función en Python que reciba como parámetros una matriz $\\mathbf{A}$ y un entero $n$, de tal manera que retorne la potencia n-ésima de la matriz $A$."
   ]
  },
  {
   "cell_type": "code",
   "execution_count": null,
   "metadata": {
    "raw_mimetype": "text/x-python"
   },
   "outputs": [],
   "source": [
    "def potencia_matriz(A:list,n:int):\n",
    "    \"\"\"\n",
    "    Calcula la potencia n-esima de la matriz A\n",
    "    ___________________________________\n",
    "    Entrada:\n",
    "    A: [list] Lista que contiene las filas de A. A es diagonalizable.\n",
    "    n: [int] Potencia a calcular.\n",
    "    ___________________________________\n",
    "    Salida:\n",
    "    An: [list] Lista con las filas resultantes de calcular la potencia n-esima de la matriz A.\n",
    "    \"\"\"\n",
    "    A_n = Matrix(A)\n",
    "    # =====================================================\n",
    "    # COMPLETAR ===========================================\n",
    "    # =====================================================\n",
    "    \n",
    "    # HINT: piense en la descomposición de A por medio de \n",
    "    # - 2 matrices de cambio de base y una matriz diagonal.\n",
    "    \n",
    "    # =====================================================\n",
    "    \n",
    "    # Convierte A_n en estructura de lista\n",
    "    A_n = A_n.tolist()\n",
    "    return A_n"
   ]
  },
  {
   "cell_type": "code",
   "execution_count": null,
   "metadata": {},
   "outputs": [],
   "source": [
    "l = [[1,2],[1,0]]\n",
    "potencia_matriz(A=l,n=2)"
   ]
  },
  {
   "cell_type": "markdown",
   "metadata": {
    "nbgrader": {
     "grade": false,
     "grade_id": "cell-728071526d8433c9",
     "locked": true,
     "schema_version": 3,
     "solution": false,
     "task": false
    }
   },
   "source": [
    "## b) Exponencial de una matriz"
   ]
  },
  {
   "cell_type": "markdown",
   "metadata": {
    "nbgrader": {
     "grade": false,
     "grade_id": "cell-08a53c2d941b7bd2",
     "locked": true,
     "schema_version": 3,
     "solution": false,
     "task": false
    }
   },
   "source": [
    "Implemente una función en Python que reciba como parámetros una matriz $\\mathbf{A}$ y un tiempo $\\mathbf{t}$, de tal manera que retorne la exponencial de la matriz evaluada en el tiempo $\\mathbf{t}$. Además, considere un parámetro *d_int* el cual índica la precisión decimal que tenga la salida de la función, por defecto la salida debe tener precisión de 3 decimales. Para calcular la exponcial de una constante puede apoyarse en la función *exp()* de la libreria *math*. "
   ]
  },
  {
   "cell_type": "code",
   "execution_count": null,
   "metadata": {},
   "outputs": [],
   "source": [
    "def exponencial_matriz(A:list,t:float,d_int=3):\n",
    "    \"\"\"\n",
    "    Calcula la exponencial de la matriz A\n",
    "    ___________________________________\n",
    "    Entrada:    Entrada:\n",
    "    A: [list] Lista que contiene las filas de A. A es diagonalizable.\n",
    "    t: [int] Tiempo en el cual se calcula la función exponencial.\n",
    "    ___________________________________\n",
    "    Salida:\n",
    "    expA: [list] Lista con las filas resultantes de calcular la exponcial de la matriz A.\n",
    "    \"\"\"\n",
    "    expA = Matrix(A)\n",
    "    \n",
    "    # DESCOMPONER A POR MEDIO DE DIAGONALIZACIÓN.\n",
    "    # COMPLETAR ===========================================\n",
    "    P,D = [],[]\n",
    "    # =====================================================\n",
    "    \n",
    "    # Declarar la variable que almacena la exponencial de la matriz D\n",
    "    exp_D = D\n",
    "    \n",
    "    # CALCULAR LA EXPONENCIAL DE LA MATRIZ DIAGONAL.\n",
    "    # COMPLETAR ===========================================\n",
    "    d_int=3\n",
    "\n",
    "    for i in range(sqrt(len(D))):\n",
    "        # La función exponencial puede generar problemas númericos. Para evitar inconvenientes se utiliza try-except\n",
    "        try:\n",
    "        # Calcular la exponencial por medio de la función math.exp()\n",
    "        # Redondear con precisión de 3 decimales\n",
    "            exp_D[i,i] = [round([],d_int)]\n",
    "        # =====================================================\n",
    "        except OverflowError:\n",
    "            exp_D[i,i] = 100000\n",
    "    \n",
    "    \n",
    "    # CALCULAR LA EXPONENCIAL DE LA MATRIZ A.\n",
    "    # COMPLETAR ===========================================\n",
    "    expA = expA\n",
    "    # =====================================================\n",
    "        \n",
    "    # Transforma el dato de la clase Matrix a la estructura list\n",
    "    expA = expA.tolist()\n",
    "    \n",
    "    # Retorna la matriz resultante de la operación exponencial\n",
    "    return expA"
   ]
  },
  {
   "cell_type": "code",
   "execution_count": null,
   "metadata": {},
   "outputs": [],
   "source": [
    "A = [[1,-3,3],[3,-5,3],[6,-6,4]]\n",
    "t=1\n",
    "exponencial_matriz(A,t)"
   ]
  },
  {
   "cell_type": "markdown",
   "metadata": {
    "nbgrader": {
     "grade": false,
     "grade_id": "cell-a5a23762895ccd61",
     "locked": true,
     "schema_version": 3,
     "solution": false,
     "task": false
    }
   },
   "source": [
    "## c) Evolución de un sistema dinámico"
   ]
  },
  {
   "cell_type": "code",
   "execution_count": null,
   "metadata": {},
   "outputs": [],
   "source": [
    "def evolucion_sistema(A:list,tlim:int,x0:list):\n",
    "    \"\"\"\n",
    "    Calcula la evolución del sistema con matriz de estados A y condición inicial x0 desde t=0 hasta tlim.\n",
    "    ___________________________________\n",
    "    Entrada:\n",
    "    A: [list] Lista que contiene las filas de A. A es diagonalizable.\n",
    "    t: [int] Tiempo en el cual se calcula la función exponencial.\n",
    "    ___________________________________\n",
    "    Salida:\n",
    "    expA:\n",
    "    \"\"\"\n",
    "    dict_evolucion = {}\n",
    "    for i in range(len(x0)):\n",
    "        dict_evolucion[i] = [x0[i]]\n",
    "        \n",
    "    x0 = Matrix(x0).T\n",
    "    for i in range(tlim):\n",
    "        expm = Matrix(exponencial_matriz(A,i))\n",
    "        x_nuevo = x0*expm\n",
    "            \n",
    "        for j in range(len(x0)):\n",
    "            dict_evolucion[j].append(float(x_nuevo[j]))\n",
    "    return dict_evolucion"
   ]
  },
  {
   "cell_type": "code",
   "execution_count": null,
   "metadata": {},
   "outputs": [],
   "source": [
    "A = [[-1,1,0],[2,-5,3],[1,2,-3]]\n",
    "tlim = 10\n",
    "x0 = [1/2,1/2,1/3]\n",
    "dict_evolucion = evolucion_sistema(A,tlim,x0)"
   ]
  },
  {
   "cell_type": "code",
   "execution_count": null,
   "metadata": {},
   "outputs": [],
   "source": [
    "df_evolucion = pd.DataFrame(dict_evolucion)\n",
    "display(df_evolucion)"
   ]
  },
  {
   "cell_type": "code",
   "execution_count": null,
   "metadata": {},
   "outputs": [],
   "source": [
    "plt.plot(df_evolucion[0])\n",
    "plt.plot(df_evolucion[1])\n",
    "plt.plot(df_evolucion[2])\n",
    "plt.show()"
   ]
  },
  {
   "cell_type": "markdown",
   "metadata": {
    "nbgrader": {
     "grade": false,
     "grade_id": "cell-326cff8ad738991d",
     "locked": true,
     "schema_version": 3,
     "solution": false,
     "task": false
    }
   },
   "source": [
    "Definir la matriz que contiene las dinámicas del sistema"
   ]
  },
  {
   "cell_type": "code",
   "execution_count": null,
   "metadata": {},
   "outputs": [],
   "source": [
    "df = pd.read_csv(\"dataset/matriz_exponencial.csv\")\n",
    "del(df[\"Unnamed: 0\"])\n",
    "df.head()"
   ]
  },
  {
   "cell_type": "markdown",
   "metadata": {
    "nbgrader": {
     "grade": false,
     "grade_id": "cell-cf7e805a67895fd5",
     "locked": true,
     "schema_version": 3,
     "solution": false,
     "task": false
    }
   },
   "source": [
    "Definir el vector de condiciones iniciales del sistema."
   ]
  },
  {
   "cell_type": "code",
   "execution_count": null,
   "metadata": {},
   "outputs": [],
   "source": [
    "pi_zero = [0]*df.shape[1]\n",
    "pi_zero[0] = 1\n",
    "pi_zero"
   ]
  },
  {
   "cell_type": "markdown",
   "metadata": {
    "nbgrader": {
     "grade": false,
     "grade_id": "cell-7063a21f2f7ab14f",
     "locked": true,
     "schema_version": 3,
     "solution": false,
     "task": false
    }
   },
   "source": [
    "Calcular vector de estados en $t=1500$."
   ]
  },
  {
   "cell_type": "code",
   "execution_count": null,
   "metadata": {},
   "outputs": [],
   "source": [
    "matriz_exponencial = df.to_numpy()\n",
    "pi_t = matriz_exponencial@np.array(pi_zero)\n",
    "pi_t"
   ]
  },
  {
   "cell_type": "code",
   "execution_count": null,
   "metadata": {
    "nbgrader": {
     "grade": true,
     "grade_id": "cell-1d5f0293665c8a6c",
     "locked": true,
     "points": 0,
     "schema_version": 3,
     "solution": false,
     "task": false
    }
   },
   "outputs": [],
   "source": [
    "list_probs =[]\n",
    "for i in range(7):\n",
    "    pi_zero = [0]*matriz_exponencial.shape[1]\n",
    "    pi_zero[i] = 1\n",
    "    \n",
    "    # =====================================================\n",
    "    # COMPLETAR ===========================================\n",
    "    # cambie [] por la expresión correcta para hallar pi_t\n",
    "    # note que pi_t depende de pi_zero\n",
    "    pi_t = []\n",
    "    # =====================================================\n",
    "    \n",
    "    sp = np.round(sum(pi_t[8:11]),4)\n",
    "    \n",
    "    list_probs.append(sp)\n",
    "### BEGIN HIDDEN TESTS\n",
    "# Solución ================================================\n",
    "\n",
    "#list_probs =[]\n",
    "\n",
    "#for i in range(7):\n",
    "\n",
    "#    pi_zero = [0]*matriz_exponencial.shape[1]\n",
    "#    pi_zero[i] = 1\n",
    "#    \n",
    "#    pi_t = matriz_exponencial@np.array(pi_zero)\n",
    "\n",
    "#    sp = np.round(sum(pi_t[8:11]),4)\n",
    "#    list_probs.append(sp)\n",
    "\n",
    "### END HIDDEN TESTS"
   ]
  },
  {
   "cell_type": "code",
   "execution_count": null,
   "metadata": {
    "nbgrader": {
     "grade": true,
     "grade_id": "cell-ff9ffed1771ab030",
     "locked": true,
     "points": 20,
     "schema_version": 3,
     "solution": false,
     "task": false
    }
   },
   "outputs": [],
   "source": [
    "list_probs\n",
    "### BEGIN HIDDEN TESTS\n",
    "assert list_probs == [0.6122, 0.1492, 0.1877, 0.2326, 0.2843, 0.3569, 0.481], f\"\\nRESPUESTA INCORRECTA EN LA PRUEBA \\nRESUMEN: \\nUno de los elementos de list_probs es incorrecto.\"\n",
    "### END HIDDEN TESTS"
   ]
  },
  {
   "cell_type": "code",
   "execution_count": null,
   "metadata": {
    "scrolled": true
   },
   "outputs": [],
   "source": [
    "plt.bar([\"0%\",\"10%\",\"20%\",\"30%\",\"40%\",\"50%\",\"60%\"],list_probs)\n",
    "plt.title(\"Probabilidad de poder ser alquilado\")\n",
    "plt.show()"
   ]
  },
  {
   "cell_type": "markdown",
   "metadata": {},
   "source": [
    "# Calificación"
   ]
  },
  {
   "cell_type": "code",
   "execution_count": null,
   "metadata": {},
   "outputs": [],
   "source": [
    "df = generador_matrices(dim=[3,3],n=10)\n",
    "df = pd.DataFrame(df)"
   ]
  },
  {
   "cell_type": "code",
   "execution_count": null,
   "metadata": {},
   "outputs": [],
   "source": [
    "sol_tentativa_power = [[potencia_matriz(df[\"test\"][i],df[\"power\"][i])] for i in range(len(df))]\n",
    "sol_tentativa_exp = [[exponencial_matriz(df[\"test\"][i],df[\"time\"][i])] for i in range(len(df))]"
   ]
  },
  {
   "cell_type": "code",
   "execution_count": null,
   "metadata": {
    "nbgrader": {
     "grade": true,
     "grade_id": "cell-2390a7585566438b",
     "locked": true,
     "points": 40,
     "schema_version": 3,
     "solution": false,
     "task": false
    }
   },
   "outputs": [],
   "source": [
    "calificar_potencia_matriz(sol_tentativa_power,df)"
   ]
  },
  {
   "cell_type": "code",
   "execution_count": null,
   "metadata": {
    "nbgrader": {
     "grade": true,
     "grade_id": "cell-8f57d2a1abda0ab5",
     "locked": true,
     "points": 40,
     "schema_version": 3,
     "solution": false,
     "task": false
    }
   },
   "outputs": [],
   "source": [
    "calificar_exponencial_matriz(sol_tentativa_exp,df)"
   ]
  }
 ],
 "metadata": {
  "celltoolbar": "Create Assignment",
  "kernelspec": {
   "display_name": "Python 3",
   "language": "python",
   "name": "python3"
  },
  "language_info": {
   "codemirror_mode": {
    "name": "ipython",
    "version": 3
   },
   "file_extension": ".py",
   "mimetype": "text/x-python",
   "name": "python",
   "nbconvert_exporter": "python",
   "pygments_lexer": "ipython3",
   "version": "3.7.6"
  },
  "toc": {
   "base_numbering": 1,
   "nav_menu": {},
   "number_sections": true,
   "sideBar": true,
   "skip_h1_title": false,
   "title_cell": "Table of Contents",
   "title_sidebar": "Contents",
   "toc_cell": false,
   "toc_position": {},
   "toc_section_display": true,
   "toc_window_display": true
  }
 },
 "nbformat": 4,
 "nbformat_minor": 4
}
