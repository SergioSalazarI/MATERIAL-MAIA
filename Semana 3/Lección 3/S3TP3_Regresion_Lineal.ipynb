{
 "cells": [
  {
   "cell_type": "markdown",
   "metadata": {
    "nbgrader": {
     "grade": false,
     "grade_id": "cell-1c1dd0257b061cf8",
     "locked": true,
     "schema_version": 3,
     "solution": false,
     "task": false
    }
   },
   "source": [
    "![Banner](img/banner.png)"
   ]
  },
  {
   "cell_type": "markdown",
   "metadata": {
    "nbgrader": {
     "grade": false,
     "grade_id": "cell-d620a4d5ed05cc64",
     "locked": true,
     "schema_version": 3,
     "solution": false,
     "task": false
    }
   },
   "source": [
    "# **Actividad No.3:** Regresión Lineal\n",
    "\n",
    "***Matemáticas para Machine Learning***.\n",
    "\n",
    "**Semana 3 - Lección 3:** Regresión lineal y distribuciones de probabilidad.\n",
    "\n",
    "Fernando Enrique Lozano Martínez - Sergio David Salazar Isairias"
   ]
  },
  {
   "cell_type": "markdown",
   "metadata": {
    "nbgrader": {
     "grade": false,
     "grade_id": "cell-fac6d55155ff571d",
     "locked": true,
     "schema_version": 3,
     "solution": false,
     "task": false
    }
   },
   "source": [
    "## Introducción"
   ]
  },
  {
   "cell_type": "markdown",
   "metadata": {
    "nbgrader": {
     "grade": false,
     "grade_id": "cell-ce05b46f3997ded9",
     "locked": true,
     "schema_version": 3,
     "solution": false,
     "task": false
    }
   },
   "source": [
    "### Descripción"
   ]
  },
  {
   "cell_type": "markdown",
   "metadata": {
    "nbgrader": {
     "grade": false,
     "grade_id": "cell-8a3eea856570628d",
     "locked": true,
     "schema_version": 3,
     "solution": false,
     "task": false
    }
   },
   "source": [
    "El presente *jupyter notebook* contine todo el material para el desarrollo de la actividad 3 de la semana 3 del curso ***Matemáticas para Machine Learning***, correspondiente a la lección 3: Distribuciones de probabilidad. En esta se utilizará el conocimiento adquirido sobre función de densidad de probabilidad y error aleatorio para analizar un modelo de regresión lineal.\n",
    "\n",
    "**Objetivos de Aprendizaje:**\n",
    "\n",
    "*   Generar un modelo de regresión lineal.\n",
    "*   Identificar las diferencias y semejantas entre la distribución normal y la distribución de Laplace.\n",
    "*   Reconocer las consecuencias del marco probabilistico en el modelo de regresión lineal."
   ]
  },
  {
   "cell_type": "markdown",
   "metadata": {
    "nbgrader": {
     "grade": false,
     "grade_id": "cell-eb5a9ed93ab3b3ad",
     "locked": true,
     "schema_version": 3,
     "solution": false,
     "task": false
    }
   },
   "source": [
    "### Metodología"
   ]
  },
  {
   "cell_type": "markdown",
   "metadata": {
    "nbgrader": {
     "grade": false,
     "grade_id": "cell-50b7b898b8d25b71",
     "locked": true,
     "schema_version": 3,
     "solution": false,
     "task": false
    }
   },
   "source": [
    "Para desarrollar el taller usted deberá editar las celdas de código dispuestas para esto. Estas estarán marcadas con el siguiente comentario:\n",
    "\n",
    "```python\n",
    "# =====================================================\n",
    "# COMPLETAR ===========================================\n",
    "# \n",
    "\n",
    "# =====================================================\n",
    "```\n",
    "\n",
    "Edite o complete el códgio dentro de estas lineas de comentarios. Dentro de estos comentarios encontrará indicaciónes de lo que debe hacer, así como algunas de las variables que debe utilizar o calcular (puede que estas tengan ya una estructura para llenar o esten solo igualadas a None, complete la asignación)."
   ]
  },
  {
   "cell_type": "markdown",
   "metadata": {
    "nbgrader": {
     "grade": false,
     "grade_id": "cell-452dee7dcac75b9b",
     "locked": true,
     "schema_version": 3,
     "solution": false,
     "task": false
    }
   },
   "source": [
    "# Teoría"
   ]
  },
  {
   "cell_type": "markdown",
   "metadata": {
    "nbgrader": {
     "grade": false,
     "grade_id": "cell-05e00c43da7c6b31",
     "locked": true,
     "schema_version": 3,
     "solution": false,
     "task": false
    }
   },
   "source": [
    "La regresión lineal es una técnica de modelado estadístico que se emplea para describir una variable de respuesta continua como una función de una o varias variables predictoras. Puede ayudar a comprender y predecir el comportamiento de sistemas complejos o a analizar datos experimentales, financieros y biológicos.\n",
    "\n",
    "Las técnicas de regresión lineal permiten crear un modelo lineal. Este modelo describe la relación entre una variable dependiente  y  (también conocida como la respuesta) como una función de una o varias variables independientes  Xi  (denominadas predictores). La ecuación general correspondiente a un modelo de regresión lineal es:\n",
    "\n",
    "$$Y=\\beta_{0}+∑ \\beta_{i}X_{i}+\\epsilon_{i}$$\n",
    " \n",
    "donde  $\\beta$  representa las estimaciones de parámetros lineales que se deben calcular y  $\\epsilon$  representa los términos de error. Para más información revise el siguiente enlace: https://la.mathworks.com/discovery/linear-regression.html\n",
    "\n",
    "\n",
    "En la presente tarea de programación se plantean dos regresiones lineales:\n",
    "\n",
    "$$y_1 = \\beta_{0} + \\beta_{1}x + \\epsilon$$\n",
    "$$y_2 = \\beta_{0} + \\beta_{1}x + \\epsilon$$\n",
    "\n",
    "Su tarea será hallar los parámetros de las ecuaciones anteriores."
   ]
  },
  {
   "cell_type": "markdown",
   "metadata": {
    "nbgrader": {
     "grade": false,
     "grade_id": "cell-ca2032854e1895e3",
     "locked": true,
     "schema_version": 3,
     "solution": false,
     "task": false
    }
   },
   "source": [
    "# Inicialización"
   ]
  },
  {
   "cell_type": "code",
   "execution_count": 1,
   "metadata": {},
   "outputs": [],
   "source": [
    "from matplotlib import pyplot as plt\n",
    "\n",
    "from sklearn.model_selection import train_test_split\n",
    "from sklearn.linear_model import LinearRegression\n",
    "from sklearn.metrics import mean_squared_error,mean_absolute_error\n",
    "\n",
    "import numpy as np\n",
    "import pandas as pd\n",
    "import seaborn as sns\n",
    "import statsmodels.formula.api as smf"
   ]
  },
  {
   "cell_type": "markdown",
   "metadata": {
    "nbgrader": {
     "grade": false,
     "grade_id": "cell-3e55fc44cfbd5873",
     "locked": true,
     "schema_version": 3,
     "solution": false,
     "task": false
    }
   },
   "source": [
    "# Exploración de los datos"
   ]
  },
  {
   "cell_type": "markdown",
   "metadata": {
    "nbgrader": {
     "grade": false,
     "grade_id": "cell-c2b9905ac5eae02c",
     "locked": true,
     "schema_version": 3,
     "solution": false,
     "task": false
    }
   },
   "source": [
    "Primero, importar los datos del archivo *datos_regresion.csv*."
   ]
  },
  {
   "cell_type": "code",
   "execution_count": 2,
   "metadata": {},
   "outputs": [
    {
     "data": {
      "text/html": [
       "<div>\n",
       "<style scoped>\n",
       "    .dataframe tbody tr th:only-of-type {\n",
       "        vertical-align: middle;\n",
       "    }\n",
       "\n",
       "    .dataframe tbody tr th {\n",
       "        vertical-align: top;\n",
       "    }\n",
       "\n",
       "    .dataframe thead th {\n",
       "        text-align: right;\n",
       "    }\n",
       "</style>\n",
       "<table border=\"1\" class=\"dataframe\">\n",
       "  <thead>\n",
       "    <tr style=\"text-align: right;\">\n",
       "      <th></th>\n",
       "      <th>x</th>\n",
       "      <th>y1</th>\n",
       "      <th>y2</th>\n",
       "    </tr>\n",
       "  </thead>\n",
       "  <tbody>\n",
       "    <tr>\n",
       "      <th>0</th>\n",
       "      <td>1.875541</td>\n",
       "      <td>18.573517</td>\n",
       "      <td>16.870213</td>\n",
       "    </tr>\n",
       "    <tr>\n",
       "      <th>1</th>\n",
       "      <td>-0.448703</td>\n",
       "      <td>7.364952</td>\n",
       "      <td>10.106901</td>\n",
       "    </tr>\n",
       "    <tr>\n",
       "      <th>2</th>\n",
       "      <td>-0.641777</td>\n",
       "      <td>6.004671</td>\n",
       "      <td>-2.163986</td>\n",
       "    </tr>\n",
       "    <tr>\n",
       "      <th>3</th>\n",
       "      <td>1.828346</td>\n",
       "      <td>18.961460</td>\n",
       "      <td>19.206373</td>\n",
       "    </tr>\n",
       "    <tr>\n",
       "      <th>4</th>\n",
       "      <td>0.293795</td>\n",
       "      <td>11.082350</td>\n",
       "      <td>10.613681</td>\n",
       "    </tr>\n",
       "  </tbody>\n",
       "</table>\n",
       "</div>"
      ],
      "text/plain": [
       "          x         y1         y2\n",
       "0  1.875541  18.573517  16.870213\n",
       "1 -0.448703   7.364952  10.106901\n",
       "2 -0.641777   6.004671  -2.163986\n",
       "3  1.828346  18.961460  19.206373\n",
       "4  0.293795  11.082350  10.613681"
      ]
     },
     "execution_count": 2,
     "metadata": {},
     "output_type": "execute_result"
    }
   ],
   "source": [
    "df = pd.read_csv(\"dataset/datos_regresion.csv\")\n",
    "del(df[\"Unnamed: 0\"])\n",
    "df.head()"
   ]
  },
  {
   "cell_type": "markdown",
   "metadata": {
    "nbgrader": {
     "grade": false,
     "grade_id": "cell-21eb980fbf442638",
     "locked": true,
     "schema_version": 3,
     "solution": false,
     "task": false
    }
   },
   "source": [
    "Reconocer algunas características del conjunto de datos."
   ]
  },
  {
   "cell_type": "code",
   "execution_count": 3,
   "metadata": {
    "scrolled": true
   },
   "outputs": [
    {
     "name": "stdout",
     "output_type": "stream",
     "text": [
      "<class 'pandas.core.frame.DataFrame'>\n",
      "RangeIndex: 200 entries, 0 to 199\n",
      "Data columns (total 3 columns):\n",
      " #   Column  Non-Null Count  Dtype  \n",
      "---  ------  --------------  -----  \n",
      " 0   x       200 non-null    float64\n",
      " 1   y1      200 non-null    float64\n",
      " 2   y2      200 non-null    float64\n",
      "dtypes: float64(3)\n",
      "memory usage: 4.8 KB\n"
     ]
    }
   ],
   "source": [
    "df.info()"
   ]
  },
  {
   "cell_type": "markdown",
   "metadata": {
    "nbgrader": {
     "grade": false,
     "grade_id": "cell-b2b894b5d92498db",
     "locked": true,
     "schema_version": 3,
     "solution": false,
     "task": false
    }
   },
   "source": [
    "## Graficar los datos"
   ]
  },
  {
   "cell_type": "code",
   "execution_count": 4,
   "metadata": {},
   "outputs": [
    {
     "data": {
      "image/png": "[encoded data removed]",
      "text/plain": [
       "<Figure size 648x504 with 2 Axes>"
      ]
     },
     "metadata": {
      "needs_background": "light"
     },
     "output_type": "display_data"
    }
   ],
   "source": [
    "fig,axs = plt.subplots(1,2,figsize=(9, 7))\n",
    "\n",
    "sns.set_style(\"whitegrid\")\n",
    "\n",
    "# Y1\n",
    "sns.scatterplot(data=df,x=df[\"x\"],y=df[\"y1\"],ax=axs[0])\n",
    "axs[0].set_title(\"$X$ VS. $Y_1$\")\n",
    "\n",
    "# Y2\n",
    "sns.scatterplot(data=df,x=df[\"x\"],y=df[\"y2\"],ax=axs[1])\n",
    "axs[1].set_title(\"$X$ VS. $Y_2$\")\n",
    "\n",
    "plt.show()"
   ]
  },
  {
   "cell_type": "markdown",
   "metadata": {
    "nbgrader": {
     "grade": false,
     "grade_id": "cell-73e9e73b01205de5",
     "locked": true,
     "schema_version": 3,
     "solution": false,
     "task": false
    }
   },
   "source": [
    "## Estadísticas descriptiva de las variables dependientes (y1,y2)"
   ]
  },
  {
   "cell_type": "code",
   "execution_count": 5,
   "metadata": {},
   "outputs": [
    {
     "data": {
      "text/plain": [
       "count    200.000000\n",
       "mean       9.973801\n",
       "std        4.556937\n",
       "min       -7.426062\n",
       "25%        7.009807\n",
       "50%       10.202157\n",
       "75%       13.334931\n",
       "max       20.108906\n",
       "Name: y1, dtype: float64"
      ]
     },
     "execution_count": 5,
     "metadata": {},
     "output_type": "execute_result"
    }
   ],
   "source": [
    "df[\"y1\"].describe()"
   ]
  },
  {
   "cell_type": "code",
   "execution_count": 6,
   "metadata": {},
   "outputs": [
    {
     "data": {
      "text/plain": [
       "count    200.000000\n",
       "mean      10.079613\n",
       "std        5.057934\n",
       "min       -4.377556\n",
       "25%        6.474734\n",
       "50%       10.034785\n",
       "75%       13.474262\n",
       "max       26.204383\n",
       "Name: y2, dtype: float64"
      ]
     },
     "execution_count": 6,
     "metadata": {},
     "output_type": "execute_result"
    }
   ],
   "source": [
    "df[\"y2\"].describe()"
   ]
  },
  {
   "cell_type": "markdown",
   "metadata": {
    "nbgrader": {
     "grade": false,
     "grade_id": "cell-956427824c4ecf17",
     "locked": true,
     "schema_version": 3,
     "solution": false,
     "task": false
    }
   },
   "source": [
    "### Histogramas relativos"
   ]
  },
  {
   "cell_type": "markdown",
   "metadata": {
    "nbgrader": {
     "grade": false,
     "grade_id": "cell-1b51deb5ebfa6942",
     "locked": true,
     "schema_version": 3,
     "solution": false,
     "task": false
    }
   },
   "source": [
    "¿Los histogramas se asemejan a una forma conocida?¿tal que a una distribución de densidad de probabilidad?"
   ]
  },
  {
   "cell_type": "code",
   "execution_count": 7,
   "metadata": {},
   "outputs": [
    {
     "data": {
      "image/png": "[encoded data removed]",
      "text/plain": [
       "<Figure size 432x288 with 1 Axes>"
      ]
     },
     "metadata": {},
     "output_type": "display_data"
    }
   ],
   "source": [
    "sns.distplot(df[\"y1\"],kde=True, kde_kws={\"color\":\"tab:blue\"}, hist_kws={\"color\":\"tab:orange\"})\n",
    "plt.show()"
   ]
  },
  {
   "cell_type": "code",
   "execution_count": 8,
   "metadata": {
    "scrolled": true
   },
   "outputs": [
    {
     "data": {
      "image/png": "[encoded data removed]",
      "text/plain": [
       "<Figure size 432x288 with 1 Axes>"
      ]
     },
     "metadata": {},
     "output_type": "display_data"
    }
   ],
   "source": [
    "sns.distplot(df[\"y2\"],kde=True, kde_kws={\"color\":\"tab:blue\"}, hist_kws={\"color\":\"tab:orange\"})\n",
    "plt.show()"
   ]
  },
  {
   "cell_type": "markdown",
   "metadata": {
    "nbgrader": {
     "grade": false,
     "grade_id": "cell-c661d924fb609c44",
     "locked": true,
     "schema_version": 3,
     "solution": false,
     "task": false
    }
   },
   "source": [
    "# Regresión Lineal Versión 1"
   ]
  },
  {
   "cell_type": "markdown",
   "metadata": {
    "nbgrader": {
     "grade": false,
     "grade_id": "cell-ad0f5400b2fb7fca",
     "locked": true,
     "schema_version": 3,
     "solution": false,
     "task": false
    }
   },
   "source": [
    "Para desarrollar los modelos *Versión 1* se utilizará el modelo *LinearRegression*, el cual calcula el valor de los parámetros (betas) por media de un algoritmo de minimización del error cuadrático medio (MSE por sus siglas en ingles). El desempeño de un algoritmo, así como los parámetros que calcula dependen de la forma de la función que se desea minimizar, como se verá más adelante."
   ]
  },
  {
   "cell_type": "markdown",
   "metadata": {
    "nbgrader": {
     "grade": false,
     "grade_id": "cell-1c81a11c826f9dfd",
     "locked": true,
     "schema_version": 3,
     "solution": false,
     "task": false
    }
   },
   "source": [
    "## Modelo de regresión lineal $Y_1$"
   ]
  },
  {
   "cell_type": "markdown",
   "metadata": {
    "nbgrader": {
     "grade": false,
     "grade_id": "cell-dba530b235c4c666",
     "locked": true,
     "schema_version": 3,
     "solution": false,
     "task": false
    }
   },
   "source": [
    "Se genera un modelo de regresión lineal por medio de la función *LinearRegression* de **sklearn**. El modelo contiene una sola variable explicativa $x$, una variable dependiente $y1$ y un conjunto de entrenamiento de $70\\%$."
   ]
  },
  {
   "cell_type": "code",
   "execution_count": 9,
   "metadata": {},
   "outputs": [],
   "source": [
    "x = df[[\"x\"]]\n",
    "y1 = df[[\"y1\"]]\n",
    "y2 = df[[\"y2\"]]"
   ]
  },
  {
   "cell_type": "code",
   "execution_count": 10,
   "metadata": {},
   "outputs": [],
   "source": [
    "X_train, X_test, y_train, y_test = train_test_split(x, y1, test_size=0.3, random_state=42)\n",
    "linreg = LinearRegression()\n",
    "linreg.fit(X_train, y_train)\n",
    "\n",
    "y_pred = linreg.predict(X_test)"
   ]
  },
  {
   "cell_type": "markdown",
   "metadata": {
    "nbgrader": {
     "grade": false,
     "grade_id": "cell-8dcf23cffd9e143b",
     "locked": true,
     "schema_version": 3,
     "solution": false,
     "task": false
    }
   },
   "source": [
    "¿Qué valores toma $\\beta_{0}$ y $\\beta_{1}$?"
   ]
  },
  {
   "cell_type": "code",
   "execution_count": 11,
   "metadata": {},
   "outputs": [
    {
     "name": "stdout",
     "output_type": "stream",
     "text": [
      "El intercepto es: [10.06712786]  y la pendiente es [5.25805492]\n"
     ]
    }
   ],
   "source": [
    "beta0 = linreg.intercept_\n",
    "beta1 = linreg.coef_\n",
    "print(f\"El intercepto es: {beta0}  y la pendiente es {beta1[0]}\")"
   ]
  },
  {
   "cell_type": "markdown",
   "metadata": {
    "nbgrader": {
     "grade": false,
     "grade_id": "cell-f88203b18c418a62",
     "locked": true,
     "schema_version": 3,
     "solution": false,
     "task": false
    }
   },
   "source": [
    "Como métricas para evaluar el modelo se utiliza el error cuadrático medio (*mean_squared_error*) y el error absoluto medio (*mean_absolute_error*)."
   ]
  },
  {
   "cell_type": "code",
   "execution_count": 12,
   "metadata": {},
   "outputs": [
    {
     "name": "stdout",
     "output_type": "stream",
     "text": [
      "MSE: 3.6563\n",
      "MAE: 1.5563\n"
     ]
    }
   ],
   "source": [
    "mse = mean_squared_error(y_test,y_pred)\n",
    "mae = mean_absolute_error(y_test,y_pred)\n",
    "print(f'MSE: {round(mse,4)}')\n",
    "print(f'MAE: {round(mae,4)}')"
   ]
  },
  {
   "cell_type": "markdown",
   "metadata": {
    "nbgrader": {
     "grade": false,
     "grade_id": "cell-d3642e590d381ec1",
     "locked": true,
     "schema_version": 3,
     "solution": false,
     "task": false
    }
   },
   "source": [
    "Se calcula el vector de error del modelo"
   ]
  },
  {
   "cell_type": "code",
   "execution_count": 13,
   "metadata": {},
   "outputs": [
    {
     "data": {
      "text/html": [
       "<div>\n",
       "<style scoped>\n",
       "    .dataframe tbody tr th:only-of-type {\n",
       "        vertical-align: middle;\n",
       "    }\n",
       "\n",
       "    .dataframe tbody tr th {\n",
       "        vertical-align: top;\n",
       "    }\n",
       "\n",
       "    .dataframe thead th {\n",
       "        text-align: right;\n",
       "    }\n",
       "</style>\n",
       "<table border=\"1\" class=\"dataframe\">\n",
       "  <thead>\n",
       "    <tr style=\"text-align: right;\">\n",
       "      <th></th>\n",
       "      <th>y1</th>\n",
       "    </tr>\n",
       "  </thead>\n",
       "  <tbody>\n",
       "    <tr>\n",
       "      <th>95</th>\n",
       "      <td>0.186075</td>\n",
       "    </tr>\n",
       "    <tr>\n",
       "      <th>15</th>\n",
       "      <td>-4.356532</td>\n",
       "    </tr>\n",
       "    <tr>\n",
       "      <th>30</th>\n",
       "      <td>0.048625</td>\n",
       "    </tr>\n",
       "    <tr>\n",
       "      <th>158</th>\n",
       "      <td>1.328049</td>\n",
       "    </tr>\n",
       "    <tr>\n",
       "      <th>128</th>\n",
       "      <td>1.523241</td>\n",
       "    </tr>\n",
       "  </tbody>\n",
       "</table>\n",
       "</div>"
      ],
      "text/plain": [
       "           y1\n",
       "95   0.186075\n",
       "15  -4.356532\n",
       "30   0.048625\n",
       "158  1.328049\n",
       "128  1.523241"
      ]
     },
     "execution_count": 13,
     "metadata": {},
     "output_type": "execute_result"
    }
   ],
   "source": [
    "error1 = y_test - y_pred\n",
    "error1.head()"
   ]
  },
  {
   "cell_type": "code",
   "execution_count": 14,
   "metadata": {},
   "outputs": [
    {
     "data": {
      "image/png": "[encoded data removed]",
      "text/plain": [
       "<Figure size 432x288 with 1 Axes>"
      ]
     },
     "metadata": {},
     "output_type": "display_data"
    }
   ],
   "source": [
    "sns.distplot(error1,kde=True,hist_kws={\"color\":\"tab:orange\"})\n",
    "plt.show()"
   ]
  },
  {
   "cell_type": "markdown",
   "metadata": {
    "nbgrader": {
     "grade": false,
     "grade_id": "cell-42d840fe18ef189b",
     "locked": true,
     "schema_version": 3,
     "solution": false,
     "task": false
    }
   },
   "source": [
    "## Modelo de regresión lineal $Y_2$"
   ]
  },
  {
   "cell_type": "code",
   "execution_count": 15,
   "metadata": {},
   "outputs": [],
   "source": [
    "X_train, X_test, y_train, y_test = train_test_split(x, y2, test_size=0.3, random_state=42)\n",
    "linreg = LinearRegression()\n",
    "linreg.fit(X_train, y_train)\n",
    "\n",
    "y_pred = linreg.predict(X_test)"
   ]
  },
  {
   "cell_type": "code",
   "execution_count": 16,
   "metadata": {},
   "outputs": [
    {
     "name": "stdout",
     "output_type": "stream",
     "text": [
      "MSE: 13.1251\n",
      "MAE: 2.5136\n"
     ]
    }
   ],
   "source": [
    "mse = mean_squared_error(y_test,y_pred)\n",
    "mae = mean_absolute_error(y_test,y_pred)\n",
    "print(f'MSE: {round(mse,4)}')\n",
    "print(f'MAE: {round(mae,4)}')"
   ]
  },
  {
   "cell_type": "code",
   "execution_count": 17,
   "metadata": {},
   "outputs": [
    {
     "data": {
      "text/html": [
       "<div>\n",
       "<style scoped>\n",
       "    .dataframe tbody tr th:only-of-type {\n",
       "        vertical-align: middle;\n",
       "    }\n",
       "\n",
       "    .dataframe tbody tr th {\n",
       "        vertical-align: top;\n",
       "    }\n",
       "\n",
       "    .dataframe thead th {\n",
       "        text-align: right;\n",
       "    }\n",
       "</style>\n",
       "<table border=\"1\" class=\"dataframe\">\n",
       "  <thead>\n",
       "    <tr style=\"text-align: right;\">\n",
       "      <th></th>\n",
       "      <th>y2</th>\n",
       "    </tr>\n",
       "  </thead>\n",
       "  <tbody>\n",
       "    <tr>\n",
       "      <th>95</th>\n",
       "      <td>0.698761</td>\n",
       "    </tr>\n",
       "    <tr>\n",
       "      <th>15</th>\n",
       "      <td>2.214989</td>\n",
       "    </tr>\n",
       "    <tr>\n",
       "      <th>30</th>\n",
       "      <td>-0.040264</td>\n",
       "    </tr>\n",
       "    <tr>\n",
       "      <th>158</th>\n",
       "      <td>-0.223026</td>\n",
       "    </tr>\n",
       "    <tr>\n",
       "      <th>128</th>\n",
       "      <td>5.988654</td>\n",
       "    </tr>\n",
       "  </tbody>\n",
       "</table>\n",
       "</div>"
      ],
      "text/plain": [
       "           y2\n",
       "95   0.698761\n",
       "15   2.214989\n",
       "30  -0.040264\n",
       "158 -0.223026\n",
       "128  5.988654"
      ]
     },
     "execution_count": 17,
     "metadata": {},
     "output_type": "execute_result"
    }
   ],
   "source": [
    "error2 = y_test - y_pred\n",
    "error2.head()"
   ]
  },
  {
   "cell_type": "markdown",
   "metadata": {
    "nbgrader": {
     "grade": false,
     "grade_id": "cell-087dde58fef0e8ff",
     "locked": true,
     "schema_version": 3,
     "solution": false,
     "task": false
    }
   },
   "source": [
    "La forma del histograma es particular, es simetrica, pero no se ajusta al comportamiento usual de una distribución normal. **Investigue sobre la distribución de Laplace**."
   ]
  },
  {
   "cell_type": "code",
   "execution_count": 18,
   "metadata": {
    "scrolled": true
   },
   "outputs": [
    {
     "data": {
      "image/png": "[encoded data removed]",
      "text/plain": [
       "<Figure size 432x288 with 1 Axes>"
      ]
     },
     "metadata": {},
     "output_type": "display_data"
    }
   ],
   "source": [
    "sns.distplot(error2,kde=True,hist_kws={\"color\":\"tab:orange\"})\n",
    "plt.show()"
   ]
  },
  {
   "cell_type": "markdown",
   "metadata": {
    "nbgrader": {
     "grade": false,
     "grade_id": "cell-47218b4bbeeb42ae",
     "locked": true,
     "schema_version": 3,
     "solution": false,
     "task": false
    }
   },
   "source": [
    "# Regresión Lineal Versión 2\n"
   ]
  },
  {
   "cell_type": "markdown",
   "metadata": {
    "nbgrader": {
     "grade": false,
     "grade_id": "cell-623f288245fb5cb0",
     "locked": true,
     "schema_version": 3,
     "solution": false,
     "task": false
    }
   },
   "source": [
    "## Modelo 1"
   ]
  },
  {
   "cell_type": "markdown",
   "metadata": {},
   "source": [
    "El modelo contiene una sola variable explicativa $x$, una variable dependiente $y1$ y un conjunto de entrenamiento de $70\\%$ de los datos."
   ]
  },
  {
   "cell_type": "code",
   "execution_count": 19,
   "metadata": {},
   "outputs": [],
   "source": [
    "X_train, X_test, y_train, y_test = train_test_split(x, y1, test_size=0.3, random_state=42)\n",
    "df_m1_v2 = pd.concat([X_train,y_train],axis=1,join='inner')"
   ]
  },
  {
   "cell_type": "code",
   "execution_count": 20,
   "metadata": {},
   "outputs": [
    {
     "name": "stdout",
     "output_type": "stream",
     "text": [
      "                         QuantReg Regression Results                          \n",
      "==============================================================================\n",
      "Dep. Variable:                     y1   Pseudo R-squared:               0.6043\n",
      "Model:                       QuantReg   Bandwidth:                       1.685\n",
      "Method:                 Least Squares   Sparsity:                        4.699\n",
      "Date:                Thu, 24 Nov 2022   No. Observations:                  140\n",
      "Time:                        18:51:44   Df Residuals:                      138\n",
      "                                        Df Model:                            1\n",
      "==============================================================================\n",
      "                 coef    std err          t      P>|t|      [0.025      0.975]\n",
      "------------------------------------------------------------------------------\n",
      "Intercept      9.9487      0.199     49.923      0.000       9.555      10.343\n",
      "x              5.2592      0.241     21.820      0.000       4.783       5.736\n",
      "==============================================================================\n"
     ]
    }
   ],
   "source": [
    "mod = smf.quantreg('y1 ~ x', df_m1_v2)\n",
    "res = mod.fit(q=.5)\n",
    "print(res.summary())"
   ]
  },
  {
   "cell_type": "markdown",
   "metadata": {
    "nbgrader": {
     "grade": false,
     "grade_id": "cell-5765aae65e271afc",
     "locked": true,
     "schema_version": 3,
     "solution": false,
     "task": false
    }
   },
   "source": [
    "El nuevo modelo (la versión 2 de regresión lineal) difiere del primero en la forma en que calcula los parámetros. En particular, el modelo actual utiliza el error medio absoluto para entrenar el modelo. Para más información revise los siguientes enlaces: https://stats.stackexchange.com/questions/388341/linear-regression-minimising-mad-in-sklearn, https://www.datasciencecentral.com/quantile-regression-in-python/."
   ]
  },
  {
   "cell_type": "code",
   "execution_count": 21,
   "metadata": {},
   "outputs": [
    {
     "name": "stdout",
     "output_type": "stream",
     "text": [
      "[9.94869951258705, 5.259204075680665]\n"
     ]
    }
   ],
   "source": [
    "w = [res.params['Intercept'],res.params['x']]\n",
    "print(w)"
   ]
  },
  {
   "cell_type": "markdown",
   "metadata": {
    "nbgrader": {
     "grade": false,
     "grade_id": "cell-6f792f60b54d9d72",
     "locked": true,
     "schema_version": 3,
     "solution": false,
     "task": false
    }
   },
   "source": [
    "### Probar el modelo"
   ]
  },
  {
   "cell_type": "markdown",
   "metadata": {
    "nbgrader": {
     "grade": false,
     "grade_id": "cell-e8df91b2050264c5",
     "locked": true,
     "schema_version": 3,
     "solution": false,
     "task": false
    }
   },
   "source": [
    "Ahora se desea corroborar el modelo por medio de la predicción de los datos"
   ]
  },
  {
   "cell_type": "code",
   "execution_count": 22,
   "metadata": {},
   "outputs": [],
   "source": [
    "y_pred_y1 = w[0] + w[1]*x"
   ]
  },
  {
   "cell_type": "code",
   "execution_count": 23,
   "metadata": {
    "scrolled": false
   },
   "outputs": [
    {
     "data": {
      "image/png": "[encoded data removed]",
      "text/plain": [
       "<Figure size 648x504 with 1 Axes>"
      ]
     },
     "metadata": {},
     "output_type": "display_data"
    }
   ],
   "source": [
    "fig, ax = plt.subplots(figsize=(9, 7))\n",
    "sns.set_style(\"whitegrid\")\n",
    "\n",
    "sns.scatterplot(data=df,x=df[\"x\"],y=df[\"y1\"])\n",
    "sns.regplot(x=df[\"x\"],y=y_pred_y1,color=\"lightgreen\")\n",
    "axs[0].set_title(\"$X$ VS. $Y_1$\")\n",
    "fig.show()"
   ]
  },
  {
   "cell_type": "code",
   "execution_count": 24,
   "metadata": {},
   "outputs": [
    {
     "name": "stdout",
     "output_type": "stream",
     "text": [
      "MSE: 3.6998\n",
      "MAE: 1.5524\n"
     ]
    }
   ],
   "source": [
    "y_pred_y1 = w[0] + w[1]*X_test\n",
    "mse = mean_squared_error(y_test,y_pred_y1)\n",
    "mae = mean_absolute_error(y_test,y_pred_y1)\n",
    "print(f'MSE: {round(mse,4)}')\n",
    "print(f'MAE: {round(mae,4)}')"
   ]
  },
  {
   "cell_type": "code",
   "execution_count": 25,
   "metadata": {},
   "outputs": [
    {
     "data": {
      "text/html": [
       "<div>\n",
       "<style scoped>\n",
       "    .dataframe tbody tr th:only-of-type {\n",
       "        vertical-align: middle;\n",
       "    }\n",
       "\n",
       "    .dataframe tbody tr th {\n",
       "        vertical-align: top;\n",
       "    }\n",
       "\n",
       "    .dataframe thead th {\n",
       "        text-align: right;\n",
       "    }\n",
       "</style>\n",
       "<table border=\"1\" class=\"dataframe\">\n",
       "  <thead>\n",
       "    <tr style=\"text-align: right;\">\n",
       "      <th></th>\n",
       "      <th>y_1</th>\n",
       "      <th>y_1_pred</th>\n",
       "      <th>error</th>\n",
       "    </tr>\n",
       "  </thead>\n",
       "  <tbody>\n",
       "    <tr>\n",
       "      <th>5</th>\n",
       "      <td>8.711944</td>\n",
       "      <td>9.924019</td>\n",
       "      <td>-1.212076</td>\n",
       "    </tr>\n",
       "    <tr>\n",
       "      <th>9</th>\n",
       "      <td>14.259320</td>\n",
       "      <td>13.192382</td>\n",
       "      <td>1.066937</td>\n",
       "    </tr>\n",
       "    <tr>\n",
       "      <th>15</th>\n",
       "      <td>1.707617</td>\n",
       "      <td>5.944846</td>\n",
       "      <td>-4.237229</td>\n",
       "    </tr>\n",
       "    <tr>\n",
       "      <th>16</th>\n",
       "      <td>12.029384</td>\n",
       "      <td>12.050431</td>\n",
       "      <td>-0.021048</td>\n",
       "    </tr>\n",
       "    <tr>\n",
       "      <th>18</th>\n",
       "      <td>13.638309</td>\n",
       "      <td>13.934250</td>\n",
       "      <td>-0.295941</td>\n",
       "    </tr>\n",
       "  </tbody>\n",
       "</table>\n",
       "</div>"
      ],
      "text/plain": [
       "          y_1   y_1_pred     error\n",
       "5    8.711944   9.924019 -1.212076\n",
       "9   14.259320  13.192382  1.066937\n",
       "15   1.707617   5.944846 -4.237229\n",
       "16  12.029384  12.050431 -0.021048\n",
       "18  13.638309  13.934250 -0.295941"
      ]
     },
     "execution_count": 25,
     "metadata": {},
     "output_type": "execute_result"
    }
   ],
   "source": [
    "result = pd.concat([df[[\"y1\"]],y_pred_y1],axis=1, join='inner')\n",
    "result.columns = [\"y_1\",\"y_1_pred\"]\n",
    "result[\"error\"] = result.apply(lambda x: x[\"y_1\"]-x[\"y_1_pred\"],axis=1)\n",
    "result.head()"
   ]
  },
  {
   "cell_type": "code",
   "execution_count": 26,
   "metadata": {},
   "outputs": [
    {
     "data": {
      "image/png": "[encoded data removed]",
      "text/plain": [
       "<Figure size 432x288 with 1 Axes>"
      ]
     },
     "metadata": {},
     "output_type": "display_data"
    }
   ],
   "source": [
    "sns.distplot(result[\"error\"],kde=True,hist_kws={\"color\":\"tab:orange\"})\n",
    "plt.show()"
   ]
  },
  {
   "cell_type": "markdown",
   "metadata": {
    "nbgrader": {
     "grade": false,
     "grade_id": "cell-9671af3a9177a258",
     "locked": true,
     "schema_version": 3,
     "solution": false,
     "task": false
    }
   },
   "source": [
    "## Modelo 2"
   ]
  },
  {
   "cell_type": "markdown",
   "metadata": {
    "nbgrader": {
     "grade": false,
     "grade_id": "cell-d03c7326cdac544a",
     "locked": true,
     "schema_version": 3,
     "solution": false,
     "task": false
    }
   },
   "source": [
    "Se repite el procedimiento anterior, pero utilizando $y_2$ en lugar de $y_1$."
   ]
  },
  {
   "cell_type": "code",
   "execution_count": 27,
   "metadata": {},
   "outputs": [],
   "source": [
    "X_train, X_test, y_train, y_test = train_test_split(x, y2, test_size=0.3, random_state=42)\n",
    "df_m2_v2 = pd.concat([X_train,y_train],axis=1,join='inner')"
   ]
  },
  {
   "cell_type": "code",
   "execution_count": 28,
   "metadata": {},
   "outputs": [
    {
     "name": "stdout",
     "output_type": "stream",
     "text": [
      "                         QuantReg Regression Results                          \n",
      "==============================================================================\n",
      "Dep. Variable:                     y2   Pseudo R-squared:               0.5293\n",
      "Model:                       QuantReg   Bandwidth:                       1.568\n",
      "Method:                 Least Squares   Sparsity:                        4.564\n",
      "Date:                Thu, 24 Nov 2022   No. Observations:                  140\n",
      "Time:                        18:53:11   Df Residuals:                      138\n",
      "                                        Df Model:                            1\n",
      "==============================================================================\n",
      "                 coef    std err          t      P>|t|      [0.025      0.975]\n",
      "------------------------------------------------------------------------------\n",
      "Intercept     10.2907      0.194     53.163      0.000       9.908      10.673\n",
      "x              5.1801      0.234     22.126      0.000       4.717       5.643\n",
      "==============================================================================\n"
     ]
    }
   ],
   "source": [
    "mod = smf.quantreg('y2 ~ x', df_m2_v2)\n",
    "res = mod.fit(q=.5)\n",
    "print(res.summary())"
   ]
  },
  {
   "cell_type": "code",
   "execution_count": 29,
   "metadata": {},
   "outputs": [
    {
     "name": "stdout",
     "output_type": "stream",
     "text": [
      "[10.290681045284245, 5.180067862927758]\n"
     ]
    }
   ],
   "source": [
    "w = [res.params['Intercept'],res.params['x']]\n",
    "print(w)"
   ]
  },
  {
   "cell_type": "markdown",
   "metadata": {
    "nbgrader": {
     "grade": false,
     "grade_id": "cell-fdc63b322209f652",
     "locked": true,
     "schema_version": 3,
     "solution": false,
     "task": false
    }
   },
   "source": [
    "### Probar el modelo"
   ]
  },
  {
   "cell_type": "markdown",
   "metadata": {
    "nbgrader": {
     "grade": false,
     "grade_id": "cell-acf418ba9c7b87fb",
     "locked": true,
     "schema_version": 3,
     "solution": false,
     "task": false
    }
   },
   "source": [
    "Ahora se desea corroborar el modelo por medio de la predicción de los datos"
   ]
  },
  {
   "cell_type": "code",
   "execution_count": 30,
   "metadata": {
    "nbgrader": {
     "grade": true,
     "grade_id": "cell-016adb99213b85a8",
     "locked": true,
     "points": 20,
     "schema_version": 3,
     "solution": false,
     "task": false
    }
   },
   "outputs": [],
   "source": [
    "# =====================================================\n",
    "# COMPLETAR ===========================================\n",
    "# reemplace 0 por la expresión correcta para y_pred_y2 \n",
    "#\n",
    "y_pred_y2 = np.zeros(len(x))\n",
    "# ====================================================="
   ]
  },
  {
   "cell_type": "code",
   "execution_count": 31,
   "metadata": {
    "nbgrader": {
     "grade": true,
     "grade_id": "cell-51afd2c84f0c2146",
     "locked": true,
     "points": 20,
     "schema_version": 3,
     "solution": false,
     "task": false
    },
    "scrolled": true
   },
   "outputs": [
    {
     "data": {
      "image/png": "[encoded data removed]",
      "text/plain": [
       "<Figure size 648x504 with 1 Axes>"
      ]
     },
     "metadata": {},
     "output_type": "display_data"
    }
   ],
   "source": [
    "fig, ax = plt.subplots(figsize=(9, 7))\n",
    "sns.set_style(\"whitegrid\")\n",
    "\n",
    "sns.scatterplot(data=df,x=df[\"x\"],y=df[\"y2\"])\n",
    "sns.regplot(x=df[\"x\"],y=y_pred_y2,color=\"lightgreen\")\n",
    "axs[0].set_title(\"$X$ VS. $Y_1$\")\n",
    "fig.show()"
   ]
  },
  {
   "cell_type": "code",
   "execution_count": 32,
   "metadata": {
    "nbgrader": {
     "grade": true,
     "grade_id": "cell-66dc5c591678a89b",
     "locked": true,
     "points": 30,
     "schema_version": 3,
     "solution": false,
     "task": false
    }
   },
   "outputs": [
    {
     "name": "stdout",
     "output_type": "stream",
     "text": [
      "MSE: 0\n",
      "MAE: 0\n"
     ]
    }
   ],
   "source": [
    "y_pred_y2 = w[0] + w[1]*X_test\n",
    "# =====================================================\n",
    "# COMPLETAR ===========================================\n",
    "# reemplace 0 por la expresión correcta para mse y para mae\n",
    "#\n",
    "mse = 0\n",
    "mae = 0\n",
    "# =====================================================\n",
    "\n",
    "print(f'MSE: {round(mse,4)}')\n",
    "print(f'MAE: {round(mae,4)}')"
   ]
  },
  {
   "cell_type": "code",
   "execution_count": 33,
   "metadata": {
    "nbgrader": {
     "grade": true,
     "grade_id": "cell-fa3e338a1992f742",
     "locked": true,
     "points": 30,
     "schema_version": 3,
     "solution": false,
     "task": false
    }
   },
   "outputs": [
    {
     "data": {
      "text/html": [
       "<div>\n",
       "<style scoped>\n",
       "    .dataframe tbody tr th:only-of-type {\n",
       "        vertical-align: middle;\n",
       "    }\n",
       "\n",
       "    .dataframe tbody tr th {\n",
       "        vertical-align: top;\n",
       "    }\n",
       "\n",
       "    .dataframe thead th {\n",
       "        text-align: right;\n",
       "    }\n",
       "</style>\n",
       "<table border=\"1\" class=\"dataframe\">\n",
       "  <thead>\n",
       "    <tr style=\"text-align: right;\">\n",
       "      <th></th>\n",
       "      <th>y_2</th>\n",
       "      <th>y_2_pred</th>\n",
       "      <th>error</th>\n",
       "    </tr>\n",
       "  </thead>\n",
       "  <tbody>\n",
       "    <tr>\n",
       "      <th>95</th>\n",
       "      <td>16.762024</td>\n",
       "      <td>16.236698</td>\n",
       "      <td>0.525326</td>\n",
       "    </tr>\n",
       "    <tr>\n",
       "      <th>15</th>\n",
       "      <td>8.396639</td>\n",
       "      <td>6.347074</td>\n",
       "      <td>2.049565</td>\n",
       "    </tr>\n",
       "    <tr>\n",
       "      <th>30</th>\n",
       "      <td>7.304447</td>\n",
       "      <td>7.511077</td>\n",
       "      <td>-0.206630</td>\n",
       "    </tr>\n",
       "    <tr>\n",
       "      <th>158</th>\n",
       "      <td>15.276371</td>\n",
       "      <td>15.672375</td>\n",
       "      <td>-0.396004</td>\n",
       "    </tr>\n",
       "    <tr>\n",
       "      <th>128</th>\n",
       "      <td>16.696876</td>\n",
       "      <td>10.877316</td>\n",
       "      <td>5.819560</td>\n",
       "    </tr>\n",
       "  </tbody>\n",
       "</table>\n",
       "</div>"
      ],
      "text/plain": [
       "           y_2   y_2_pred     error\n",
       "95   16.762024  16.236698  0.525326\n",
       "15    8.396639   6.347074  2.049565\n",
       "30    7.304447   7.511077 -0.206630\n",
       "158  15.276371  15.672375 -0.396004\n",
       "128  16.696876  10.877316  5.819560"
      ]
     },
     "execution_count": 33,
     "metadata": {},
     "output_type": "execute_result"
    }
   ],
   "source": [
    "result = pd.concat([y_test,y_pred_y2],axis=1, join='inner')\n",
    "result.columns = [\"y_2\",\"y_2_pred\"]\n",
    "result[\"error\"] = result.apply(lambda x: x[\"y_2\"]-x[\"y_2_pred\"],axis=1)\n",
    "result.head()"
   ]
  },
  {
   "cell_type": "code",
   "execution_count": 34,
   "metadata": {},
   "outputs": [
    {
     "data": {
      "image/png": "[encoded data removed]",
      "text/plain": [
       "<Figure size 432x288 with 1 Axes>"
      ]
     },
     "metadata": {},
     "output_type": "display_data"
    }
   ],
   "source": [
    "sns.distplot(result[\"error\"],kde=True,hist_kws={\"color\":\"tab:orange\"})\n",
    "plt.show()"
   ]
  }
 ],
 "metadata": {
  "celltoolbar": "Create Assignment",
  "kernelspec": {
   "display_name": "Python 3",
   "language": "python",
   "name": "python3"
  },
  "language_info": {
   "codemirror_mode": {
    "name": "ipython",
    "version": 3
   },
   "file_extension": ".py",
   "mimetype": "text/x-python",
   "name": "python",
   "nbconvert_exporter": "python",
   "pygments_lexer": "ipython3",
   "version": "3.7.6"
  },
  "toc": {
   "base_numbering": 1,
   "nav_menu": {},
   "number_sections": true,
   "sideBar": true,
   "skip_h1_title": false,
   "title_cell": "Table of Contents",
   "title_sidebar": "Contents",
   "toc_cell": false,
   "toc_position": {
    "height": "calc(100% - 180px)",
    "left": "10px",
    "top": "150px",
    "width": "384px"
   },
   "toc_section_display": true,
   "toc_window_display": true
  }
 },
 "nbformat": 4,
 "nbformat_minor": 4
}
